{
 "cells": [
  {
   "cell_type": "markdown",
   "metadata": {
    "id": "GdBxd1jm3ttj"
   },
   "source": [
    "This dataset include data for the estimation of obesity levels in individuals from the countries of Mexico, Peru and Colombia, based on their eating habits and physical condition"
   ]
  },
  {
   "cell_type": "markdown",
   "metadata": {
    "id": "jnYWUEnbewK_"
   },
   "source": [
    "Data Science Workflow:\n",
    "1.  Mount drive\n",
    "2.  Import libraries\n",
    "3.  Import/load file\n",
    "4.  EDA\n",
    "5.  Data Cleaning\n",
    "6.  Data visualization\n",
    "7.  Data pre-processing\n",
    "8.  Machine learning\n",
    "9.  Deep learning\n",
    "10. Model evaluation\n",
    "11. Save the model\n"
   ]
  },
  {
   "cell_type": "markdown",
   "metadata": {
    "id": "G47lE0N_ppTc"
   },
   "source": [
    "##Data Dictionary\n",
    "\n",
    "Gender\n",
    "\n",
    "Age\n",
    "\n",
    "Height\n",
    "\n",
    "Weight\n",
    "\n",
    "Frequent consumption of high caloric food (FAVC)\n",
    "\n",
    "Frequency of consumption of vegetables (FCVC)\n",
    "\n",
    "Number of main meals (NCP)\n",
    "\n",
    "Consumption of food between meals (CAEC)\n",
    "\n",
    "Consumption of water daily (CH20)\n",
    "\n",
    "Consumption of alcohol (CALC)\n",
    "\n",
    "Calories consumption monitoring (SCC)\n",
    "\n",
    "Physical activity frequency (FAF)\n",
    "\n",
    "Time using technology devices (TUE)\n",
    "\n",
    "Transportation used (MTRANS)\n",
    "\n",
    "Obesity Levels (NObeyesdad)\n",
    "\n",
    "Body Mass Index classification\n",
    "- Underweight Less than 18.5\n",
    "- Normal 18.5 to 24.9\n",
    "- Overweight 25.0 to 29.9\n",
    "- Obesity I 30.0 to 34.9\n",
    "- Obesity II 35.0 to 39.9\n",
    "- Obesity III Higher than 40"
   ]
  },
  {
   "cell_type": "code",
   "execution_count": 1,
   "metadata": {
    "colab": {
     "base_uri": "https://localhost:8080/"
    },
    "executionInfo": {
     "elapsed": 30820,
     "status": "ok",
     "timestamp": 1700829052982,
     "user": {
      "displayName": "Jan",
      "userId": "15086773509541200420"
     },
     "user_tz": -480
    },
    "id": "5jQuwLE_es5W",
    "outputId": "59caa904-585e-4286-a464-9308c25d84d4"
   },
   "outputs": [],
   "source": [
    "# from google.colab import drive\n",
    "# drive.mount('/content/drive')"
   ]
  },
  {
   "cell_type": "code",
   "execution_count": 6,
   "metadata": {
    "executionInfo": {
     "elapsed": 3337,
     "status": "ok",
     "timestamp": 1700829069585,
     "user": {
      "displayName": "Jan",
      "userId": "15086773509541200420"
     },
     "user_tz": -480
    },
    "id": "1kWu6hf7e7Kz"
   },
   "outputs": [],
   "source": [
    "# import libraries\n",
    "import pandas as pd\n",
    "import numpy as np\n",
    "import matplotlib.pyplot as plt\n",
    "import seaborn as sns\n",
    "from seaborn import heatmap\n",
    "\n",
    "# preprocessing\n",
    "from sklearn.preprocessing import StandardScaler, OneHotEncoder, OrdinalEncoder\n",
    "from sklearn.model_selection import train_test_split\n",
    "from sklearn.compose import make_column_selector, make_column_transformer\n",
    "from sklearn.pipeline import make_pipeline\n",
    "\n",
    "\n",
    "# models\n",
    "from sklearn.neighbors import KNeighborsClassifier\n",
    "from sklearn.ensemble import RandomForestClassifier\n",
    "from xgboost import XGBClassifier\n",
    "\n",
    "\n",
    "# metrics\n",
    "from sklearn import metrics\n",
    "from sklearn.metrics import accuracy_score, recall_score, precision_score, f1_score, classification_report, confusion_matrix\n",
    "from sklearn.metrics import ConfusionMatrixDisplay\n",
    "from sklearn.model_selection import GridSearchCV"
   ]
  },
  {
   "cell_type": "code",
   "execution_count": 9,
   "metadata": {
    "colab": {
     "base_uri": "https://localhost:8080/",
     "height": 206
    },
    "executionInfo": {
     "elapsed": 606,
     "status": "ok",
     "timestamp": 1700829073412,
     "user": {
      "displayName": "Jan",
      "userId": "15086773509541200420"
     },
     "user_tz": -480
    },
    "id": "GTG5Z27Dyant",
    "outputId": "6dad94e3-4a7e-4682-e0d0-a878629c8bad"
   },
   "outputs": [
    {
     "data": {
      "text/html": [
       "<div>\n",
       "<style scoped>\n",
       "    .dataframe tbody tr th:only-of-type {\n",
       "        vertical-align: middle;\n",
       "    }\n",
       "\n",
       "    .dataframe tbody tr th {\n",
       "        vertical-align: top;\n",
       "    }\n",
       "\n",
       "    .dataframe thead th {\n",
       "        text-align: right;\n",
       "    }\n",
       "</style>\n",
       "<table border=\"1\" class=\"dataframe\">\n",
       "  <thead>\n",
       "    <tr style=\"text-align: right;\">\n",
       "      <th></th>\n",
       "      <th>Gender</th>\n",
       "      <th>Age</th>\n",
       "      <th>Height</th>\n",
       "      <th>Weight</th>\n",
       "      <th>family_history_with_overweight</th>\n",
       "      <th>FAVC</th>\n",
       "      <th>FCVC</th>\n",
       "      <th>NCP</th>\n",
       "      <th>CAEC</th>\n",
       "      <th>SMOKE</th>\n",
       "      <th>CH2O</th>\n",
       "      <th>SCC</th>\n",
       "      <th>FAF</th>\n",
       "      <th>TUE</th>\n",
       "      <th>CALC</th>\n",
       "      <th>MTRANS</th>\n",
       "      <th>NObeyesdad</th>\n",
       "    </tr>\n",
       "  </thead>\n",
       "  <tbody>\n",
       "    <tr>\n",
       "      <th>0</th>\n",
       "      <td>Female</td>\n",
       "      <td>21.0</td>\n",
       "      <td>1.62</td>\n",
       "      <td>64.0</td>\n",
       "      <td>yes</td>\n",
       "      <td>no</td>\n",
       "      <td>2.0</td>\n",
       "      <td>3.0</td>\n",
       "      <td>Sometimes</td>\n",
       "      <td>no</td>\n",
       "      <td>2.0</td>\n",
       "      <td>no</td>\n",
       "      <td>0.0</td>\n",
       "      <td>1.0</td>\n",
       "      <td>no</td>\n",
       "      <td>Public_Transportation</td>\n",
       "      <td>Normal_Weight</td>\n",
       "    </tr>\n",
       "    <tr>\n",
       "      <th>1</th>\n",
       "      <td>Female</td>\n",
       "      <td>21.0</td>\n",
       "      <td>1.52</td>\n",
       "      <td>56.0</td>\n",
       "      <td>yes</td>\n",
       "      <td>no</td>\n",
       "      <td>3.0</td>\n",
       "      <td>3.0</td>\n",
       "      <td>Sometimes</td>\n",
       "      <td>yes</td>\n",
       "      <td>3.0</td>\n",
       "      <td>yes</td>\n",
       "      <td>3.0</td>\n",
       "      <td>0.0</td>\n",
       "      <td>Sometimes</td>\n",
       "      <td>Public_Transportation</td>\n",
       "      <td>Normal_Weight</td>\n",
       "    </tr>\n",
       "    <tr>\n",
       "      <th>2</th>\n",
       "      <td>Male</td>\n",
       "      <td>23.0</td>\n",
       "      <td>1.80</td>\n",
       "      <td>77.0</td>\n",
       "      <td>yes</td>\n",
       "      <td>no</td>\n",
       "      <td>2.0</td>\n",
       "      <td>3.0</td>\n",
       "      <td>Sometimes</td>\n",
       "      <td>no</td>\n",
       "      <td>2.0</td>\n",
       "      <td>no</td>\n",
       "      <td>2.0</td>\n",
       "      <td>1.0</td>\n",
       "      <td>Frequently</td>\n",
       "      <td>Public_Transportation</td>\n",
       "      <td>Normal_Weight</td>\n",
       "    </tr>\n",
       "    <tr>\n",
       "      <th>3</th>\n",
       "      <td>Male</td>\n",
       "      <td>27.0</td>\n",
       "      <td>1.80</td>\n",
       "      <td>87.0</td>\n",
       "      <td>no</td>\n",
       "      <td>no</td>\n",
       "      <td>3.0</td>\n",
       "      <td>3.0</td>\n",
       "      <td>Sometimes</td>\n",
       "      <td>no</td>\n",
       "      <td>2.0</td>\n",
       "      <td>no</td>\n",
       "      <td>2.0</td>\n",
       "      <td>0.0</td>\n",
       "      <td>Frequently</td>\n",
       "      <td>Walking</td>\n",
       "      <td>Overweight_Level_I</td>\n",
       "    </tr>\n",
       "    <tr>\n",
       "      <th>4</th>\n",
       "      <td>Male</td>\n",
       "      <td>22.0</td>\n",
       "      <td>1.78</td>\n",
       "      <td>89.8</td>\n",
       "      <td>no</td>\n",
       "      <td>no</td>\n",
       "      <td>2.0</td>\n",
       "      <td>1.0</td>\n",
       "      <td>Sometimes</td>\n",
       "      <td>no</td>\n",
       "      <td>2.0</td>\n",
       "      <td>no</td>\n",
       "      <td>0.0</td>\n",
       "      <td>0.0</td>\n",
       "      <td>Sometimes</td>\n",
       "      <td>Public_Transportation</td>\n",
       "      <td>Overweight_Level_II</td>\n",
       "    </tr>\n",
       "  </tbody>\n",
       "</table>\n",
       "</div>"
      ],
      "text/plain": [
       "   Gender   Age  Height  Weight family_history_with_overweight FAVC  FCVC  \\\n",
       "0  Female  21.0    1.62    64.0                            yes   no   2.0   \n",
       "1  Female  21.0    1.52    56.0                            yes   no   3.0   \n",
       "2    Male  23.0    1.80    77.0                            yes   no   2.0   \n",
       "3    Male  27.0    1.80    87.0                             no   no   3.0   \n",
       "4    Male  22.0    1.78    89.8                             no   no   2.0   \n",
       "\n",
       "   NCP       CAEC SMOKE  CH2O  SCC  FAF  TUE        CALC  \\\n",
       "0  3.0  Sometimes    no   2.0   no  0.0  1.0          no   \n",
       "1  3.0  Sometimes   yes   3.0  yes  3.0  0.0   Sometimes   \n",
       "2  3.0  Sometimes    no   2.0   no  2.0  1.0  Frequently   \n",
       "3  3.0  Sometimes    no   2.0   no  2.0  0.0  Frequently   \n",
       "4  1.0  Sometimes    no   2.0   no  0.0  0.0   Sometimes   \n",
       "\n",
       "                  MTRANS           NObeyesdad  \n",
       "0  Public_Transportation        Normal_Weight  \n",
       "1  Public_Transportation        Normal_Weight  \n",
       "2  Public_Transportation        Normal_Weight  \n",
       "3                Walking   Overweight_Level_I  \n",
       "4  Public_Transportation  Overweight_Level_II  "
      ]
     },
     "execution_count": 9,
     "metadata": {},
     "output_type": "execute_result"
    }
   ],
   "source": [
    "# load data and show all columns\n",
    "filename = ('Obesity.csv')\n",
    "df = pd.read_csv(filename)\n",
    "df.head()"
   ]
  },
  {
   "cell_type": "code",
   "execution_count": 10,
   "metadata": {
    "colab": {
     "base_uri": "https://localhost:8080/"
    },
    "executionInfo": {
     "elapsed": 2,
     "status": "ok",
     "timestamp": 1700829075328,
     "user": {
      "displayName": "Jan",
      "userId": "15086773509541200420"
     },
     "user_tz": -480
    },
    "id": "HM439USE11kP",
    "outputId": "d21cf875-0f94-4c7e-e109-ecdd58f1a831"
   },
   "outputs": [
    {
     "data": {
      "text/plain": [
       "(2111, 17)"
      ]
     },
     "execution_count": 10,
     "metadata": {},
     "output_type": "execute_result"
    }
   ],
   "source": [
    "df.shape"
   ]
  },
  {
   "cell_type": "markdown",
   "metadata": {
    "id": "6BQycoKHt793"
   },
   "source": [
    "The dataset has 2111 rows and 17 columns."
   ]
  },
  {
   "cell_type": "code",
   "execution_count": 11,
   "metadata": {
    "colab": {
     "base_uri": "https://localhost:8080/"
    },
    "executionInfo": {
     "elapsed": 756,
     "status": "ok",
     "timestamp": 1700829077917,
     "user": {
      "displayName": "Jan",
      "userId": "15086773509541200420"
     },
     "user_tz": -480
    },
    "id": "Z7gas7GR15t9",
    "outputId": "a343af1b-8450-422c-aebf-681185cf137e"
   },
   "outputs": [
    {
     "name": "stdout",
     "output_type": "stream",
     "text": [
      "<class 'pandas.core.frame.DataFrame'>\n",
      "RangeIndex: 2111 entries, 0 to 2110\n",
      "Data columns (total 17 columns):\n",
      " #   Column                          Non-Null Count  Dtype  \n",
      "---  ------                          --------------  -----  \n",
      " 0   Gender                          2111 non-null   object \n",
      " 1   Age                             2111 non-null   float64\n",
      " 2   Height                          2111 non-null   float64\n",
      " 3   Weight                          2111 non-null   float64\n",
      " 4   family_history_with_overweight  2111 non-null   object \n",
      " 5   FAVC                            2111 non-null   object \n",
      " 6   FCVC                            2111 non-null   float64\n",
      " 7   NCP                             2111 non-null   float64\n",
      " 8   CAEC                            2111 non-null   object \n",
      " 9   SMOKE                           2111 non-null   object \n",
      " 10  CH2O                            2111 non-null   float64\n",
      " 11  SCC                             2111 non-null   object \n",
      " 12  FAF                             2111 non-null   float64\n",
      " 13  TUE                             2111 non-null   float64\n",
      " 14  CALC                            2111 non-null   object \n",
      " 15  MTRANS                          2111 non-null   object \n",
      " 16  NObeyesdad                      2111 non-null   object \n",
      "dtypes: float64(8), object(9)\n",
      "memory usage: 280.5+ KB\n"
     ]
    }
   ],
   "source": [
    "df.info()"
   ]
  },
  {
   "cell_type": "code",
   "execution_count": 12,
   "metadata": {
    "colab": {
     "base_uri": "https://localhost:8080/"
    },
    "executionInfo": {
     "elapsed": 5,
     "status": "ok",
     "timestamp": 1700829080609,
     "user": {
      "displayName": "Jan",
      "userId": "15086773509541200420"
     },
     "user_tz": -480
    },
    "id": "tBJeKxdPprEG",
    "outputId": "869f11e3-de9e-46fc-d351-50b5b193476d"
   },
   "outputs": [
    {
     "data": {
      "text/plain": [
       "24"
      ]
     },
     "execution_count": 12,
     "metadata": {},
     "output_type": "execute_result"
    }
   ],
   "source": [
    "df.duplicated().sum()"
   ]
  },
  {
   "cell_type": "markdown",
   "metadata": {
    "id": "5luwejREtzNh"
   },
   "source": [
    "There are 24 duplicates."
   ]
  },
  {
   "cell_type": "code",
   "execution_count": 13,
   "metadata": {
    "colab": {
     "base_uri": "https://localhost:8080/",
     "height": 1000
    },
    "executionInfo": {
     "elapsed": 7,
     "status": "ok",
     "timestamp": 1700829082636,
     "user": {
      "displayName": "Jan",
      "userId": "15086773509541200420"
     },
     "user_tz": -480
    },
    "id": "junxRdDctO_F",
    "outputId": "603447b5-7500-43ed-ccc2-8c7a273e6dcf"
   },
   "outputs": [
    {
     "data": {
      "text/html": [
       "<div>\n",
       "<style scoped>\n",
       "    .dataframe tbody tr th:only-of-type {\n",
       "        vertical-align: middle;\n",
       "    }\n",
       "\n",
       "    .dataframe tbody tr th {\n",
       "        vertical-align: top;\n",
       "    }\n",
       "\n",
       "    .dataframe thead th {\n",
       "        text-align: right;\n",
       "    }\n",
       "</style>\n",
       "<table border=\"1\" class=\"dataframe\">\n",
       "  <thead>\n",
       "    <tr style=\"text-align: right;\">\n",
       "      <th></th>\n",
       "      <th>Gender</th>\n",
       "      <th>Age</th>\n",
       "      <th>Height</th>\n",
       "      <th>Weight</th>\n",
       "      <th>family_history_with_overweight</th>\n",
       "      <th>FAVC</th>\n",
       "      <th>FCVC</th>\n",
       "      <th>NCP</th>\n",
       "      <th>CAEC</th>\n",
       "      <th>SMOKE</th>\n",
       "      <th>CH2O</th>\n",
       "      <th>SCC</th>\n",
       "      <th>FAF</th>\n",
       "      <th>TUE</th>\n",
       "      <th>CALC</th>\n",
       "      <th>MTRANS</th>\n",
       "      <th>NObeyesdad</th>\n",
       "    </tr>\n",
       "  </thead>\n",
       "  <tbody>\n",
       "    <tr>\n",
       "      <th>97</th>\n",
       "      <td>Female</td>\n",
       "      <td>21.0</td>\n",
       "      <td>1.52</td>\n",
       "      <td>42.0</td>\n",
       "      <td>no</td>\n",
       "      <td>no</td>\n",
       "      <td>3.0</td>\n",
       "      <td>1.0</td>\n",
       "      <td>Frequently</td>\n",
       "      <td>no</td>\n",
       "      <td>1.0</td>\n",
       "      <td>no</td>\n",
       "      <td>0.0</td>\n",
       "      <td>0.0</td>\n",
       "      <td>Sometimes</td>\n",
       "      <td>Public_Transportation</td>\n",
       "      <td>Insufficient_Weight</td>\n",
       "    </tr>\n",
       "    <tr>\n",
       "      <th>98</th>\n",
       "      <td>Female</td>\n",
       "      <td>21.0</td>\n",
       "      <td>1.52</td>\n",
       "      <td>42.0</td>\n",
       "      <td>no</td>\n",
       "      <td>no</td>\n",
       "      <td>3.0</td>\n",
       "      <td>1.0</td>\n",
       "      <td>Frequently</td>\n",
       "      <td>no</td>\n",
       "      <td>1.0</td>\n",
       "      <td>no</td>\n",
       "      <td>0.0</td>\n",
       "      <td>0.0</td>\n",
       "      <td>Sometimes</td>\n",
       "      <td>Public_Transportation</td>\n",
       "      <td>Insufficient_Weight</td>\n",
       "    </tr>\n",
       "    <tr>\n",
       "      <th>105</th>\n",
       "      <td>Female</td>\n",
       "      <td>25.0</td>\n",
       "      <td>1.57</td>\n",
       "      <td>55.0</td>\n",
       "      <td>no</td>\n",
       "      <td>yes</td>\n",
       "      <td>2.0</td>\n",
       "      <td>1.0</td>\n",
       "      <td>Sometimes</td>\n",
       "      <td>no</td>\n",
       "      <td>2.0</td>\n",
       "      <td>no</td>\n",
       "      <td>2.0</td>\n",
       "      <td>0.0</td>\n",
       "      <td>Sometimes</td>\n",
       "      <td>Public_Transportation</td>\n",
       "      <td>Normal_Weight</td>\n",
       "    </tr>\n",
       "    <tr>\n",
       "      <th>106</th>\n",
       "      <td>Female</td>\n",
       "      <td>25.0</td>\n",
       "      <td>1.57</td>\n",
       "      <td>55.0</td>\n",
       "      <td>no</td>\n",
       "      <td>yes</td>\n",
       "      <td>2.0</td>\n",
       "      <td>1.0</td>\n",
       "      <td>Sometimes</td>\n",
       "      <td>no</td>\n",
       "      <td>2.0</td>\n",
       "      <td>no</td>\n",
       "      <td>2.0</td>\n",
       "      <td>0.0</td>\n",
       "      <td>Sometimes</td>\n",
       "      <td>Public_Transportation</td>\n",
       "      <td>Normal_Weight</td>\n",
       "    </tr>\n",
       "    <tr>\n",
       "      <th>145</th>\n",
       "      <td>Male</td>\n",
       "      <td>21.0</td>\n",
       "      <td>1.62</td>\n",
       "      <td>70.0</td>\n",
       "      <td>no</td>\n",
       "      <td>yes</td>\n",
       "      <td>2.0</td>\n",
       "      <td>1.0</td>\n",
       "      <td>no</td>\n",
       "      <td>no</td>\n",
       "      <td>3.0</td>\n",
       "      <td>no</td>\n",
       "      <td>1.0</td>\n",
       "      <td>0.0</td>\n",
       "      <td>Sometimes</td>\n",
       "      <td>Public_Transportation</td>\n",
       "      <td>Overweight_Level_I</td>\n",
       "    </tr>\n",
       "    <tr>\n",
       "      <th>174</th>\n",
       "      <td>Male</td>\n",
       "      <td>21.0</td>\n",
       "      <td>1.62</td>\n",
       "      <td>70.0</td>\n",
       "      <td>no</td>\n",
       "      <td>yes</td>\n",
       "      <td>2.0</td>\n",
       "      <td>1.0</td>\n",
       "      <td>no</td>\n",
       "      <td>no</td>\n",
       "      <td>3.0</td>\n",
       "      <td>no</td>\n",
       "      <td>1.0</td>\n",
       "      <td>0.0</td>\n",
       "      <td>Sometimes</td>\n",
       "      <td>Public_Transportation</td>\n",
       "      <td>Overweight_Level_I</td>\n",
       "    </tr>\n",
       "    <tr>\n",
       "      <th>179</th>\n",
       "      <td>Male</td>\n",
       "      <td>21.0</td>\n",
       "      <td>1.62</td>\n",
       "      <td>70.0</td>\n",
       "      <td>no</td>\n",
       "      <td>yes</td>\n",
       "      <td>2.0</td>\n",
       "      <td>1.0</td>\n",
       "      <td>no</td>\n",
       "      <td>no</td>\n",
       "      <td>3.0</td>\n",
       "      <td>no</td>\n",
       "      <td>1.0</td>\n",
       "      <td>0.0</td>\n",
       "      <td>Sometimes</td>\n",
       "      <td>Public_Transportation</td>\n",
       "      <td>Overweight_Level_I</td>\n",
       "    </tr>\n",
       "    <tr>\n",
       "      <th>184</th>\n",
       "      <td>Male</td>\n",
       "      <td>21.0</td>\n",
       "      <td>1.62</td>\n",
       "      <td>70.0</td>\n",
       "      <td>no</td>\n",
       "      <td>yes</td>\n",
       "      <td>2.0</td>\n",
       "      <td>1.0</td>\n",
       "      <td>no</td>\n",
       "      <td>no</td>\n",
       "      <td>3.0</td>\n",
       "      <td>no</td>\n",
       "      <td>1.0</td>\n",
       "      <td>0.0</td>\n",
       "      <td>Sometimes</td>\n",
       "      <td>Public_Transportation</td>\n",
       "      <td>Overweight_Level_I</td>\n",
       "    </tr>\n",
       "    <tr>\n",
       "      <th>208</th>\n",
       "      <td>Female</td>\n",
       "      <td>22.0</td>\n",
       "      <td>1.69</td>\n",
       "      <td>65.0</td>\n",
       "      <td>yes</td>\n",
       "      <td>yes</td>\n",
       "      <td>2.0</td>\n",
       "      <td>3.0</td>\n",
       "      <td>Sometimes</td>\n",
       "      <td>no</td>\n",
       "      <td>2.0</td>\n",
       "      <td>no</td>\n",
       "      <td>1.0</td>\n",
       "      <td>1.0</td>\n",
       "      <td>Sometimes</td>\n",
       "      <td>Public_Transportation</td>\n",
       "      <td>Normal_Weight</td>\n",
       "    </tr>\n",
       "    <tr>\n",
       "      <th>209</th>\n",
       "      <td>Female</td>\n",
       "      <td>22.0</td>\n",
       "      <td>1.69</td>\n",
       "      <td>65.0</td>\n",
       "      <td>yes</td>\n",
       "      <td>yes</td>\n",
       "      <td>2.0</td>\n",
       "      <td>3.0</td>\n",
       "      <td>Sometimes</td>\n",
       "      <td>no</td>\n",
       "      <td>2.0</td>\n",
       "      <td>no</td>\n",
       "      <td>1.0</td>\n",
       "      <td>1.0</td>\n",
       "      <td>Sometimes</td>\n",
       "      <td>Public_Transportation</td>\n",
       "      <td>Normal_Weight</td>\n",
       "    </tr>\n",
       "    <tr>\n",
       "      <th>282</th>\n",
       "      <td>Female</td>\n",
       "      <td>18.0</td>\n",
       "      <td>1.62</td>\n",
       "      <td>55.0</td>\n",
       "      <td>yes</td>\n",
       "      <td>yes</td>\n",
       "      <td>2.0</td>\n",
       "      <td>3.0</td>\n",
       "      <td>Frequently</td>\n",
       "      <td>no</td>\n",
       "      <td>1.0</td>\n",
       "      <td>no</td>\n",
       "      <td>1.0</td>\n",
       "      <td>1.0</td>\n",
       "      <td>no</td>\n",
       "      <td>Public_Transportation</td>\n",
       "      <td>Normal_Weight</td>\n",
       "    </tr>\n",
       "    <tr>\n",
       "      <th>295</th>\n",
       "      <td>Female</td>\n",
       "      <td>16.0</td>\n",
       "      <td>1.66</td>\n",
       "      <td>58.0</td>\n",
       "      <td>no</td>\n",
       "      <td>no</td>\n",
       "      <td>2.0</td>\n",
       "      <td>1.0</td>\n",
       "      <td>Sometimes</td>\n",
       "      <td>no</td>\n",
       "      <td>1.0</td>\n",
       "      <td>no</td>\n",
       "      <td>0.0</td>\n",
       "      <td>1.0</td>\n",
       "      <td>no</td>\n",
       "      <td>Walking</td>\n",
       "      <td>Normal_Weight</td>\n",
       "    </tr>\n",
       "    <tr>\n",
       "      <th>309</th>\n",
       "      <td>Female</td>\n",
       "      <td>16.0</td>\n",
       "      <td>1.66</td>\n",
       "      <td>58.0</td>\n",
       "      <td>no</td>\n",
       "      <td>no</td>\n",
       "      <td>2.0</td>\n",
       "      <td>1.0</td>\n",
       "      <td>Sometimes</td>\n",
       "      <td>no</td>\n",
       "      <td>1.0</td>\n",
       "      <td>no</td>\n",
       "      <td>0.0</td>\n",
       "      <td>1.0</td>\n",
       "      <td>no</td>\n",
       "      <td>Walking</td>\n",
       "      <td>Normal_Weight</td>\n",
       "    </tr>\n",
       "    <tr>\n",
       "      <th>443</th>\n",
       "      <td>Male</td>\n",
       "      <td>18.0</td>\n",
       "      <td>1.72</td>\n",
       "      <td>53.0</td>\n",
       "      <td>yes</td>\n",
       "      <td>yes</td>\n",
       "      <td>2.0</td>\n",
       "      <td>3.0</td>\n",
       "      <td>Sometimes</td>\n",
       "      <td>no</td>\n",
       "      <td>2.0</td>\n",
       "      <td>no</td>\n",
       "      <td>0.0</td>\n",
       "      <td>2.0</td>\n",
       "      <td>Sometimes</td>\n",
       "      <td>Public_Transportation</td>\n",
       "      <td>Insufficient_Weight</td>\n",
       "    </tr>\n",
       "    <tr>\n",
       "      <th>460</th>\n",
       "      <td>Female</td>\n",
       "      <td>18.0</td>\n",
       "      <td>1.62</td>\n",
       "      <td>55.0</td>\n",
       "      <td>yes</td>\n",
       "      <td>yes</td>\n",
       "      <td>2.0</td>\n",
       "      <td>3.0</td>\n",
       "      <td>Frequently</td>\n",
       "      <td>no</td>\n",
       "      <td>1.0</td>\n",
       "      <td>no</td>\n",
       "      <td>1.0</td>\n",
       "      <td>1.0</td>\n",
       "      <td>no</td>\n",
       "      <td>Public_Transportation</td>\n",
       "      <td>Normal_Weight</td>\n",
       "    </tr>\n",
       "    <tr>\n",
       "      <th>466</th>\n",
       "      <td>Male</td>\n",
       "      <td>22.0</td>\n",
       "      <td>1.74</td>\n",
       "      <td>75.0</td>\n",
       "      <td>yes</td>\n",
       "      <td>yes</td>\n",
       "      <td>3.0</td>\n",
       "      <td>3.0</td>\n",
       "      <td>Frequently</td>\n",
       "      <td>no</td>\n",
       "      <td>1.0</td>\n",
       "      <td>no</td>\n",
       "      <td>1.0</td>\n",
       "      <td>0.0</td>\n",
       "      <td>no</td>\n",
       "      <td>Automobile</td>\n",
       "      <td>Normal_Weight</td>\n",
       "    </tr>\n",
       "    <tr>\n",
       "      <th>467</th>\n",
       "      <td>Male</td>\n",
       "      <td>22.0</td>\n",
       "      <td>1.74</td>\n",
       "      <td>75.0</td>\n",
       "      <td>yes</td>\n",
       "      <td>yes</td>\n",
       "      <td>3.0</td>\n",
       "      <td>3.0</td>\n",
       "      <td>Frequently</td>\n",
       "      <td>no</td>\n",
       "      <td>1.0</td>\n",
       "      <td>no</td>\n",
       "      <td>1.0</td>\n",
       "      <td>0.0</td>\n",
       "      <td>no</td>\n",
       "      <td>Automobile</td>\n",
       "      <td>Normal_Weight</td>\n",
       "    </tr>\n",
       "    <tr>\n",
       "      <th>496</th>\n",
       "      <td>Male</td>\n",
       "      <td>18.0</td>\n",
       "      <td>1.72</td>\n",
       "      <td>53.0</td>\n",
       "      <td>yes</td>\n",
       "      <td>yes</td>\n",
       "      <td>2.0</td>\n",
       "      <td>3.0</td>\n",
       "      <td>Sometimes</td>\n",
       "      <td>no</td>\n",
       "      <td>2.0</td>\n",
       "      <td>no</td>\n",
       "      <td>0.0</td>\n",
       "      <td>2.0</td>\n",
       "      <td>Sometimes</td>\n",
       "      <td>Public_Transportation</td>\n",
       "      <td>Insufficient_Weight</td>\n",
       "    </tr>\n",
       "    <tr>\n",
       "      <th>523</th>\n",
       "      <td>Female</td>\n",
       "      <td>21.0</td>\n",
       "      <td>1.52</td>\n",
       "      <td>42.0</td>\n",
       "      <td>no</td>\n",
       "      <td>yes</td>\n",
       "      <td>3.0</td>\n",
       "      <td>1.0</td>\n",
       "      <td>Frequently</td>\n",
       "      <td>no</td>\n",
       "      <td>1.0</td>\n",
       "      <td>no</td>\n",
       "      <td>0.0</td>\n",
       "      <td>0.0</td>\n",
       "      <td>Sometimes</td>\n",
       "      <td>Public_Transportation</td>\n",
       "      <td>Insufficient_Weight</td>\n",
       "    </tr>\n",
       "    <tr>\n",
       "      <th>527</th>\n",
       "      <td>Female</td>\n",
       "      <td>21.0</td>\n",
       "      <td>1.52</td>\n",
       "      <td>42.0</td>\n",
       "      <td>no</td>\n",
       "      <td>yes</td>\n",
       "      <td>3.0</td>\n",
       "      <td>1.0</td>\n",
       "      <td>Frequently</td>\n",
       "      <td>no</td>\n",
       "      <td>1.0</td>\n",
       "      <td>no</td>\n",
       "      <td>0.0</td>\n",
       "      <td>0.0</td>\n",
       "      <td>Sometimes</td>\n",
       "      <td>Public_Transportation</td>\n",
       "      <td>Insufficient_Weight</td>\n",
       "    </tr>\n",
       "    <tr>\n",
       "      <th>659</th>\n",
       "      <td>Female</td>\n",
       "      <td>21.0</td>\n",
       "      <td>1.52</td>\n",
       "      <td>42.0</td>\n",
       "      <td>no</td>\n",
       "      <td>yes</td>\n",
       "      <td>3.0</td>\n",
       "      <td>1.0</td>\n",
       "      <td>Frequently</td>\n",
       "      <td>no</td>\n",
       "      <td>1.0</td>\n",
       "      <td>no</td>\n",
       "      <td>0.0</td>\n",
       "      <td>0.0</td>\n",
       "      <td>Sometimes</td>\n",
       "      <td>Public_Transportation</td>\n",
       "      <td>Insufficient_Weight</td>\n",
       "    </tr>\n",
       "    <tr>\n",
       "      <th>663</th>\n",
       "      <td>Female</td>\n",
       "      <td>21.0</td>\n",
       "      <td>1.52</td>\n",
       "      <td>42.0</td>\n",
       "      <td>no</td>\n",
       "      <td>yes</td>\n",
       "      <td>3.0</td>\n",
       "      <td>1.0</td>\n",
       "      <td>Frequently</td>\n",
       "      <td>no</td>\n",
       "      <td>1.0</td>\n",
       "      <td>no</td>\n",
       "      <td>0.0</td>\n",
       "      <td>0.0</td>\n",
       "      <td>Sometimes</td>\n",
       "      <td>Public_Transportation</td>\n",
       "      <td>Insufficient_Weight</td>\n",
       "    </tr>\n",
       "    <tr>\n",
       "      <th>763</th>\n",
       "      <td>Male</td>\n",
       "      <td>21.0</td>\n",
       "      <td>1.62</td>\n",
       "      <td>70.0</td>\n",
       "      <td>no</td>\n",
       "      <td>yes</td>\n",
       "      <td>2.0</td>\n",
       "      <td>1.0</td>\n",
       "      <td>no</td>\n",
       "      <td>no</td>\n",
       "      <td>3.0</td>\n",
       "      <td>no</td>\n",
       "      <td>1.0</td>\n",
       "      <td>0.0</td>\n",
       "      <td>Sometimes</td>\n",
       "      <td>Public_Transportation</td>\n",
       "      <td>Overweight_Level_I</td>\n",
       "    </tr>\n",
       "    <tr>\n",
       "      <th>764</th>\n",
       "      <td>Male</td>\n",
       "      <td>21.0</td>\n",
       "      <td>1.62</td>\n",
       "      <td>70.0</td>\n",
       "      <td>no</td>\n",
       "      <td>yes</td>\n",
       "      <td>2.0</td>\n",
       "      <td>1.0</td>\n",
       "      <td>no</td>\n",
       "      <td>no</td>\n",
       "      <td>3.0</td>\n",
       "      <td>no</td>\n",
       "      <td>1.0</td>\n",
       "      <td>0.0</td>\n",
       "      <td>Sometimes</td>\n",
       "      <td>Public_Transportation</td>\n",
       "      <td>Overweight_Level_I</td>\n",
       "    </tr>\n",
       "    <tr>\n",
       "      <th>824</th>\n",
       "      <td>Male</td>\n",
       "      <td>21.0</td>\n",
       "      <td>1.62</td>\n",
       "      <td>70.0</td>\n",
       "      <td>no</td>\n",
       "      <td>yes</td>\n",
       "      <td>2.0</td>\n",
       "      <td>1.0</td>\n",
       "      <td>no</td>\n",
       "      <td>no</td>\n",
       "      <td>3.0</td>\n",
       "      <td>no</td>\n",
       "      <td>1.0</td>\n",
       "      <td>0.0</td>\n",
       "      <td>Sometimes</td>\n",
       "      <td>Public_Transportation</td>\n",
       "      <td>Overweight_Level_I</td>\n",
       "    </tr>\n",
       "    <tr>\n",
       "      <th>830</th>\n",
       "      <td>Male</td>\n",
       "      <td>21.0</td>\n",
       "      <td>1.62</td>\n",
       "      <td>70.0</td>\n",
       "      <td>no</td>\n",
       "      <td>yes</td>\n",
       "      <td>2.0</td>\n",
       "      <td>1.0</td>\n",
       "      <td>no</td>\n",
       "      <td>no</td>\n",
       "      <td>3.0</td>\n",
       "      <td>no</td>\n",
       "      <td>1.0</td>\n",
       "      <td>0.0</td>\n",
       "      <td>Sometimes</td>\n",
       "      <td>Public_Transportation</td>\n",
       "      <td>Overweight_Level_I</td>\n",
       "    </tr>\n",
       "    <tr>\n",
       "      <th>831</th>\n",
       "      <td>Male</td>\n",
       "      <td>21.0</td>\n",
       "      <td>1.62</td>\n",
       "      <td>70.0</td>\n",
       "      <td>no</td>\n",
       "      <td>yes</td>\n",
       "      <td>2.0</td>\n",
       "      <td>1.0</td>\n",
       "      <td>no</td>\n",
       "      <td>no</td>\n",
       "      <td>3.0</td>\n",
       "      <td>no</td>\n",
       "      <td>1.0</td>\n",
       "      <td>0.0</td>\n",
       "      <td>Sometimes</td>\n",
       "      <td>Public_Transportation</td>\n",
       "      <td>Overweight_Level_I</td>\n",
       "    </tr>\n",
       "    <tr>\n",
       "      <th>832</th>\n",
       "      <td>Male</td>\n",
       "      <td>21.0</td>\n",
       "      <td>1.62</td>\n",
       "      <td>70.0</td>\n",
       "      <td>no</td>\n",
       "      <td>yes</td>\n",
       "      <td>2.0</td>\n",
       "      <td>1.0</td>\n",
       "      <td>no</td>\n",
       "      <td>no</td>\n",
       "      <td>3.0</td>\n",
       "      <td>no</td>\n",
       "      <td>1.0</td>\n",
       "      <td>0.0</td>\n",
       "      <td>Sometimes</td>\n",
       "      <td>Public_Transportation</td>\n",
       "      <td>Overweight_Level_I</td>\n",
       "    </tr>\n",
       "    <tr>\n",
       "      <th>833</th>\n",
       "      <td>Male</td>\n",
       "      <td>21.0</td>\n",
       "      <td>1.62</td>\n",
       "      <td>70.0</td>\n",
       "      <td>no</td>\n",
       "      <td>yes</td>\n",
       "      <td>2.0</td>\n",
       "      <td>1.0</td>\n",
       "      <td>no</td>\n",
       "      <td>no</td>\n",
       "      <td>3.0</td>\n",
       "      <td>no</td>\n",
       "      <td>1.0</td>\n",
       "      <td>0.0</td>\n",
       "      <td>Sometimes</td>\n",
       "      <td>Public_Transportation</td>\n",
       "      <td>Overweight_Level_I</td>\n",
       "    </tr>\n",
       "    <tr>\n",
       "      <th>834</th>\n",
       "      <td>Male</td>\n",
       "      <td>21.0</td>\n",
       "      <td>1.62</td>\n",
       "      <td>70.0</td>\n",
       "      <td>no</td>\n",
       "      <td>yes</td>\n",
       "      <td>2.0</td>\n",
       "      <td>1.0</td>\n",
       "      <td>no</td>\n",
       "      <td>no</td>\n",
       "      <td>3.0</td>\n",
       "      <td>no</td>\n",
       "      <td>1.0</td>\n",
       "      <td>0.0</td>\n",
       "      <td>Sometimes</td>\n",
       "      <td>Public_Transportation</td>\n",
       "      <td>Overweight_Level_I</td>\n",
       "    </tr>\n",
       "    <tr>\n",
       "      <th>921</th>\n",
       "      <td>Male</td>\n",
       "      <td>21.0</td>\n",
       "      <td>1.62</td>\n",
       "      <td>70.0</td>\n",
       "      <td>no</td>\n",
       "      <td>yes</td>\n",
       "      <td>2.0</td>\n",
       "      <td>1.0</td>\n",
       "      <td>no</td>\n",
       "      <td>no</td>\n",
       "      <td>3.0</td>\n",
       "      <td>no</td>\n",
       "      <td>1.0</td>\n",
       "      <td>0.0</td>\n",
       "      <td>Sometimes</td>\n",
       "      <td>Public_Transportation</td>\n",
       "      <td>Overweight_Level_I</td>\n",
       "    </tr>\n",
       "    <tr>\n",
       "      <th>922</th>\n",
       "      <td>Male</td>\n",
       "      <td>21.0</td>\n",
       "      <td>1.62</td>\n",
       "      <td>70.0</td>\n",
       "      <td>no</td>\n",
       "      <td>yes</td>\n",
       "      <td>2.0</td>\n",
       "      <td>1.0</td>\n",
       "      <td>no</td>\n",
       "      <td>no</td>\n",
       "      <td>3.0</td>\n",
       "      <td>no</td>\n",
       "      <td>1.0</td>\n",
       "      <td>0.0</td>\n",
       "      <td>Sometimes</td>\n",
       "      <td>Public_Transportation</td>\n",
       "      <td>Overweight_Level_I</td>\n",
       "    </tr>\n",
       "    <tr>\n",
       "      <th>923</th>\n",
       "      <td>Male</td>\n",
       "      <td>21.0</td>\n",
       "      <td>1.62</td>\n",
       "      <td>70.0</td>\n",
       "      <td>no</td>\n",
       "      <td>yes</td>\n",
       "      <td>2.0</td>\n",
       "      <td>1.0</td>\n",
       "      <td>no</td>\n",
       "      <td>no</td>\n",
       "      <td>3.0</td>\n",
       "      <td>no</td>\n",
       "      <td>1.0</td>\n",
       "      <td>0.0</td>\n",
       "      <td>Sometimes</td>\n",
       "      <td>Public_Transportation</td>\n",
       "      <td>Overweight_Level_I</td>\n",
       "    </tr>\n",
       "  </tbody>\n",
       "</table>\n",
       "</div>"
      ],
      "text/plain": [
       "     Gender   Age  Height  Weight family_history_with_overweight FAVC  FCVC  \\\n",
       "97   Female  21.0    1.52    42.0                             no   no   3.0   \n",
       "98   Female  21.0    1.52    42.0                             no   no   3.0   \n",
       "105  Female  25.0    1.57    55.0                             no  yes   2.0   \n",
       "106  Female  25.0    1.57    55.0                             no  yes   2.0   \n",
       "145    Male  21.0    1.62    70.0                             no  yes   2.0   \n",
       "174    Male  21.0    1.62    70.0                             no  yes   2.0   \n",
       "179    Male  21.0    1.62    70.0                             no  yes   2.0   \n",
       "184    Male  21.0    1.62    70.0                             no  yes   2.0   \n",
       "208  Female  22.0    1.69    65.0                            yes  yes   2.0   \n",
       "209  Female  22.0    1.69    65.0                            yes  yes   2.0   \n",
       "282  Female  18.0    1.62    55.0                            yes  yes   2.0   \n",
       "295  Female  16.0    1.66    58.0                             no   no   2.0   \n",
       "309  Female  16.0    1.66    58.0                             no   no   2.0   \n",
       "443    Male  18.0    1.72    53.0                            yes  yes   2.0   \n",
       "460  Female  18.0    1.62    55.0                            yes  yes   2.0   \n",
       "466    Male  22.0    1.74    75.0                            yes  yes   3.0   \n",
       "467    Male  22.0    1.74    75.0                            yes  yes   3.0   \n",
       "496    Male  18.0    1.72    53.0                            yes  yes   2.0   \n",
       "523  Female  21.0    1.52    42.0                             no  yes   3.0   \n",
       "527  Female  21.0    1.52    42.0                             no  yes   3.0   \n",
       "659  Female  21.0    1.52    42.0                             no  yes   3.0   \n",
       "663  Female  21.0    1.52    42.0                             no  yes   3.0   \n",
       "763    Male  21.0    1.62    70.0                             no  yes   2.0   \n",
       "764    Male  21.0    1.62    70.0                             no  yes   2.0   \n",
       "824    Male  21.0    1.62    70.0                             no  yes   2.0   \n",
       "830    Male  21.0    1.62    70.0                             no  yes   2.0   \n",
       "831    Male  21.0    1.62    70.0                             no  yes   2.0   \n",
       "832    Male  21.0    1.62    70.0                             no  yes   2.0   \n",
       "833    Male  21.0    1.62    70.0                             no  yes   2.0   \n",
       "834    Male  21.0    1.62    70.0                             no  yes   2.0   \n",
       "921    Male  21.0    1.62    70.0                             no  yes   2.0   \n",
       "922    Male  21.0    1.62    70.0                             no  yes   2.0   \n",
       "923    Male  21.0    1.62    70.0                             no  yes   2.0   \n",
       "\n",
       "     NCP        CAEC SMOKE  CH2O SCC  FAF  TUE       CALC  \\\n",
       "97   1.0  Frequently    no   1.0  no  0.0  0.0  Sometimes   \n",
       "98   1.0  Frequently    no   1.0  no  0.0  0.0  Sometimes   \n",
       "105  1.0   Sometimes    no   2.0  no  2.0  0.0  Sometimes   \n",
       "106  1.0   Sometimes    no   2.0  no  2.0  0.0  Sometimes   \n",
       "145  1.0          no    no   3.0  no  1.0  0.0  Sometimes   \n",
       "174  1.0          no    no   3.0  no  1.0  0.0  Sometimes   \n",
       "179  1.0          no    no   3.0  no  1.0  0.0  Sometimes   \n",
       "184  1.0          no    no   3.0  no  1.0  0.0  Sometimes   \n",
       "208  3.0   Sometimes    no   2.0  no  1.0  1.0  Sometimes   \n",
       "209  3.0   Sometimes    no   2.0  no  1.0  1.0  Sometimes   \n",
       "282  3.0  Frequently    no   1.0  no  1.0  1.0         no   \n",
       "295  1.0   Sometimes    no   1.0  no  0.0  1.0         no   \n",
       "309  1.0   Sometimes    no   1.0  no  0.0  1.0         no   \n",
       "443  3.0   Sometimes    no   2.0  no  0.0  2.0  Sometimes   \n",
       "460  3.0  Frequently    no   1.0  no  1.0  1.0         no   \n",
       "466  3.0  Frequently    no   1.0  no  1.0  0.0         no   \n",
       "467  3.0  Frequently    no   1.0  no  1.0  0.0         no   \n",
       "496  3.0   Sometimes    no   2.0  no  0.0  2.0  Sometimes   \n",
       "523  1.0  Frequently    no   1.0  no  0.0  0.0  Sometimes   \n",
       "527  1.0  Frequently    no   1.0  no  0.0  0.0  Sometimes   \n",
       "659  1.0  Frequently    no   1.0  no  0.0  0.0  Sometimes   \n",
       "663  1.0  Frequently    no   1.0  no  0.0  0.0  Sometimes   \n",
       "763  1.0          no    no   3.0  no  1.0  0.0  Sometimes   \n",
       "764  1.0          no    no   3.0  no  1.0  0.0  Sometimes   \n",
       "824  1.0          no    no   3.0  no  1.0  0.0  Sometimes   \n",
       "830  1.0          no    no   3.0  no  1.0  0.0  Sometimes   \n",
       "831  1.0          no    no   3.0  no  1.0  0.0  Sometimes   \n",
       "832  1.0          no    no   3.0  no  1.0  0.0  Sometimes   \n",
       "833  1.0          no    no   3.0  no  1.0  0.0  Sometimes   \n",
       "834  1.0          no    no   3.0  no  1.0  0.0  Sometimes   \n",
       "921  1.0          no    no   3.0  no  1.0  0.0  Sometimes   \n",
       "922  1.0          no    no   3.0  no  1.0  0.0  Sometimes   \n",
       "923  1.0          no    no   3.0  no  1.0  0.0  Sometimes   \n",
       "\n",
       "                    MTRANS           NObeyesdad  \n",
       "97   Public_Transportation  Insufficient_Weight  \n",
       "98   Public_Transportation  Insufficient_Weight  \n",
       "105  Public_Transportation        Normal_Weight  \n",
       "106  Public_Transportation        Normal_Weight  \n",
       "145  Public_Transportation   Overweight_Level_I  \n",
       "174  Public_Transportation   Overweight_Level_I  \n",
       "179  Public_Transportation   Overweight_Level_I  \n",
       "184  Public_Transportation   Overweight_Level_I  \n",
       "208  Public_Transportation        Normal_Weight  \n",
       "209  Public_Transportation        Normal_Weight  \n",
       "282  Public_Transportation        Normal_Weight  \n",
       "295                Walking        Normal_Weight  \n",
       "309                Walking        Normal_Weight  \n",
       "443  Public_Transportation  Insufficient_Weight  \n",
       "460  Public_Transportation        Normal_Weight  \n",
       "466             Automobile        Normal_Weight  \n",
       "467             Automobile        Normal_Weight  \n",
       "496  Public_Transportation  Insufficient_Weight  \n",
       "523  Public_Transportation  Insufficient_Weight  \n",
       "527  Public_Transportation  Insufficient_Weight  \n",
       "659  Public_Transportation  Insufficient_Weight  \n",
       "663  Public_Transportation  Insufficient_Weight  \n",
       "763  Public_Transportation   Overweight_Level_I  \n",
       "764  Public_Transportation   Overweight_Level_I  \n",
       "824  Public_Transportation   Overweight_Level_I  \n",
       "830  Public_Transportation   Overweight_Level_I  \n",
       "831  Public_Transportation   Overweight_Level_I  \n",
       "832  Public_Transportation   Overweight_Level_I  \n",
       "833  Public_Transportation   Overweight_Level_I  \n",
       "834  Public_Transportation   Overweight_Level_I  \n",
       "921  Public_Transportation   Overweight_Level_I  \n",
       "922  Public_Transportation   Overweight_Level_I  \n",
       "923  Public_Transportation   Overweight_Level_I  "
      ]
     },
     "execution_count": 13,
     "metadata": {},
     "output_type": "execute_result"
    }
   ],
   "source": [
    "df[df.duplicated(keep = False)]"
   ]
  },
  {
   "cell_type": "code",
   "execution_count": 14,
   "metadata": {
    "colab": {
     "base_uri": "https://localhost:8080/"
    },
    "executionInfo": {
     "elapsed": 837,
     "status": "ok",
     "timestamp": 1700829086436,
     "user": {
      "displayName": "Jan",
      "userId": "15086773509541200420"
     },
     "user_tz": -480
    },
    "id": "j_zr4x6wtMaW",
    "outputId": "dea7699d-55fd-4c31-ea1f-c009877963e0"
   },
   "outputs": [
    {
     "data": {
      "text/plain": [
       "0"
      ]
     },
     "execution_count": 14,
     "metadata": {},
     "output_type": "execute_result"
    }
   ],
   "source": [
    "df.drop_duplicates(inplace = True)\n",
    "df.duplicated().sum()"
   ]
  },
  {
   "cell_type": "markdown",
   "metadata": {
    "id": "oGmWFpHktunA"
   },
   "source": [
    "Duplicates were dropped."
   ]
  },
  {
   "cell_type": "code",
   "execution_count": 15,
   "metadata": {
    "colab": {
     "base_uri": "https://localhost:8080/"
    },
    "executionInfo": {
     "elapsed": 4,
     "status": "ok",
     "timestamp": 1700829088804,
     "user": {
      "displayName": "Jan",
      "userId": "15086773509541200420"
     },
     "user_tz": -480
    },
    "id": "xJI66QoSta71",
    "outputId": "d7a8b8c1-1b85-4b19-b460-2ba26621b65f"
   },
   "outputs": [
    {
     "data": {
      "text/plain": [
       "(2087, 17)"
      ]
     },
     "execution_count": 15,
     "metadata": {},
     "output_type": "execute_result"
    }
   ],
   "source": [
    "df.shape"
   ]
  },
  {
   "cell_type": "markdown",
   "metadata": {
    "id": "Q9TuKPbaS23U"
   },
   "source": [
    "After removing duplicates, the dataset now has 2087 rows and 17 columns"
   ]
  },
  {
   "cell_type": "code",
   "execution_count": 16,
   "metadata": {
    "colab": {
     "base_uri": "https://localhost:8080/"
    },
    "executionInfo": {
     "elapsed": 4,
     "status": "ok",
     "timestamp": 1700829091156,
     "user": {
      "displayName": "Jan",
      "userId": "15086773509541200420"
     },
     "user_tz": -480
    },
    "id": "06f5qqPwtcls",
    "outputId": "032613f6-55cf-4ac3-80a1-090b27147db9"
   },
   "outputs": [
    {
     "data": {
      "text/plain": [
       "Gender                            0\n",
       "Age                               0\n",
       "Height                            0\n",
       "Weight                            0\n",
       "family_history_with_overweight    0\n",
       "FAVC                              0\n",
       "FCVC                              0\n",
       "NCP                               0\n",
       "CAEC                              0\n",
       "SMOKE                             0\n",
       "CH2O                              0\n",
       "SCC                               0\n",
       "FAF                               0\n",
       "TUE                               0\n",
       "CALC                              0\n",
       "MTRANS                            0\n",
       "NObeyesdad                        0\n",
       "dtype: int64"
      ]
     },
     "execution_count": 16,
     "metadata": {},
     "output_type": "execute_result"
    }
   ],
   "source": [
    "df.isna().sum()"
   ]
  },
  {
   "cell_type": "markdown",
   "metadata": {
    "id": "QfhD8ewltq-J"
   },
   "source": [
    "There are no missing values."
   ]
  },
  {
   "cell_type": "code",
   "execution_count": 17,
   "metadata": {
    "colab": {
     "base_uri": "https://localhost:8080/",
     "height": 226
    },
    "executionInfo": {
     "elapsed": 5,
     "status": "ok",
     "timestamp": 1700829093398,
     "user": {
      "displayName": "Jan",
      "userId": "15086773509541200420"
     },
     "user_tz": -480
    },
    "id": "E0Mjky9gJcwq",
    "outputId": "f03336e3-4f2a-4df7-b85b-a7a757a45b21"
   },
   "outputs": [
    {
     "data": {
      "text/html": [
       "<div>\n",
       "<style scoped>\n",
       "    .dataframe tbody tr th:only-of-type {\n",
       "        vertical-align: middle;\n",
       "    }\n",
       "\n",
       "    .dataframe tbody tr th {\n",
       "        vertical-align: top;\n",
       "    }\n",
       "\n",
       "    .dataframe thead th {\n",
       "        text-align: right;\n",
       "    }\n",
       "</style>\n",
       "<table border=\"1\" class=\"dataframe\">\n",
       "  <thead>\n",
       "    <tr style=\"text-align: right;\">\n",
       "      <th></th>\n",
       "      <th>Gender</th>\n",
       "      <th>Age</th>\n",
       "      <th>Height</th>\n",
       "      <th>Weight</th>\n",
       "      <th>Family_history_with_overweight</th>\n",
       "      <th>Frequency_highcaloricfood_consumption</th>\n",
       "      <th>Frequency_vegetable_consumption</th>\n",
       "      <th>Number_of_main_meals</th>\n",
       "      <th>Consumption_food_between_meals</th>\n",
       "      <th>Smoking_status</th>\n",
       "      <th>Daily_water_consumption</th>\n",
       "      <th>Monitoring_calorie_consumption</th>\n",
       "      <th>Frequency_physical_activity</th>\n",
       "      <th>Time_using_technology_devices</th>\n",
       "      <th>Alcohol_consumption</th>\n",
       "      <th>Transportation_used</th>\n",
       "      <th>Obesity_Levels</th>\n",
       "    </tr>\n",
       "  </thead>\n",
       "  <tbody>\n",
       "    <tr>\n",
       "      <th>0</th>\n",
       "      <td>Female</td>\n",
       "      <td>21.0</td>\n",
       "      <td>1.62</td>\n",
       "      <td>64.0</td>\n",
       "      <td>yes</td>\n",
       "      <td>no</td>\n",
       "      <td>2.0</td>\n",
       "      <td>3.0</td>\n",
       "      <td>Sometimes</td>\n",
       "      <td>no</td>\n",
       "      <td>2.0</td>\n",
       "      <td>no</td>\n",
       "      <td>0.0</td>\n",
       "      <td>1.0</td>\n",
       "      <td>no</td>\n",
       "      <td>Public_Transportation</td>\n",
       "      <td>Normal_Weight</td>\n",
       "    </tr>\n",
       "    <tr>\n",
       "      <th>1</th>\n",
       "      <td>Female</td>\n",
       "      <td>21.0</td>\n",
       "      <td>1.52</td>\n",
       "      <td>56.0</td>\n",
       "      <td>yes</td>\n",
       "      <td>no</td>\n",
       "      <td>3.0</td>\n",
       "      <td>3.0</td>\n",
       "      <td>Sometimes</td>\n",
       "      <td>yes</td>\n",
       "      <td>3.0</td>\n",
       "      <td>yes</td>\n",
       "      <td>3.0</td>\n",
       "      <td>0.0</td>\n",
       "      <td>Sometimes</td>\n",
       "      <td>Public_Transportation</td>\n",
       "      <td>Normal_Weight</td>\n",
       "    </tr>\n",
       "    <tr>\n",
       "      <th>2</th>\n",
       "      <td>Male</td>\n",
       "      <td>23.0</td>\n",
       "      <td>1.80</td>\n",
       "      <td>77.0</td>\n",
       "      <td>yes</td>\n",
       "      <td>no</td>\n",
       "      <td>2.0</td>\n",
       "      <td>3.0</td>\n",
       "      <td>Sometimes</td>\n",
       "      <td>no</td>\n",
       "      <td>2.0</td>\n",
       "      <td>no</td>\n",
       "      <td>2.0</td>\n",
       "      <td>1.0</td>\n",
       "      <td>Frequently</td>\n",
       "      <td>Public_Transportation</td>\n",
       "      <td>Normal_Weight</td>\n",
       "    </tr>\n",
       "    <tr>\n",
       "      <th>3</th>\n",
       "      <td>Male</td>\n",
       "      <td>27.0</td>\n",
       "      <td>1.80</td>\n",
       "      <td>87.0</td>\n",
       "      <td>no</td>\n",
       "      <td>no</td>\n",
       "      <td>3.0</td>\n",
       "      <td>3.0</td>\n",
       "      <td>Sometimes</td>\n",
       "      <td>no</td>\n",
       "      <td>2.0</td>\n",
       "      <td>no</td>\n",
       "      <td>2.0</td>\n",
       "      <td>0.0</td>\n",
       "      <td>Frequently</td>\n",
       "      <td>Walking</td>\n",
       "      <td>Overweight_Level_I</td>\n",
       "    </tr>\n",
       "    <tr>\n",
       "      <th>4</th>\n",
       "      <td>Male</td>\n",
       "      <td>22.0</td>\n",
       "      <td>1.78</td>\n",
       "      <td>89.8</td>\n",
       "      <td>no</td>\n",
       "      <td>no</td>\n",
       "      <td>2.0</td>\n",
       "      <td>1.0</td>\n",
       "      <td>Sometimes</td>\n",
       "      <td>no</td>\n",
       "      <td>2.0</td>\n",
       "      <td>no</td>\n",
       "      <td>0.0</td>\n",
       "      <td>0.0</td>\n",
       "      <td>Sometimes</td>\n",
       "      <td>Public_Transportation</td>\n",
       "      <td>Overweight_Level_II</td>\n",
       "    </tr>\n",
       "  </tbody>\n",
       "</table>\n",
       "</div>"
      ],
      "text/plain": [
       "   Gender   Age  Height  Weight Family_history_with_overweight  \\\n",
       "0  Female  21.0    1.62    64.0                            yes   \n",
       "1  Female  21.0    1.52    56.0                            yes   \n",
       "2    Male  23.0    1.80    77.0                            yes   \n",
       "3    Male  27.0    1.80    87.0                             no   \n",
       "4    Male  22.0    1.78    89.8                             no   \n",
       "\n",
       "  Frequency_highcaloricfood_consumption  Frequency_vegetable_consumption  \\\n",
       "0                                    no                              2.0   \n",
       "1                                    no                              3.0   \n",
       "2                                    no                              2.0   \n",
       "3                                    no                              3.0   \n",
       "4                                    no                              2.0   \n",
       "\n",
       "   Number_of_main_meals Consumption_food_between_meals Smoking_status  \\\n",
       "0                   3.0                      Sometimes             no   \n",
       "1                   3.0                      Sometimes            yes   \n",
       "2                   3.0                      Sometimes             no   \n",
       "3                   3.0                      Sometimes             no   \n",
       "4                   1.0                      Sometimes             no   \n",
       "\n",
       "   Daily_water_consumption Monitoring_calorie_consumption  \\\n",
       "0                      2.0                             no   \n",
       "1                      3.0                            yes   \n",
       "2                      2.0                             no   \n",
       "3                      2.0                             no   \n",
       "4                      2.0                             no   \n",
       "\n",
       "   Frequency_physical_activity  Time_using_technology_devices  \\\n",
       "0                          0.0                            1.0   \n",
       "1                          3.0                            0.0   \n",
       "2                          2.0                            1.0   \n",
       "3                          2.0                            0.0   \n",
       "4                          0.0                            0.0   \n",
       "\n",
       "  Alcohol_consumption    Transportation_used       Obesity_Levels  \n",
       "0                  no  Public_Transportation        Normal_Weight  \n",
       "1           Sometimes  Public_Transportation        Normal_Weight  \n",
       "2          Frequently  Public_Transportation        Normal_Weight  \n",
       "3          Frequently                Walking   Overweight_Level_I  \n",
       "4           Sometimes  Public_Transportation  Overweight_Level_II  "
      ]
     },
     "execution_count": 17,
     "metadata": {},
     "output_type": "execute_result"
    }
   ],
   "source": [
    "df = df.rename(columns={'FCVC': 'Frequency_vegetable_consumption',\n",
    "                        'NCP': 'Number_of_main_meals',\n",
    "                        'CH2O':'Daily_water_consumption',\n",
    "                        'FAF': 'Frequency_physical_activity',\n",
    "                        'TUE': 'Time_using_technology_devices',\n",
    "                        'FAVC':'Frequency_highcaloricfood_consumption',\n",
    "                        'CAEC': 'Consumption_food_between_meals',\n",
    "                        'SMOKE': 'Smoking_status',\n",
    "                        'SCC': 'Monitoring_calorie_consumption',\n",
    "                        'CALC': 'Alcohol_consumption',\n",
    "                        'MTRANS': 'Transportation_used',\n",
    "                        'family_history_with_overweight': 'Family_history_with_overweight',\n",
    "                        'NObeyesdad': 'Obesity_Levels',\n",
    "                      })\n",
    "df.head()"
   ]
  },
  {
   "cell_type": "markdown",
   "metadata": {
    "id": "tpnnu-MZSyM9"
   },
   "source": [
    "Columns were renamed to be more descriptive"
   ]
  },
  {
   "cell_type": "code",
   "execution_count": 18,
   "metadata": {
    "colab": {
     "base_uri": "https://localhost:8080/",
     "height": 300
    },
    "executionInfo": {
     "elapsed": 8,
     "status": "ok",
     "timestamp": 1700829095525,
     "user": {
      "displayName": "Jan",
      "userId": "15086773509541200420"
     },
     "user_tz": -480
    },
    "id": "joX0BFqmtkME",
    "outputId": "9b15fe71-5d56-4ae7-994f-4aee00c07835"
   },
   "outputs": [
    {
     "data": {
      "text/html": [
       "<div>\n",
       "<style scoped>\n",
       "    .dataframe tbody tr th:only-of-type {\n",
       "        vertical-align: middle;\n",
       "    }\n",
       "\n",
       "    .dataframe tbody tr th {\n",
       "        vertical-align: top;\n",
       "    }\n",
       "\n",
       "    .dataframe thead th {\n",
       "        text-align: right;\n",
       "    }\n",
       "</style>\n",
       "<table border=\"1\" class=\"dataframe\">\n",
       "  <thead>\n",
       "    <tr style=\"text-align: right;\">\n",
       "      <th></th>\n",
       "      <th>Age</th>\n",
       "      <th>Height</th>\n",
       "      <th>Weight</th>\n",
       "      <th>Frequency_vegetable_consumption</th>\n",
       "      <th>Number_of_main_meals</th>\n",
       "      <th>Daily_water_consumption</th>\n",
       "      <th>Frequency_physical_activity</th>\n",
       "      <th>Time_using_technology_devices</th>\n",
       "    </tr>\n",
       "  </thead>\n",
       "  <tbody>\n",
       "    <tr>\n",
       "      <th>count</th>\n",
       "      <td>2087.000000</td>\n",
       "      <td>2087.000000</td>\n",
       "      <td>2087.000000</td>\n",
       "      <td>2087.000000</td>\n",
       "      <td>2087.000000</td>\n",
       "      <td>2087.000000</td>\n",
       "      <td>2087.000000</td>\n",
       "      <td>2087.000000</td>\n",
       "    </tr>\n",
       "    <tr>\n",
       "      <th>mean</th>\n",
       "      <td>24.353090</td>\n",
       "      <td>1.702674</td>\n",
       "      <td>86.858730</td>\n",
       "      <td>2.421466</td>\n",
       "      <td>2.701179</td>\n",
       "      <td>2.004749</td>\n",
       "      <td>1.012812</td>\n",
       "      <td>0.663035</td>\n",
       "    </tr>\n",
       "    <tr>\n",
       "      <th>std</th>\n",
       "      <td>6.368801</td>\n",
       "      <td>0.093186</td>\n",
       "      <td>26.190847</td>\n",
       "      <td>0.534737</td>\n",
       "      <td>0.764614</td>\n",
       "      <td>0.608284</td>\n",
       "      <td>0.853475</td>\n",
       "      <td>0.608153</td>\n",
       "    </tr>\n",
       "    <tr>\n",
       "      <th>min</th>\n",
       "      <td>14.000000</td>\n",
       "      <td>1.450000</td>\n",
       "      <td>39.000000</td>\n",
       "      <td>1.000000</td>\n",
       "      <td>1.000000</td>\n",
       "      <td>1.000000</td>\n",
       "      <td>0.000000</td>\n",
       "      <td>0.000000</td>\n",
       "    </tr>\n",
       "    <tr>\n",
       "      <th>25%</th>\n",
       "      <td>19.915937</td>\n",
       "      <td>1.630178</td>\n",
       "      <td>66.000000</td>\n",
       "      <td>2.000000</td>\n",
       "      <td>2.697467</td>\n",
       "      <td>1.590922</td>\n",
       "      <td>0.124505</td>\n",
       "      <td>0.000000</td>\n",
       "    </tr>\n",
       "    <tr>\n",
       "      <th>50%</th>\n",
       "      <td>22.847618</td>\n",
       "      <td>1.701584</td>\n",
       "      <td>83.101100</td>\n",
       "      <td>2.396265</td>\n",
       "      <td>3.000000</td>\n",
       "      <td>2.000000</td>\n",
       "      <td>1.000000</td>\n",
       "      <td>0.630866</td>\n",
       "    </tr>\n",
       "    <tr>\n",
       "      <th>75%</th>\n",
       "      <td>26.000000</td>\n",
       "      <td>1.769491</td>\n",
       "      <td>108.015907</td>\n",
       "      <td>3.000000</td>\n",
       "      <td>3.000000</td>\n",
       "      <td>2.466193</td>\n",
       "      <td>1.678102</td>\n",
       "      <td>1.000000</td>\n",
       "    </tr>\n",
       "    <tr>\n",
       "      <th>max</th>\n",
       "      <td>61.000000</td>\n",
       "      <td>1.980000</td>\n",
       "      <td>173.000000</td>\n",
       "      <td>3.000000</td>\n",
       "      <td>4.000000</td>\n",
       "      <td>3.000000</td>\n",
       "      <td>3.000000</td>\n",
       "      <td>2.000000</td>\n",
       "    </tr>\n",
       "  </tbody>\n",
       "</table>\n",
       "</div>"
      ],
      "text/plain": [
       "               Age       Height       Weight  Frequency_vegetable_consumption  \\\n",
       "count  2087.000000  2087.000000  2087.000000                      2087.000000   \n",
       "mean     24.353090     1.702674    86.858730                         2.421466   \n",
       "std       6.368801     0.093186    26.190847                         0.534737   \n",
       "min      14.000000     1.450000    39.000000                         1.000000   \n",
       "25%      19.915937     1.630178    66.000000                         2.000000   \n",
       "50%      22.847618     1.701584    83.101100                         2.396265   \n",
       "75%      26.000000     1.769491   108.015907                         3.000000   \n",
       "max      61.000000     1.980000   173.000000                         3.000000   \n",
       "\n",
       "       Number_of_main_meals  Daily_water_consumption  \\\n",
       "count           2087.000000              2087.000000   \n",
       "mean               2.701179                 2.004749   \n",
       "std                0.764614                 0.608284   \n",
       "min                1.000000                 1.000000   \n",
       "25%                2.697467                 1.590922   \n",
       "50%                3.000000                 2.000000   \n",
       "75%                3.000000                 2.466193   \n",
       "max                4.000000                 3.000000   \n",
       "\n",
       "       Frequency_physical_activity  Time_using_technology_devices  \n",
       "count                  2087.000000                    2087.000000  \n",
       "mean                      1.012812                       0.663035  \n",
       "std                       0.853475                       0.608153  \n",
       "min                       0.000000                       0.000000  \n",
       "25%                       0.124505                       0.000000  \n",
       "50%                       1.000000                       0.630866  \n",
       "75%                       1.678102                       1.000000  \n",
       "max                       3.000000                       2.000000  "
      ]
     },
     "execution_count": 18,
     "metadata": {},
     "output_type": "execute_result"
    }
   ],
   "source": [
    "df.describe()"
   ]
  },
  {
   "cell_type": "code",
   "execution_count": 19,
   "metadata": {
    "colab": {
     "base_uri": "https://localhost:8080/",
     "height": 175
    },
    "executionInfo": {
     "elapsed": 879,
     "status": "ok",
     "timestamp": 1700829104482,
     "user": {
      "displayName": "Jan",
      "userId": "15086773509541200420"
     },
     "user_tz": -480
    },
    "id": "L39sIlU4uczk",
    "outputId": "2e895193-689f-41fa-9768-241b6b91507a"
   },
   "outputs": [
    {
     "data": {
      "text/html": [
       "<div>\n",
       "<style scoped>\n",
       "    .dataframe tbody tr th:only-of-type {\n",
       "        vertical-align: middle;\n",
       "    }\n",
       "\n",
       "    .dataframe tbody tr th {\n",
       "        vertical-align: top;\n",
       "    }\n",
       "\n",
       "    .dataframe thead th {\n",
       "        text-align: right;\n",
       "    }\n",
       "</style>\n",
       "<table border=\"1\" class=\"dataframe\">\n",
       "  <thead>\n",
       "    <tr style=\"text-align: right;\">\n",
       "      <th></th>\n",
       "      <th>Gender</th>\n",
       "      <th>Family_history_with_overweight</th>\n",
       "      <th>Frequency_highcaloricfood_consumption</th>\n",
       "      <th>Consumption_food_between_meals</th>\n",
       "      <th>Smoking_status</th>\n",
       "      <th>Monitoring_calorie_consumption</th>\n",
       "      <th>Alcohol_consumption</th>\n",
       "      <th>Transportation_used</th>\n",
       "      <th>Obesity_Levels</th>\n",
       "    </tr>\n",
       "  </thead>\n",
       "  <tbody>\n",
       "    <tr>\n",
       "      <th>count</th>\n",
       "      <td>2087</td>\n",
       "      <td>2087</td>\n",
       "      <td>2087</td>\n",
       "      <td>2087</td>\n",
       "      <td>2087</td>\n",
       "      <td>2087</td>\n",
       "      <td>2087</td>\n",
       "      <td>2087</td>\n",
       "      <td>2087</td>\n",
       "    </tr>\n",
       "    <tr>\n",
       "      <th>unique</th>\n",
       "      <td>2</td>\n",
       "      <td>2</td>\n",
       "      <td>2</td>\n",
       "      <td>4</td>\n",
       "      <td>2</td>\n",
       "      <td>2</td>\n",
       "      <td>4</td>\n",
       "      <td>5</td>\n",
       "      <td>7</td>\n",
       "    </tr>\n",
       "    <tr>\n",
       "      <th>top</th>\n",
       "      <td>Male</td>\n",
       "      <td>yes</td>\n",
       "      <td>yes</td>\n",
       "      <td>Sometimes</td>\n",
       "      <td>no</td>\n",
       "      <td>no</td>\n",
       "      <td>Sometimes</td>\n",
       "      <td>Public_Transportation</td>\n",
       "      <td>Obesity_Type_I</td>\n",
       "    </tr>\n",
       "    <tr>\n",
       "      <th>freq</th>\n",
       "      <td>1052</td>\n",
       "      <td>1722</td>\n",
       "      <td>1844</td>\n",
       "      <td>1761</td>\n",
       "      <td>2043</td>\n",
       "      <td>1991</td>\n",
       "      <td>1380</td>\n",
       "      <td>1558</td>\n",
       "      <td>351</td>\n",
       "    </tr>\n",
       "  </tbody>\n",
       "</table>\n",
       "</div>"
      ],
      "text/plain": [
       "       Gender Family_history_with_overweight  \\\n",
       "count    2087                           2087   \n",
       "unique      2                              2   \n",
       "top      Male                            yes   \n",
       "freq     1052                           1722   \n",
       "\n",
       "       Frequency_highcaloricfood_consumption Consumption_food_between_meals  \\\n",
       "count                                   2087                           2087   \n",
       "unique                                     2                              4   \n",
       "top                                      yes                      Sometimes   \n",
       "freq                                    1844                           1761   \n",
       "\n",
       "       Smoking_status Monitoring_calorie_consumption Alcohol_consumption  \\\n",
       "count            2087                           2087                2087   \n",
       "unique              2                              2                   4   \n",
       "top                no                             no           Sometimes   \n",
       "freq             2043                           1991                1380   \n",
       "\n",
       "          Transportation_used  Obesity_Levels  \n",
       "count                    2087            2087  \n",
       "unique                      5               7  \n",
       "top     Public_Transportation  Obesity_Type_I  \n",
       "freq                     1558             351  "
      ]
     },
     "execution_count": 19,
     "metadata": {},
     "output_type": "execute_result"
    }
   ],
   "source": [
    "df.describe(include = 'object')"
   ]
  },
  {
   "cell_type": "code",
   "execution_count": 20,
   "metadata": {
    "colab": {
     "base_uri": "https://localhost:8080/"
    },
    "executionInfo": {
     "elapsed": 831,
     "status": "ok",
     "timestamp": 1700829107707,
     "user": {
      "displayName": "Jan",
      "userId": "15086773509541200420"
     },
     "user_tz": -480
    },
    "id": "PYONLmSUTJDB",
    "outputId": "a93f25ac-f49e-4226-b0fa-ab37aaf10fd3"
   },
   "outputs": [
    {
     "name": "stdout",
     "output_type": "stream",
     "text": [
      "outliers in Age: \n",
      " 21      52.000000\n",
      "92      55.000000\n",
      "133     61.000000\n",
      "137     44.000000\n",
      "161     55.000000\n",
      "169     45.000000\n",
      "232     51.000000\n",
      "252     56.000000\n",
      "492     45.000000\n",
      "1013    55.246250\n",
      "1034    50.832559\n",
      "1063    45.000000\n",
      "1088    55.137881\n",
      "1101    46.491859\n",
      "1158    55.022494\n",
      "1179    47.706100\n",
      "1208    45.821267\n",
      "1215    43.604901\n",
      "1267    43.510672\n",
      "1286    47.283374\n",
      "1305    43.591999\n",
      "1386    43.719395\n",
      "1490    43.726081\n",
      "Name: Age, dtype: float64\n",
      "outliers in Height: \n",
      " Series([], Name: Height, dtype: float64)\n",
      "outliers in Weight: \n",
      " 344    173.0\n",
      "Name: Weight, dtype: float64\n",
      "outliers in Frequency_vegetable_consumption: \n",
      " Series([], Name: Frequency_vegetable_consumption, dtype: float64)\n",
      "outliers in Number_of_main_meals: \n",
      " Series([], Name: Number_of_main_meals, dtype: float64)\n",
      "outliers in Daily_water_consumption: \n",
      " Series([], Name: Daily_water_consumption, dtype: float64)\n",
      "outliers in Frequency_physical_activity: \n",
      " Series([], Name: Frequency_physical_activity, dtype: float64)\n",
      "outliers in Time_using_technology_devices: \n",
      " Series([], Name: Time_using_technology_devices, dtype: float64)\n"
     ]
    }
   ],
   "source": [
    "# check outliers using zscore\n",
    "from scipy import stats\n",
    "\n",
    "# create a var that includes only numeric columns\n",
    "cols_to_check = df.select_dtypes(include = [np.number]).columns\n",
    "\n",
    "# create a loop that detects outliers using the zscore\n",
    "for column in cols_to_check:\n",
    "  # calculate zscore for the col\n",
    "  z_scores = np.abs(stats.zscore(df[column]))\n",
    "  # find the indices where the zscore is > 3\n",
    "  outlier_indices = np.where(z_scores > 3)\n",
    "  # return the actual outlier values using the indices\n",
    "  outlier_values = df[column].iloc[outlier_indices]\n",
    "  # return the outliers and their indices\n",
    "  print(f'outliers in {column}: \\n', outlier_values)"
   ]
  },
  {
   "cell_type": "markdown",
   "metadata": {
    "id": "atg1LSQZTWFL"
   },
   "source": [
    "There are outliers in the Age and Weight columns but these are not unrealistic values and could represent important information."
   ]
  },
  {
   "cell_type": "code",
   "execution_count": 23,
   "metadata": {
    "colab": {
     "base_uri": "https://localhost:8080/",
     "height": 226
    },
    "executionInfo": {
     "elapsed": 903,
     "status": "ok",
     "timestamp": 1700829141731,
     "user": {
      "displayName": "Jan",
      "userId": "15086773509541200420"
     },
     "user_tz": -480
    },
    "id": "ofDzTMtzfN-l",
    "outputId": "7d616259-5e27-478a-9cd2-2e02b36a52ae"
   },
   "outputs": [
    {
     "data": {
      "text/html": [
       "<div>\n",
       "<style scoped>\n",
       "    .dataframe tbody tr th:only-of-type {\n",
       "        vertical-align: middle;\n",
       "    }\n",
       "\n",
       "    .dataframe tbody tr th {\n",
       "        vertical-align: top;\n",
       "    }\n",
       "\n",
       "    .dataframe thead th {\n",
       "        text-align: right;\n",
       "    }\n",
       "</style>\n",
       "<table border=\"1\" class=\"dataframe\">\n",
       "  <thead>\n",
       "    <tr style=\"text-align: right;\">\n",
       "      <th></th>\n",
       "      <th>Gender</th>\n",
       "      <th>Age</th>\n",
       "      <th>Height</th>\n",
       "      <th>Weight</th>\n",
       "      <th>Family_history_with_overweight</th>\n",
       "      <th>Frequency_highcaloricfood_consumption</th>\n",
       "      <th>Frequency_vegetable_consumption</th>\n",
       "      <th>Number_of_main_meals</th>\n",
       "      <th>Consumption_food_between_meals</th>\n",
       "      <th>Smoking_status</th>\n",
       "      <th>Daily_water_consumption</th>\n",
       "      <th>Monitoring_calorie_consumption</th>\n",
       "      <th>Frequency_physical_activity</th>\n",
       "      <th>Time_using_technology_devices</th>\n",
       "      <th>Alcohol_consumption</th>\n",
       "      <th>Transportation_used</th>\n",
       "      <th>Obesity_Levels</th>\n",
       "    </tr>\n",
       "  </thead>\n",
       "  <tbody>\n",
       "    <tr>\n",
       "      <th>0</th>\n",
       "      <td>Female</td>\n",
       "      <td>21.0</td>\n",
       "      <td>1.62</td>\n",
       "      <td>64.0</td>\n",
       "      <td>yes</td>\n",
       "      <td>no</td>\n",
       "      <td>2.0</td>\n",
       "      <td>3.0</td>\n",
       "      <td>Sometimes</td>\n",
       "      <td>no</td>\n",
       "      <td>2.0</td>\n",
       "      <td>no</td>\n",
       "      <td>0.0</td>\n",
       "      <td>1.0</td>\n",
       "      <td>no</td>\n",
       "      <td>Public_Transportation</td>\n",
       "      <td>Normal_Weight</td>\n",
       "    </tr>\n",
       "    <tr>\n",
       "      <th>1</th>\n",
       "      <td>Female</td>\n",
       "      <td>21.0</td>\n",
       "      <td>1.52</td>\n",
       "      <td>56.0</td>\n",
       "      <td>yes</td>\n",
       "      <td>no</td>\n",
       "      <td>3.0</td>\n",
       "      <td>3.0</td>\n",
       "      <td>Sometimes</td>\n",
       "      <td>yes</td>\n",
       "      <td>3.0</td>\n",
       "      <td>yes</td>\n",
       "      <td>3.0</td>\n",
       "      <td>0.0</td>\n",
       "      <td>Sometimes</td>\n",
       "      <td>Public_Transportation</td>\n",
       "      <td>Normal_Weight</td>\n",
       "    </tr>\n",
       "    <tr>\n",
       "      <th>2</th>\n",
       "      <td>Male</td>\n",
       "      <td>23.0</td>\n",
       "      <td>1.80</td>\n",
       "      <td>77.0</td>\n",
       "      <td>yes</td>\n",
       "      <td>no</td>\n",
       "      <td>2.0</td>\n",
       "      <td>3.0</td>\n",
       "      <td>Sometimes</td>\n",
       "      <td>no</td>\n",
       "      <td>2.0</td>\n",
       "      <td>no</td>\n",
       "      <td>2.0</td>\n",
       "      <td>1.0</td>\n",
       "      <td>Frequently</td>\n",
       "      <td>Public_Transportation</td>\n",
       "      <td>Normal_Weight</td>\n",
       "    </tr>\n",
       "    <tr>\n",
       "      <th>3</th>\n",
       "      <td>Male</td>\n",
       "      <td>27.0</td>\n",
       "      <td>1.80</td>\n",
       "      <td>87.0</td>\n",
       "      <td>no</td>\n",
       "      <td>no</td>\n",
       "      <td>3.0</td>\n",
       "      <td>3.0</td>\n",
       "      <td>Sometimes</td>\n",
       "      <td>no</td>\n",
       "      <td>2.0</td>\n",
       "      <td>no</td>\n",
       "      <td>2.0</td>\n",
       "      <td>0.0</td>\n",
       "      <td>Frequently</td>\n",
       "      <td>Walking</td>\n",
       "      <td>Overweight_Level_I</td>\n",
       "    </tr>\n",
       "    <tr>\n",
       "      <th>4</th>\n",
       "      <td>Male</td>\n",
       "      <td>22.0</td>\n",
       "      <td>1.78</td>\n",
       "      <td>89.8</td>\n",
       "      <td>no</td>\n",
       "      <td>no</td>\n",
       "      <td>2.0</td>\n",
       "      <td>1.0</td>\n",
       "      <td>Sometimes</td>\n",
       "      <td>no</td>\n",
       "      <td>2.0</td>\n",
       "      <td>no</td>\n",
       "      <td>0.0</td>\n",
       "      <td>0.0</td>\n",
       "      <td>Sometimes</td>\n",
       "      <td>Public_Transportation</td>\n",
       "      <td>Overweight_Level_II</td>\n",
       "    </tr>\n",
       "  </tbody>\n",
       "</table>\n",
       "</div>"
      ],
      "text/plain": [
       "   Gender   Age  Height  Weight Family_history_with_overweight  \\\n",
       "0  Female  21.0    1.62    64.0                            yes   \n",
       "1  Female  21.0    1.52    56.0                            yes   \n",
       "2    Male  23.0    1.80    77.0                            yes   \n",
       "3    Male  27.0    1.80    87.0                             no   \n",
       "4    Male  22.0    1.78    89.8                             no   \n",
       "\n",
       "  Frequency_highcaloricfood_consumption  Frequency_vegetable_consumption  \\\n",
       "0                                    no                              2.0   \n",
       "1                                    no                              3.0   \n",
       "2                                    no                              2.0   \n",
       "3                                    no                              3.0   \n",
       "4                                    no                              2.0   \n",
       "\n",
       "   Number_of_main_meals Consumption_food_between_meals Smoking_status  \\\n",
       "0                   3.0                      Sometimes             no   \n",
       "1                   3.0                      Sometimes            yes   \n",
       "2                   3.0                      Sometimes             no   \n",
       "3                   3.0                      Sometimes             no   \n",
       "4                   1.0                      Sometimes             no   \n",
       "\n",
       "   Daily_water_consumption Monitoring_calorie_consumption  \\\n",
       "0                      2.0                             no   \n",
       "1                      3.0                            yes   \n",
       "2                      2.0                             no   \n",
       "3                      2.0                             no   \n",
       "4                      2.0                             no   \n",
       "\n",
       "   Frequency_physical_activity  Time_using_technology_devices  \\\n",
       "0                          0.0                            1.0   \n",
       "1                          3.0                            0.0   \n",
       "2                          2.0                            1.0   \n",
       "3                          2.0                            0.0   \n",
       "4                          0.0                            0.0   \n",
       "\n",
       "  Alcohol_consumption    Transportation_used       Obesity_Levels  \n",
       "0                  no  Public_Transportation        Normal_Weight  \n",
       "1           Sometimes  Public_Transportation        Normal_Weight  \n",
       "2          Frequently  Public_Transportation        Normal_Weight  \n",
       "3          Frequently                Walking   Overweight_Level_I  \n",
       "4           Sometimes  Public_Transportation  Overweight_Level_II  "
      ]
     },
     "execution_count": 23,
     "metadata": {},
     "output_type": "execute_result"
    }
   ],
   "source": [
    "# save clean dataset for loading later for preprocessing\n",
    "cleaned_df = df.copy()\n",
    "cleaned_df.to_excel('cleaned_dataset.xlsx', index=False)\n",
    "cleaned_df.head()"
   ]
  },
  {
   "cell_type": "code",
   "execution_count": 24,
   "metadata": {
    "colab": {
     "base_uri": "https://localhost:8080/"
    },
    "executionInfo": {
     "elapsed": 633,
     "status": "ok",
     "timestamp": 1700829147833,
     "user": {
      "displayName": "Jan",
      "userId": "15086773509541200420"
     },
     "user_tz": -480
    },
    "id": "96G5235UjtpG",
    "outputId": "561d58eb-cb32-4d81-d41b-ec0f09e61b8d"
   },
   "outputs": [
    {
     "name": "stdout",
     "output_type": "stream",
     "text": [
      "<class 'pandas.core.frame.DataFrame'>\n",
      "Index: 2087 entries, 0 to 2110\n",
      "Data columns (total 17 columns):\n",
      " #   Column                                 Non-Null Count  Dtype  \n",
      "---  ------                                 --------------  -----  \n",
      " 0   Gender                                 2087 non-null   object \n",
      " 1   Age                                    2087 non-null   float64\n",
      " 2   Height                                 2087 non-null   float64\n",
      " 3   Weight                                 2087 non-null   float64\n",
      " 4   Family_history_with_overweight         2087 non-null   object \n",
      " 5   Frequency_highcaloricfood_consumption  2087 non-null   object \n",
      " 6   Frequency_vegetable_consumption        2087 non-null   float64\n",
      " 7   Number_of_main_meals                   2087 non-null   float64\n",
      " 8   Consumption_food_between_meals         2087 non-null   object \n",
      " 9   Smoking_status                         2087 non-null   object \n",
      " 10  Daily_water_consumption                2087 non-null   float64\n",
      " 11  Monitoring_calorie_consumption         2087 non-null   object \n",
      " 12  Frequency_physical_activity            2087 non-null   float64\n",
      " 13  Time_using_technology_devices          2087 non-null   float64\n",
      " 14  Alcohol_consumption                    2087 non-null   object \n",
      " 15  Transportation_used                    2087 non-null   object \n",
      " 16  Obesity_Levels                         2087 non-null   object \n",
      "dtypes: float64(8), object(9)\n",
      "memory usage: 293.5+ KB\n"
     ]
    }
   ],
   "source": [
    "cleaned_df.info()"
   ]
  },
  {
   "cell_type": "code",
   "execution_count": 25,
   "metadata": {
    "colab": {
     "base_uri": "https://localhost:8080/"
    },
    "executionInfo": {
     "elapsed": 3,
     "status": "ok",
     "timestamp": 1700829150517,
     "user": {
      "displayName": "Jan",
      "userId": "15086773509541200420"
     },
     "user_tz": -480
    },
    "id": "CV0GyoxwjoaP",
    "outputId": "684c8449-e435-4a92-da61-9eff77ab7822"
   },
   "outputs": [
    {
     "name": "stderr",
     "output_type": "stream",
     "text": [
      "/var/folders/_r/6v7clryx7gn9b9wdwm296pk40000gn/T/ipykernel_5987/1938071875.py:10: FutureWarning: A value is trying to be set on a copy of a DataFrame or Series through chained assignment using an inplace method.\n",
      "The behavior will change in pandas 3.0. This inplace method will never work because the intermediate object on which we are setting values always behaves as a copy.\n",
      "\n",
      "For example, when doing 'df[col].method(value, inplace=True)', try using 'df.method({col: value}, inplace=True)' or df[col] = df[col].method(value) instead, to perform the operation inplace on the original object.\n",
      "\n",
      "\n",
      "  df['Obesity_Levels'].replace(change_dictionary, inplace=True)\n",
      "/var/folders/_r/6v7clryx7gn9b9wdwm296pk40000gn/T/ipykernel_5987/1938071875.py:10: FutureWarning: Downcasting behavior in `replace` is deprecated and will be removed in a future version. To retain the old behavior, explicitly call `result.infer_objects(copy=False)`. To opt-in to the future behavior, set `pd.set_option('future.no_silent_downcasting', True)`\n",
      "  df['Obesity_Levels'].replace(change_dictionary, inplace=True)\n"
     ]
    },
    {
     "data": {
      "text/plain": [
       "0       0\n",
       "1       0\n",
       "2       0\n",
       "3       1\n",
       "4       2\n",
       "       ..\n",
       "2106    5\n",
       "2107    5\n",
       "2108    5\n",
       "2109    5\n",
       "2110    5\n",
       "Name: Obesity_Levels, Length: 2087, dtype: int64"
      ]
     },
     "execution_count": 25,
     "metadata": {},
     "output_type": "execute_result"
    }
   ],
   "source": [
    "# ordinal encode the dataset for visualization purposes\n",
    "# Ordinal Encoding 'Obesity_Levels'\n",
    "change_dictionary = {'Normal_Weight':0,\n",
    "                     'Overweight_Level_I':1,\n",
    "                     'Overweight_Level_II':2,\n",
    "                     'Obesity_Type_I':3,\n",
    "                     'Obesity_Type_II':4,\n",
    "                     'Obesity_Type_III':5,\n",
    "                     'Insufficient_Weight':6,}\n",
    "df['Obesity_Levels'].replace(change_dictionary, inplace=True)\n",
    "df['Obesity_Levels']"
   ]
  },
  {
   "cell_type": "code",
   "execution_count": 26,
   "metadata": {
    "colab": {
     "base_uri": "https://localhost:8080/"
    },
    "executionInfo": {
     "elapsed": 8,
     "status": "ok",
     "timestamp": 1700829152873,
     "user": {
      "displayName": "Jan",
      "userId": "15086773509541200420"
     },
     "user_tz": -480
    },
    "id": "Lgo9KAzJl_jC",
    "outputId": "e0ce2282-a026-4d24-fae2-a2a0a94d00b8"
   },
   "outputs": [
    {
     "data": {
      "text/plain": [
       "Obesity_Levels\n",
       "3    351\n",
       "5    324\n",
       "4    297\n",
       "2    290\n",
       "0    282\n",
       "1    276\n",
       "6    267\n",
       "Name: count, dtype: int64"
      ]
     },
     "execution_count": 26,
     "metadata": {},
     "output_type": "execute_result"
    }
   ],
   "source": [
    "df['Obesity_Levels'].value_counts()"
   ]
  },
  {
   "cell_type": "code",
   "execution_count": 27,
   "metadata": {
    "colab": {
     "base_uri": "https://localhost:8080/"
    },
    "executionInfo": {
     "elapsed": 2,
     "status": "ok",
     "timestamp": 1700829154521,
     "user": {
      "displayName": "Jan",
      "userId": "15086773509541200420"
     },
     "user_tz": -480
    },
    "id": "DG-FJjyJm6n2",
    "outputId": "77e9ed2d-f118-49ad-97f6-ebed9f56268c"
   },
   "outputs": [
    {
     "data": {
      "text/plain": [
       "Gender\n",
       "Male      1052\n",
       "Female    1035\n",
       "Name: count, dtype: int64"
      ]
     },
     "execution_count": 27,
     "metadata": {},
     "output_type": "execute_result"
    }
   ],
   "source": [
    "df['Gender'].value_counts()"
   ]
  },
  {
   "cell_type": "code",
   "execution_count": 28,
   "metadata": {
    "colab": {
     "base_uri": "https://localhost:8080/"
    },
    "executionInfo": {
     "elapsed": 6,
     "status": "ok",
     "timestamp": 1700829155703,
     "user": {
      "displayName": "Jan",
      "userId": "15086773509541200420"
     },
     "user_tz": -480
    },
    "id": "RuPPPPqmkoJ8",
    "outputId": "19e34704-2950-412d-f4c3-a2a2b8ab79ac"
   },
   "outputs": [
    {
     "name": "stderr",
     "output_type": "stream",
     "text": [
      "/var/folders/_r/6v7clryx7gn9b9wdwm296pk40000gn/T/ipykernel_5987/1422272263.py:6: FutureWarning: A value is trying to be set on a copy of a DataFrame or Series through chained assignment using an inplace method.\n",
      "The behavior will change in pandas 3.0. This inplace method will never work because the intermediate object on which we are setting values always behaves as a copy.\n",
      "\n",
      "For example, when doing 'df[col].method(value, inplace=True)', try using 'df.method({col: value}, inplace=True)' or df[col] = df[col].method(value) instead, to perform the operation inplace on the original object.\n",
      "\n",
      "\n",
      "  df['Gender'].replace(change_dictionary, inplace=True)\n",
      "/var/folders/_r/6v7clryx7gn9b9wdwm296pk40000gn/T/ipykernel_5987/1422272263.py:6: FutureWarning: Downcasting behavior in `replace` is deprecated and will be removed in a future version. To retain the old behavior, explicitly call `result.infer_objects(copy=False)`. To opt-in to the future behavior, set `pd.set_option('future.no_silent_downcasting', True)`\n",
      "  df['Gender'].replace(change_dictionary, inplace=True)\n"
     ]
    },
    {
     "data": {
      "text/plain": [
       "0       1\n",
       "1       1\n",
       "2       0\n",
       "3       0\n",
       "4       0\n",
       "       ..\n",
       "2106    1\n",
       "2107    1\n",
       "2108    1\n",
       "2109    1\n",
       "2110    1\n",
       "Name: Gender, Length: 2087, dtype: int64"
      ]
     },
     "execution_count": 28,
     "metadata": {},
     "output_type": "execute_result"
    }
   ],
   "source": [
    "# ordinal encode the dataset for visualization purposes\n",
    "# Ordinal Encoding 'Gender'\n",
    "change_dictionary = {'Male':0,\n",
    "                     'Female':1,\n",
    "                  }\n",
    "df['Gender'].replace(change_dictionary, inplace=True)\n",
    "df['Gender']"
   ]
  },
  {
   "cell_type": "code",
   "execution_count": 29,
   "metadata": {
    "colab": {
     "base_uri": "https://localhost:8080/"
    },
    "executionInfo": {
     "elapsed": 3,
     "status": "ok",
     "timestamp": 1700829157887,
     "user": {
      "displayName": "Jan",
      "userId": "15086773509541200420"
     },
     "user_tz": -480
    },
    "id": "d4CphWhrnKcZ",
    "outputId": "ec1fb1d4-991f-48a0-ef66-c2cbd95eba39"
   },
   "outputs": [
    {
     "data": {
      "text/plain": [
       "array(['yes', 'no'], dtype=object)"
      ]
     },
     "execution_count": 29,
     "metadata": {},
     "output_type": "execute_result"
    }
   ],
   "source": [
    "df['Family_history_with_overweight'].unique()"
   ]
  },
  {
   "cell_type": "code",
   "execution_count": 30,
   "metadata": {
    "colab": {
     "base_uri": "https://localhost:8080/"
    },
    "executionInfo": {
     "elapsed": 3,
     "status": "ok",
     "timestamp": 1700829159545,
     "user": {
      "displayName": "Jan",
      "userId": "15086773509541200420"
     },
     "user_tz": -480
    },
    "id": "09iSo9X_nTn9",
    "outputId": "b0645977-2247-4633-ed46-15db87fba8c3"
   },
   "outputs": [
    {
     "name": "stderr",
     "output_type": "stream",
     "text": [
      "/var/folders/_r/6v7clryx7gn9b9wdwm296pk40000gn/T/ipykernel_5987/198969766.py:6: FutureWarning: A value is trying to be set on a copy of a DataFrame or Series through chained assignment using an inplace method.\n",
      "The behavior will change in pandas 3.0. This inplace method will never work because the intermediate object on which we are setting values always behaves as a copy.\n",
      "\n",
      "For example, when doing 'df[col].method(value, inplace=True)', try using 'df.method({col: value}, inplace=True)' or df[col] = df[col].method(value) instead, to perform the operation inplace on the original object.\n",
      "\n",
      "\n",
      "  df['Family_history_with_overweight'].replace(change_dictionary, inplace=True)\n",
      "/var/folders/_r/6v7clryx7gn9b9wdwm296pk40000gn/T/ipykernel_5987/198969766.py:6: FutureWarning: Downcasting behavior in `replace` is deprecated and will be removed in a future version. To retain the old behavior, explicitly call `result.infer_objects(copy=False)`. To opt-in to the future behavior, set `pd.set_option('future.no_silent_downcasting', True)`\n",
      "  df['Family_history_with_overweight'].replace(change_dictionary, inplace=True)\n"
     ]
    },
    {
     "data": {
      "text/plain": [
       "0       0\n",
       "1       0\n",
       "2       0\n",
       "3       1\n",
       "4       1\n",
       "       ..\n",
       "2106    0\n",
       "2107    0\n",
       "2108    0\n",
       "2109    0\n",
       "2110    0\n",
       "Name: Family_history_with_overweight, Length: 2087, dtype: int64"
      ]
     },
     "execution_count": 30,
     "metadata": {},
     "output_type": "execute_result"
    }
   ],
   "source": [
    "# ordinal encode the dataset for visualization purposes\n",
    "# Ordinal Encoding 'Family History with Overweight'\n",
    "change_dictionary = {'yes':0,\n",
    "                     'no':1,\n",
    "                  }\n",
    "df['Family_history_with_overweight'].replace(change_dictionary, inplace=True)\n",
    "df['Family_history_with_overweight']"
   ]
  },
  {
   "cell_type": "code",
   "execution_count": 31,
   "metadata": {
    "colab": {
     "base_uri": "https://localhost:8080/"
    },
    "executionInfo": {
     "elapsed": 2,
     "status": "ok",
     "timestamp": 1700829161557,
     "user": {
      "displayName": "Jan",
      "userId": "15086773509541200420"
     },
     "user_tz": -480
    },
    "id": "oLuNx932nz2L",
    "outputId": "70b1c63a-1f98-45d1-ab89-81d8b33cd5d8"
   },
   "outputs": [
    {
     "data": {
      "text/plain": [
       "Family_history_with_overweight\n",
       "0    1722\n",
       "1     365\n",
       "Name: count, dtype: int64"
      ]
     },
     "execution_count": 31,
     "metadata": {},
     "output_type": "execute_result"
    }
   ],
   "source": [
    "df['Family_history_with_overweight'].value_counts()"
   ]
  },
  {
   "cell_type": "code",
   "execution_count": 32,
   "metadata": {
    "colab": {
     "base_uri": "https://localhost:8080/"
    },
    "executionInfo": {
     "elapsed": 4,
     "status": "ok",
     "timestamp": 1700829163317,
     "user": {
      "displayName": "Jan",
      "userId": "15086773509541200420"
     },
     "user_tz": -480
    },
    "id": "kZRpdviooe89",
    "outputId": "64cd2ccd-b8e7-497e-d5bd-10d7d354c965"
   },
   "outputs": [
    {
     "name": "stderr",
     "output_type": "stream",
     "text": [
      "/var/folders/_r/6v7clryx7gn9b9wdwm296pk40000gn/T/ipykernel_5987/4232955549.py:6: FutureWarning: A value is trying to be set on a copy of a DataFrame or Series through chained assignment using an inplace method.\n",
      "The behavior will change in pandas 3.0. This inplace method will never work because the intermediate object on which we are setting values always behaves as a copy.\n",
      "\n",
      "For example, when doing 'df[col].method(value, inplace=True)', try using 'df.method({col: value}, inplace=True)' or df[col] = df[col].method(value) instead, to perform the operation inplace on the original object.\n",
      "\n",
      "\n",
      "  df['Frequency_highcaloricfood_consumption'].replace(change_dictionary, inplace=True)\n",
      "/var/folders/_r/6v7clryx7gn9b9wdwm296pk40000gn/T/ipykernel_5987/4232955549.py:6: FutureWarning: Downcasting behavior in `replace` is deprecated and will be removed in a future version. To retain the old behavior, explicitly call `result.infer_objects(copy=False)`. To opt-in to the future behavior, set `pd.set_option('future.no_silent_downcasting', True)`\n",
      "  df['Frequency_highcaloricfood_consumption'].replace(change_dictionary, inplace=True)\n"
     ]
    },
    {
     "data": {
      "text/plain": [
       "0       1\n",
       "1       1\n",
       "2       1\n",
       "3       1\n",
       "4       1\n",
       "       ..\n",
       "2106    0\n",
       "2107    0\n",
       "2108    0\n",
       "2109    0\n",
       "2110    0\n",
       "Name: Frequency_highcaloricfood_consumption, Length: 2087, dtype: int64"
      ]
     },
     "execution_count": 32,
     "metadata": {},
     "output_type": "execute_result"
    }
   ],
   "source": [
    "# ordinal encode the dataset for visualization purposes\n",
    "# Ordinal Encoding 'Frequency_highcaloricfood_consumption'\n",
    "change_dictionary = {'yes':0,\n",
    "                     'no':1,\n",
    "                  }\n",
    "df['Frequency_highcaloricfood_consumption'].replace(change_dictionary, inplace=True)\n",
    "df['Frequency_highcaloricfood_consumption']"
   ]
  },
  {
   "cell_type": "code",
   "execution_count": 33,
   "metadata": {
    "colab": {
     "base_uri": "https://localhost:8080/"
    },
    "executionInfo": {
     "elapsed": 3,
     "status": "ok",
     "timestamp": 1700829166649,
     "user": {
      "displayName": "Jan",
      "userId": "15086773509541200420"
     },
     "user_tz": -480
    },
    "id": "Jul7FFMSoGlc",
    "outputId": "90826866-baec-4a35-c3e6-eb4b0cba4417"
   },
   "outputs": [
    {
     "data": {
      "text/plain": [
       "Frequency_highcaloricfood_consumption\n",
       "0    1844\n",
       "1     243\n",
       "Name: count, dtype: int64"
      ]
     },
     "execution_count": 33,
     "metadata": {},
     "output_type": "execute_result"
    }
   ],
   "source": [
    "df['Frequency_highcaloricfood_consumption'].value_counts()"
   ]
  },
  {
   "cell_type": "code",
   "execution_count": 34,
   "metadata": {
    "colab": {
     "base_uri": "https://localhost:8080/"
    },
    "executionInfo": {
     "elapsed": 4,
     "status": "ok",
     "timestamp": 1700829168586,
     "user": {
      "displayName": "Jan",
      "userId": "15086773509541200420"
     },
     "user_tz": -480
    },
    "id": "nu-Vzn58oyHg",
    "outputId": "d4cabf80-47ef-4981-d24b-ae81e12bb76c"
   },
   "outputs": [
    {
     "data": {
      "text/plain": [
       "Gender                                     int64\n",
       "Age                                      float64\n",
       "Height                                   float64\n",
       "Weight                                   float64\n",
       "Family_history_with_overweight             int64\n",
       "Frequency_highcaloricfood_consumption      int64\n",
       "Frequency_vegetable_consumption          float64\n",
       "Number_of_main_meals                     float64\n",
       "Consumption_food_between_meals            object\n",
       "Smoking_status                            object\n",
       "Daily_water_consumption                  float64\n",
       "Monitoring_calorie_consumption            object\n",
       "Frequency_physical_activity              float64\n",
       "Time_using_technology_devices            float64\n",
       "Alcohol_consumption                       object\n",
       "Transportation_used                       object\n",
       "Obesity_Levels                             int64\n",
       "dtype: object"
      ]
     },
     "execution_count": 34,
     "metadata": {},
     "output_type": "execute_result"
    }
   ],
   "source": [
    "df.dtypes"
   ]
  },
  {
   "cell_type": "code",
   "execution_count": 35,
   "metadata": {
    "colab": {
     "base_uri": "https://localhost:8080/"
    },
    "executionInfo": {
     "elapsed": 4,
     "status": "ok",
     "timestamp": 1700829170213,
     "user": {
      "displayName": "Jan",
      "userId": "15086773509541200420"
     },
     "user_tz": -480
    },
    "id": "Suh2HrpUoZ_m",
    "outputId": "4f39074c-15f1-4fb5-b436-e2b38a937ea8"
   },
   "outputs": [
    {
     "data": {
      "text/plain": [
       "Consumption_food_between_meals\n",
       "Sometimes     1761\n",
       "Frequently     236\n",
       "Always          53\n",
       "no              37\n",
       "Name: count, dtype: int64"
      ]
     },
     "execution_count": 35,
     "metadata": {},
     "output_type": "execute_result"
    }
   ],
   "source": [
    "df['Consumption_food_between_meals'].value_counts()"
   ]
  },
  {
   "cell_type": "code",
   "execution_count": 36,
   "metadata": {
    "colab": {
     "base_uri": "https://localhost:8080/"
    },
    "executionInfo": {
     "elapsed": 3,
     "status": "ok",
     "timestamp": 1700829173058,
     "user": {
      "displayName": "Jan",
      "userId": "15086773509541200420"
     },
     "user_tz": -480
    },
    "id": "mVN3VxrKpKrO",
    "outputId": "cca3d211-1cdb-41d1-8498-b8802c4fc39a"
   },
   "outputs": [
    {
     "name": "stderr",
     "output_type": "stream",
     "text": [
      "/var/folders/_r/6v7clryx7gn9b9wdwm296pk40000gn/T/ipykernel_5987/2225774956.py:8: FutureWarning: A value is trying to be set on a copy of a DataFrame or Series through chained assignment using an inplace method.\n",
      "The behavior will change in pandas 3.0. This inplace method will never work because the intermediate object on which we are setting values always behaves as a copy.\n",
      "\n",
      "For example, when doing 'df[col].method(value, inplace=True)', try using 'df.method({col: value}, inplace=True)' or df[col] = df[col].method(value) instead, to perform the operation inplace on the original object.\n",
      "\n",
      "\n",
      "  df['Consumption_food_between_meals'].replace(change_dictionary, inplace=True)\n",
      "/var/folders/_r/6v7clryx7gn9b9wdwm296pk40000gn/T/ipykernel_5987/2225774956.py:8: FutureWarning: Downcasting behavior in `replace` is deprecated and will be removed in a future version. To retain the old behavior, explicitly call `result.infer_objects(copy=False)`. To opt-in to the future behavior, set `pd.set_option('future.no_silent_downcasting', True)`\n",
      "  df['Consumption_food_between_meals'].replace(change_dictionary, inplace=True)\n"
     ]
    },
    {
     "data": {
      "text/plain": [
       "0       0\n",
       "1       0\n",
       "2       0\n",
       "3       0\n",
       "4       0\n",
       "       ..\n",
       "2106    0\n",
       "2107    0\n",
       "2108    0\n",
       "2109    0\n",
       "2110    0\n",
       "Name: Consumption_food_between_meals, Length: 2087, dtype: int64"
      ]
     },
     "execution_count": 36,
     "metadata": {},
     "output_type": "execute_result"
    }
   ],
   "source": [
    "# ordinal encode the dataset for visualization purposes\n",
    "# Ordinal Encoding 'Consumption_food_between_meals'\n",
    "change_dictionary = {'Sometimes':0,\n",
    "                     'Frequently':1,\n",
    "                     'Always':2,\n",
    "                     'no':3,\n",
    "                  }\n",
    "df['Consumption_food_between_meals'].replace(change_dictionary, inplace=True)\n",
    "df['Consumption_food_between_meals']"
   ]
  },
  {
   "cell_type": "code",
   "execution_count": 37,
   "metadata": {
    "colab": {
     "base_uri": "https://localhost:8080/"
    },
    "executionInfo": {
     "elapsed": 505,
     "status": "ok",
     "timestamp": 1700829183854,
     "user": {
      "displayName": "Jan",
      "userId": "15086773509541200420"
     },
     "user_tz": -480
    },
    "id": "9JZaR9Vppj95",
    "outputId": "50b3c521-0fc7-431b-dcf1-b84de020f0eb"
   },
   "outputs": [
    {
     "data": {
      "text/plain": [
       "Consumption_food_between_meals\n",
       "0    1761\n",
       "1     236\n",
       "2      53\n",
       "3      37\n",
       "Name: count, dtype: int64"
      ]
     },
     "execution_count": 37,
     "metadata": {},
     "output_type": "execute_result"
    }
   ],
   "source": [
    "df['Consumption_food_between_meals'].value_counts()"
   ]
  },
  {
   "cell_type": "code",
   "execution_count": 38,
   "metadata": {
    "colab": {
     "base_uri": "https://localhost:8080/"
    },
    "executionInfo": {
     "elapsed": 494,
     "status": "ok",
     "timestamp": 1700829191427,
     "user": {
      "displayName": "Jan",
      "userId": "15086773509541200420"
     },
     "user_tz": -480
    },
    "id": "yc-I4vlNp2aU",
    "outputId": "6fdadd07-d0aa-4f8f-fefe-a385ee4b842c"
   },
   "outputs": [
    {
     "data": {
      "text/plain": [
       "Smoking_status\n",
       "no     2043\n",
       "yes      44\n",
       "Name: count, dtype: int64"
      ]
     },
     "execution_count": 38,
     "metadata": {},
     "output_type": "execute_result"
    }
   ],
   "source": [
    "df['Smoking_status'].value_counts()"
   ]
  },
  {
   "cell_type": "code",
   "execution_count": 39,
   "metadata": {
    "colab": {
     "base_uri": "https://localhost:8080/"
    },
    "executionInfo": {
     "elapsed": 3,
     "status": "ok",
     "timestamp": 1700829193763,
     "user": {
      "displayName": "Jan",
      "userId": "15086773509541200420"
     },
     "user_tz": -480
    },
    "id": "h-owaguFqC4K",
    "outputId": "d742ca37-afeb-40d2-8e54-5e463c7c247f"
   },
   "outputs": [
    {
     "name": "stderr",
     "output_type": "stream",
     "text": [
      "/var/folders/_r/6v7clryx7gn9b9wdwm296pk40000gn/T/ipykernel_5987/3315096214.py:6: FutureWarning: A value is trying to be set on a copy of a DataFrame or Series through chained assignment using an inplace method.\n",
      "The behavior will change in pandas 3.0. This inplace method will never work because the intermediate object on which we are setting values always behaves as a copy.\n",
      "\n",
      "For example, when doing 'df[col].method(value, inplace=True)', try using 'df.method({col: value}, inplace=True)' or df[col] = df[col].method(value) instead, to perform the operation inplace on the original object.\n",
      "\n",
      "\n",
      "  df['Smoking_status'].replace(change_dictionary, inplace=True)\n",
      "/var/folders/_r/6v7clryx7gn9b9wdwm296pk40000gn/T/ipykernel_5987/3315096214.py:6: FutureWarning: Downcasting behavior in `replace` is deprecated and will be removed in a future version. To retain the old behavior, explicitly call `result.infer_objects(copy=False)`. To opt-in to the future behavior, set `pd.set_option('future.no_silent_downcasting', True)`\n",
      "  df['Smoking_status'].replace(change_dictionary, inplace=True)\n"
     ]
    },
    {
     "data": {
      "text/plain": [
       "0       1\n",
       "1       0\n",
       "2       1\n",
       "3       1\n",
       "4       1\n",
       "       ..\n",
       "2106    1\n",
       "2107    1\n",
       "2108    1\n",
       "2109    1\n",
       "2110    1\n",
       "Name: Smoking_status, Length: 2087, dtype: int64"
      ]
     },
     "execution_count": 39,
     "metadata": {},
     "output_type": "execute_result"
    }
   ],
   "source": [
    "# ordinal encode the dataset for visualization purposes\n",
    "# Ordinal Encoding 'Smoking_status'\n",
    "change_dictionary = {'yes':0,\n",
    "                     'no':1,\n",
    "                  }\n",
    "df['Smoking_status'].replace(change_dictionary, inplace=True)\n",
    "df['Smoking_status']"
   ]
  },
  {
   "cell_type": "code",
   "execution_count": 40,
   "metadata": {
    "colab": {
     "base_uri": "https://localhost:8080/"
    },
    "executionInfo": {
     "elapsed": 3,
     "status": "ok",
     "timestamp": 1700829196143,
     "user": {
      "displayName": "Jan",
      "userId": "15086773509541200420"
     },
     "user_tz": -480
    },
    "id": "IsIPoZIwqIAD",
    "outputId": "c56346e8-f539-4290-c459-dc90cf8c6cab"
   },
   "outputs": [
    {
     "data": {
      "text/plain": [
       "Smoking_status\n",
       "1    2043\n",
       "0      44\n",
       "Name: count, dtype: int64"
      ]
     },
     "execution_count": 40,
     "metadata": {},
     "output_type": "execute_result"
    }
   ],
   "source": [
    "df['Smoking_status'].value_counts()"
   ]
  },
  {
   "cell_type": "code",
   "execution_count": 41,
   "metadata": {
    "colab": {
     "base_uri": "https://localhost:8080/"
    },
    "executionInfo": {
     "elapsed": 5,
     "status": "ok",
     "timestamp": 1700829197550,
     "user": {
      "displayName": "Jan",
      "userId": "15086773509541200420"
     },
     "user_tz": -480
    },
    "id": "vguMynmcqPWA",
    "outputId": "3f25182a-7eb3-4398-8d39-95fe2678b84a"
   },
   "outputs": [
    {
     "data": {
      "text/plain": [
       "Monitoring_calorie_consumption\n",
       "no     1991\n",
       "yes      96\n",
       "Name: count, dtype: int64"
      ]
     },
     "execution_count": 41,
     "metadata": {},
     "output_type": "execute_result"
    }
   ],
   "source": [
    "df['Monitoring_calorie_consumption'].value_counts()"
   ]
  },
  {
   "cell_type": "code",
   "execution_count": 42,
   "metadata": {
    "colab": {
     "base_uri": "https://localhost:8080/"
    },
    "executionInfo": {
     "elapsed": 4,
     "status": "ok",
     "timestamp": 1700829199603,
     "user": {
      "displayName": "Jan",
      "userId": "15086773509541200420"
     },
     "user_tz": -480
    },
    "id": "FHEeI840qVul",
    "outputId": "23b6e201-c7f4-4cdf-eff7-4701e52a9876"
   },
   "outputs": [
    {
     "name": "stderr",
     "output_type": "stream",
     "text": [
      "/var/folders/_r/6v7clryx7gn9b9wdwm296pk40000gn/T/ipykernel_5987/2098773261.py:6: FutureWarning: A value is trying to be set on a copy of a DataFrame or Series through chained assignment using an inplace method.\n",
      "The behavior will change in pandas 3.0. This inplace method will never work because the intermediate object on which we are setting values always behaves as a copy.\n",
      "\n",
      "For example, when doing 'df[col].method(value, inplace=True)', try using 'df.method({col: value}, inplace=True)' or df[col] = df[col].method(value) instead, to perform the operation inplace on the original object.\n",
      "\n",
      "\n",
      "  df['Monitoring_calorie_consumption'].replace(change_dictionary, inplace=True)\n",
      "/var/folders/_r/6v7clryx7gn9b9wdwm296pk40000gn/T/ipykernel_5987/2098773261.py:6: FutureWarning: Downcasting behavior in `replace` is deprecated and will be removed in a future version. To retain the old behavior, explicitly call `result.infer_objects(copy=False)`. To opt-in to the future behavior, set `pd.set_option('future.no_silent_downcasting', True)`\n",
      "  df['Monitoring_calorie_consumption'].replace(change_dictionary, inplace=True)\n"
     ]
    },
    {
     "data": {
      "text/plain": [
       "0       1\n",
       "1       0\n",
       "2       1\n",
       "3       1\n",
       "4       1\n",
       "       ..\n",
       "2106    1\n",
       "2107    1\n",
       "2108    1\n",
       "2109    1\n",
       "2110    1\n",
       "Name: Monitoring_calorie_consumption, Length: 2087, dtype: int64"
      ]
     },
     "execution_count": 42,
     "metadata": {},
     "output_type": "execute_result"
    }
   ],
   "source": [
    "# ordinal encode the dataset for visualization purposes\n",
    "# Ordinal Encoding 'Monitoring_calorie_consumption'\n",
    "change_dictionary = {'yes':0,\n",
    "                     'no':1,\n",
    "                  }\n",
    "df['Monitoring_calorie_consumption'].replace(change_dictionary, inplace=True)\n",
    "df['Monitoring_calorie_consumption']"
   ]
  },
  {
   "cell_type": "code",
   "execution_count": 43,
   "metadata": {
    "colab": {
     "base_uri": "https://localhost:8080/"
    },
    "executionInfo": {
     "elapsed": 4,
     "status": "ok",
     "timestamp": 1700829201725,
     "user": {
      "displayName": "Jan",
      "userId": "15086773509541200420"
     },
     "user_tz": -480
    },
    "id": "CWqx5cgiqaQl",
    "outputId": "c64c8580-3596-4812-f58e-4f7e985c1bb8"
   },
   "outputs": [
    {
     "data": {
      "text/plain": [
       "Monitoring_calorie_consumption\n",
       "1    1991\n",
       "0      96\n",
       "Name: count, dtype: int64"
      ]
     },
     "execution_count": 43,
     "metadata": {},
     "output_type": "execute_result"
    }
   ],
   "source": [
    "df['Monitoring_calorie_consumption'].value_counts()"
   ]
  },
  {
   "cell_type": "code",
   "execution_count": 44,
   "metadata": {
    "colab": {
     "base_uri": "https://localhost:8080/"
    },
    "executionInfo": {
     "elapsed": 4,
     "status": "ok",
     "timestamp": 1700829204375,
     "user": {
      "displayName": "Jan",
      "userId": "15086773509541200420"
     },
     "user_tz": -480
    },
    "id": "AU8JoPr8qiEc",
    "outputId": "2bb12943-e162-4bea-a9b0-09ec5f92b969"
   },
   "outputs": [
    {
     "data": {
      "text/plain": [
       "Alcohol_consumption\n",
       "Sometimes     1380\n",
       "no             636\n",
       "Frequently      70\n",
       "Always           1\n",
       "Name: count, dtype: int64"
      ]
     },
     "execution_count": 44,
     "metadata": {},
     "output_type": "execute_result"
    }
   ],
   "source": [
    "df['Alcohol_consumption'].value_counts()"
   ]
  },
  {
   "cell_type": "code",
   "execution_count": 45,
   "metadata": {
    "colab": {
     "base_uri": "https://localhost:8080/"
    },
    "executionInfo": {
     "elapsed": 3,
     "status": "ok",
     "timestamp": 1700829206949,
     "user": {
      "displayName": "Jan",
      "userId": "15086773509541200420"
     },
     "user_tz": -480
    },
    "id": "qxsunSIfquGc",
    "outputId": "1c04f131-09cd-4064-b11a-159db59c7804"
   },
   "outputs": [
    {
     "name": "stderr",
     "output_type": "stream",
     "text": [
      "/var/folders/_r/6v7clryx7gn9b9wdwm296pk40000gn/T/ipykernel_5987/2384790520.py:8: FutureWarning: A value is trying to be set on a copy of a DataFrame or Series through chained assignment using an inplace method.\n",
      "The behavior will change in pandas 3.0. This inplace method will never work because the intermediate object on which we are setting values always behaves as a copy.\n",
      "\n",
      "For example, when doing 'df[col].method(value, inplace=True)', try using 'df.method({col: value}, inplace=True)' or df[col] = df[col].method(value) instead, to perform the operation inplace on the original object.\n",
      "\n",
      "\n",
      "  df['Alcohol_consumption'].replace(change_dictionary, inplace=True)\n",
      "/var/folders/_r/6v7clryx7gn9b9wdwm296pk40000gn/T/ipykernel_5987/2384790520.py:8: FutureWarning: Downcasting behavior in `replace` is deprecated and will be removed in a future version. To retain the old behavior, explicitly call `result.infer_objects(copy=False)`. To opt-in to the future behavior, set `pd.set_option('future.no_silent_downcasting', True)`\n",
      "  df['Alcohol_consumption'].replace(change_dictionary, inplace=True)\n"
     ]
    },
    {
     "data": {
      "text/plain": [
       "0       3\n",
       "1       0\n",
       "2       1\n",
       "3       1\n",
       "4       0\n",
       "       ..\n",
       "2106    0\n",
       "2107    0\n",
       "2108    0\n",
       "2109    0\n",
       "2110    0\n",
       "Name: Alcohol_consumption, Length: 2087, dtype: int64"
      ]
     },
     "execution_count": 45,
     "metadata": {},
     "output_type": "execute_result"
    }
   ],
   "source": [
    "# ordinal encode the dataset for visualization purposes\n",
    "# Ordinal Encoding 'Alcohol_consumption'\n",
    "change_dictionary = {'Sometimes':0,\n",
    "                     'Frequently':1,\n",
    "                     'Always':2,\n",
    "                     'no':3,\n",
    "                  }\n",
    "df['Alcohol_consumption'].replace(change_dictionary, inplace=True)\n",
    "df['Alcohol_consumption']"
   ]
  },
  {
   "cell_type": "code",
   "execution_count": 46,
   "metadata": {
    "colab": {
     "base_uri": "https://localhost:8080/"
    },
    "executionInfo": {
     "elapsed": 568,
     "status": "ok",
     "timestamp": 1700829209417,
     "user": {
      "displayName": "Jan",
      "userId": "15086773509541200420"
     },
     "user_tz": -480
    },
    "id": "zY5MJLs0q6iQ",
    "outputId": "07bc4b1b-64e4-4d68-9eb8-77c10e70a888"
   },
   "outputs": [
    {
     "data": {
      "text/plain": [
       "Alcohol_consumption\n",
       "0    1380\n",
       "3     636\n",
       "1      70\n",
       "2       1\n",
       "Name: count, dtype: int64"
      ]
     },
     "execution_count": 46,
     "metadata": {},
     "output_type": "execute_result"
    }
   ],
   "source": [
    "df['Alcohol_consumption'].value_counts()"
   ]
  },
  {
   "cell_type": "code",
   "execution_count": 47,
   "metadata": {
    "colab": {
     "base_uri": "https://localhost:8080/"
    },
    "executionInfo": {
     "elapsed": 525,
     "status": "ok",
     "timestamp": 1700829210683,
     "user": {
      "displayName": "Jan",
      "userId": "15086773509541200420"
     },
     "user_tz": -480
    },
    "id": "PZQj02ppq9Tg",
    "outputId": "c91e2fd4-2c42-45e1-ff56-2819c8f81d20"
   },
   "outputs": [
    {
     "data": {
      "text/plain": [
       "Transportation_used\n",
       "Public_Transportation    1558\n",
       "Automobile                456\n",
       "Walking                    55\n",
       "Motorbike                  11\n",
       "Bike                        7\n",
       "Name: count, dtype: int64"
      ]
     },
     "execution_count": 47,
     "metadata": {},
     "output_type": "execute_result"
    }
   ],
   "source": [
    "df['Transportation_used'].value_counts()"
   ]
  },
  {
   "cell_type": "code",
   "execution_count": 48,
   "metadata": {
    "colab": {
     "base_uri": "https://localhost:8080/"
    },
    "executionInfo": {
     "elapsed": 3,
     "status": "ok",
     "timestamp": 1700829212944,
     "user": {
      "displayName": "Jan",
      "userId": "15086773509541200420"
     },
     "user_tz": -480
    },
    "id": "UgbTA_hDrECX",
    "outputId": "2ec5076f-b2ed-49f3-b2a8-578bcd4ff645"
   },
   "outputs": [
    {
     "name": "stderr",
     "output_type": "stream",
     "text": [
      "/var/folders/_r/6v7clryx7gn9b9wdwm296pk40000gn/T/ipykernel_5987/377827097.py:9: FutureWarning: A value is trying to be set on a copy of a DataFrame or Series through chained assignment using an inplace method.\n",
      "The behavior will change in pandas 3.0. This inplace method will never work because the intermediate object on which we are setting values always behaves as a copy.\n",
      "\n",
      "For example, when doing 'df[col].method(value, inplace=True)', try using 'df.method({col: value}, inplace=True)' or df[col] = df[col].method(value) instead, to perform the operation inplace on the original object.\n",
      "\n",
      "\n",
      "  df['Transportation_used'].replace(change_dictionary, inplace=True)\n",
      "/var/folders/_r/6v7clryx7gn9b9wdwm296pk40000gn/T/ipykernel_5987/377827097.py:9: FutureWarning: Downcasting behavior in `replace` is deprecated and will be removed in a future version. To retain the old behavior, explicitly call `result.infer_objects(copy=False)`. To opt-in to the future behavior, set `pd.set_option('future.no_silent_downcasting', True)`\n",
      "  df['Transportation_used'].replace(change_dictionary, inplace=True)\n"
     ]
    },
    {
     "data": {
      "text/plain": [
       "0       0\n",
       "1       0\n",
       "2       0\n",
       "3       2\n",
       "4       0\n",
       "       ..\n",
       "2106    0\n",
       "2107    0\n",
       "2108    0\n",
       "2109    0\n",
       "2110    0\n",
       "Name: Transportation_used, Length: 2087, dtype: int64"
      ]
     },
     "execution_count": 48,
     "metadata": {},
     "output_type": "execute_result"
    }
   ],
   "source": [
    "# ordinal encode the dataset for visualization purposes\n",
    "# Ordinal Encoding 'Transportation_used'\n",
    "change_dictionary = {'Public_Transportation':0,\n",
    "                     'Automobile':1,\n",
    "                     'Walking':2,\n",
    "                     'Motorbike':3,\n",
    "                     'Bike':4,\n",
    "                  }\n",
    "df['Transportation_used'].replace(change_dictionary, inplace=True)\n",
    "df['Transportation_used']"
   ]
  },
  {
   "cell_type": "code",
   "execution_count": 49,
   "metadata": {
    "colab": {
     "base_uri": "https://localhost:8080/"
    },
    "executionInfo": {
     "elapsed": 789,
     "status": "ok",
     "timestamp": 1700829216882,
     "user": {
      "displayName": "Jan",
      "userId": "15086773509541200420"
     },
     "user_tz": -480
    },
    "id": "3vI-L_mmrcfD",
    "outputId": "97f9bcf4-238a-447e-c1bb-a82725da59cd"
   },
   "outputs": [
    {
     "data": {
      "text/plain": [
       "Transportation_used\n",
       "0    1558\n",
       "1     456\n",
       "2      55\n",
       "3      11\n",
       "4       7\n",
       "Name: count, dtype: int64"
      ]
     },
     "execution_count": 49,
     "metadata": {},
     "output_type": "execute_result"
    }
   ],
   "source": [
    "df['Transportation_used'].value_counts()"
   ]
  },
  {
   "cell_type": "code",
   "execution_count": 50,
   "metadata": {
    "colab": {
     "base_uri": "https://localhost:8080/"
    },
    "executionInfo": {
     "elapsed": 6,
     "status": "ok",
     "timestamp": 1700829218217,
     "user": {
      "displayName": "Jan",
      "userId": "15086773509541200420"
     },
     "user_tz": -480
    },
    "id": "ztu9pKt3rdxb",
    "outputId": "b65c0d26-04b2-4fbe-8e89-0f0b383f0ed6"
   },
   "outputs": [
    {
     "name": "stdout",
     "output_type": "stream",
     "text": [
      "<class 'pandas.core.frame.DataFrame'>\n",
      "Index: 2087 entries, 0 to 2110\n",
      "Data columns (total 17 columns):\n",
      " #   Column                                 Non-Null Count  Dtype  \n",
      "---  ------                                 --------------  -----  \n",
      " 0   Gender                                 2087 non-null   int64  \n",
      " 1   Age                                    2087 non-null   float64\n",
      " 2   Height                                 2087 non-null   float64\n",
      " 3   Weight                                 2087 non-null   float64\n",
      " 4   Family_history_with_overweight         2087 non-null   int64  \n",
      " 5   Frequency_highcaloricfood_consumption  2087 non-null   int64  \n",
      " 6   Frequency_vegetable_consumption        2087 non-null   float64\n",
      " 7   Number_of_main_meals                   2087 non-null   float64\n",
      " 8   Consumption_food_between_meals         2087 non-null   int64  \n",
      " 9   Smoking_status                         2087 non-null   int64  \n",
      " 10  Daily_water_consumption                2087 non-null   float64\n",
      " 11  Monitoring_calorie_consumption         2087 non-null   int64  \n",
      " 12  Frequency_physical_activity            2087 non-null   float64\n",
      " 13  Time_using_technology_devices          2087 non-null   float64\n",
      " 14  Alcohol_consumption                    2087 non-null   int64  \n",
      " 15  Transportation_used                    2087 non-null   int64  \n",
      " 16  Obesity_Levels                         2087 non-null   int64  \n",
      "dtypes: float64(8), int64(9)\n",
      "memory usage: 293.5 KB\n"
     ]
    }
   ],
   "source": [
    "df.info()"
   ]
  },
  {
   "cell_type": "markdown",
   "metadata": {
    "id": "-BshE9IBUR2-"
   },
   "source": [
    "##Visualization"
   ]
  },
  {
   "cell_type": "code",
   "execution_count": 51,
   "metadata": {
    "colab": {
     "base_uri": "https://localhost:8080/",
     "height": 602
    },
    "executionInfo": {
     "elapsed": 10,
     "status": "ok",
     "timestamp": 1700829221089,
     "user": {
      "displayName": "Jan",
      "userId": "15086773509541200420"
     },
     "user_tz": -480
    },
    "id": "8xOsHCNPGpQF",
    "outputId": "eb56871d-8412-4c05-d8af-54fb3664e068"
   },
   "outputs": [
    {
     "data": {
      "text/html": [
       "<div>\n",
       "<style scoped>\n",
       "    .dataframe tbody tr th:only-of-type {\n",
       "        vertical-align: middle;\n",
       "    }\n",
       "\n",
       "    .dataframe tbody tr th {\n",
       "        vertical-align: top;\n",
       "    }\n",
       "\n",
       "    .dataframe thead th {\n",
       "        text-align: right;\n",
       "    }\n",
       "</style>\n",
       "<table border=\"1\" class=\"dataframe\">\n",
       "  <thead>\n",
       "    <tr style=\"text-align: right;\">\n",
       "      <th></th>\n",
       "      <th>Gender</th>\n",
       "      <th>Age</th>\n",
       "      <th>Height</th>\n",
       "      <th>Weight</th>\n",
       "      <th>Family_history_with_overweight</th>\n",
       "      <th>Frequency_highcaloricfood_consumption</th>\n",
       "      <th>Frequency_vegetable_consumption</th>\n",
       "      <th>Number_of_main_meals</th>\n",
       "      <th>Consumption_food_between_meals</th>\n",
       "      <th>Smoking_status</th>\n",
       "      <th>Daily_water_consumption</th>\n",
       "      <th>Monitoring_calorie_consumption</th>\n",
       "      <th>Frequency_physical_activity</th>\n",
       "      <th>Time_using_technology_devices</th>\n",
       "      <th>Alcohol_consumption</th>\n",
       "      <th>Transportation_used</th>\n",
       "      <th>Obesity_Levels</th>\n",
       "    </tr>\n",
       "  </thead>\n",
       "  <tbody>\n",
       "    <tr>\n",
       "      <th>Gender</th>\n",
       "      <td>1.000000</td>\n",
       "      <td>-0.050641</td>\n",
       "      <td>-0.626748</td>\n",
       "      <td>-0.163176</td>\n",
       "      <td>0.113492</td>\n",
       "      <td>0.061220</td>\n",
       "      <td>0.271575</td>\n",
       "      <td>-0.077863</td>\n",
       "      <td>0.037442</td>\n",
       "      <td>0.045501</td>\n",
       "      <td>-0.095129</td>\n",
       "      <td>-0.102435</td>\n",
       "      <td>-0.189471</td>\n",
       "      <td>-0.022356</td>\n",
       "      <td>-0.033522</td>\n",
       "      <td>-0.163893</td>\n",
       "      <td>0.158460</td>\n",
       "    </tr>\n",
       "    <tr>\n",
       "      <th>Age</th>\n",
       "      <td>-0.050641</td>\n",
       "      <td>1.000000</td>\n",
       "      <td>-0.031748</td>\n",
       "      <td>0.198160</td>\n",
       "      <td>-0.200379</td>\n",
       "      <td>-0.063895</td>\n",
       "      <td>0.013572</td>\n",
       "      <td>-0.055823</td>\n",
       "      <td>-0.117235</td>\n",
       "      <td>-0.091261</td>\n",
       "      <td>-0.044058</td>\n",
       "      <td>0.117959</td>\n",
       "      <td>-0.148202</td>\n",
       "      <td>-0.302927</td>\n",
       "      <td>-0.010163</td>\n",
       "      <td>0.406769</td>\n",
       "      <td>-0.046190</td>\n",
       "    </tr>\n",
       "    <tr>\n",
       "      <th>Height</th>\n",
       "      <td>-0.626748</td>\n",
       "      <td>-0.031748</td>\n",
       "      <td>1.000000</td>\n",
       "      <td>0.457468</td>\n",
       "      <td>-0.232258</td>\n",
       "      <td>-0.180694</td>\n",
       "      <td>-0.040363</td>\n",
       "      <td>0.227806</td>\n",
       "      <td>-0.110783</td>\n",
       "      <td>-0.054326</td>\n",
       "      <td>0.220487</td>\n",
       "      <td>0.137078</td>\n",
       "      <td>0.293584</td>\n",
       "      <td>0.041808</td>\n",
       "      <td>-0.130644</td>\n",
       "      <td>0.079472</td>\n",
       "      <td>0.082303</td>\n",
       "    </tr>\n",
       "    <tr>\n",
       "      <th>Weight</th>\n",
       "      <td>-0.163176</td>\n",
       "      <td>0.198160</td>\n",
       "      <td>0.457468</td>\n",
       "      <td>1.000000</td>\n",
       "      <td>-0.492969</td>\n",
       "      <td>-0.274655</td>\n",
       "      <td>0.216574</td>\n",
       "      <td>0.092149</td>\n",
       "      <td>-0.328176</td>\n",
       "      <td>-0.024369</td>\n",
       "      <td>0.203823</td>\n",
       "      <td>0.205409</td>\n",
       "      <td>-0.056490</td>\n",
       "      <td>-0.079351</td>\n",
       "      <td>-0.264586</td>\n",
       "      <td>-0.092508</td>\n",
       "      <td>0.282889</td>\n",
       "    </tr>\n",
       "    <tr>\n",
       "      <th>Family_history_with_overweight</th>\n",
       "      <td>0.113492</td>\n",
       "      <td>-0.200379</td>\n",
       "      <td>-0.232258</td>\n",
       "      <td>-0.492969</td>\n",
       "      <td>1.000000</td>\n",
       "      <td>0.214329</td>\n",
       "      <td>-0.033199</td>\n",
       "      <td>-0.028411</td>\n",
       "      <td>0.277385</td>\n",
       "      <td>0.014885</td>\n",
       "      <td>-0.168627</td>\n",
       "      <td>-0.193947</td>\n",
       "      <td>0.062937</td>\n",
       "      <td>-0.002314</td>\n",
       "      <td>-0.019592</td>\n",
       "      <td>-0.001433</td>\n",
       "      <td>-0.080997</td>\n",
       "    </tr>\n",
       "    <tr>\n",
       "      <th>Frequency_highcaloricfood_consumption</th>\n",
       "      <td>0.061220</td>\n",
       "      <td>-0.063895</td>\n",
       "      <td>-0.180694</td>\n",
       "      <td>-0.274655</td>\n",
       "      <td>0.214329</td>\n",
       "      <td>1.000000</td>\n",
       "      <td>0.025419</td>\n",
       "      <td>0.006398</td>\n",
       "      <td>0.167833</td>\n",
       "      <td>-0.050713</td>\n",
       "      <td>-0.002993</td>\n",
       "      <td>-0.191277</td>\n",
       "      <td>0.111184</td>\n",
       "      <td>-0.071505</td>\n",
       "      <td>0.128040</td>\n",
       "      <td>0.100685</td>\n",
       "      <td>-0.153121</td>\n",
       "    </tr>\n",
       "    <tr>\n",
       "      <th>Frequency_vegetable_consumption</th>\n",
       "      <td>0.271575</td>\n",
       "      <td>0.013572</td>\n",
       "      <td>-0.040363</td>\n",
       "      <td>0.216574</td>\n",
       "      <td>-0.033199</td>\n",
       "      <td>0.025419</td>\n",
       "      <td>1.000000</td>\n",
       "      <td>0.034885</td>\n",
       "      <td>-0.045500</td>\n",
       "      <td>-0.013716</td>\n",
       "      <td>0.081332</td>\n",
       "      <td>-0.071179</td>\n",
       "      <td>0.022003</td>\n",
       "      <td>-0.104128</td>\n",
       "      <td>-0.083930</td>\n",
       "      <td>-0.052807</td>\n",
       "      <td>0.278717</td>\n",
       "    </tr>\n",
       "    <tr>\n",
       "      <th>Number_of_main_meals</th>\n",
       "      <td>-0.077863</td>\n",
       "      <td>-0.055823</td>\n",
       "      <td>0.227806</td>\n",
       "      <td>0.092149</td>\n",
       "      <td>-0.028411</td>\n",
       "      <td>0.006398</td>\n",
       "      <td>0.034885</td>\n",
       "      <td>1.000000</td>\n",
       "      <td>-0.002716</td>\n",
       "      <td>-0.005009</td>\n",
       "      <td>0.075335</td>\n",
       "      <td>0.020461</td>\n",
       "      <td>0.127816</td>\n",
       "      <td>0.015693</td>\n",
       "      <td>-0.112404</td>\n",
       "      <td>0.046632</td>\n",
       "      <td>0.156465</td>\n",
       "    </tr>\n",
       "    <tr>\n",
       "      <th>Consumption_food_between_meals</th>\n",
       "      <td>0.037442</td>\n",
       "      <td>-0.117235</td>\n",
       "      <td>-0.110783</td>\n",
       "      <td>-0.328176</td>\n",
       "      <td>0.277385</td>\n",
       "      <td>0.167833</td>\n",
       "      <td>-0.045500</td>\n",
       "      <td>-0.002716</td>\n",
       "      <td>1.000000</td>\n",
       "      <td>-0.049275</td>\n",
       "      <td>0.005968</td>\n",
       "      <td>-0.172619</td>\n",
       "      <td>0.054459</td>\n",
       "      <td>-0.041387</td>\n",
       "      <td>0.053935</td>\n",
       "      <td>0.011446</td>\n",
       "      <td>-0.152434</td>\n",
       "    </tr>\n",
       "    <tr>\n",
       "      <th>Smoking_status</th>\n",
       "      <td>0.045501</td>\n",
       "      <td>-0.091261</td>\n",
       "      <td>-0.054326</td>\n",
       "      <td>-0.024369</td>\n",
       "      <td>0.014885</td>\n",
       "      <td>-0.050713</td>\n",
       "      <td>-0.013716</td>\n",
       "      <td>-0.005009</td>\n",
       "      <td>-0.049275</td>\n",
       "      <td>1.000000</td>\n",
       "      <td>0.031642</td>\n",
       "      <td>0.047384</td>\n",
       "      <td>-0.010811</td>\n",
       "      <td>-0.016491</td>\n",
       "      <td>0.040752</td>\n",
       "      <td>-0.027561</td>\n",
       "      <td>0.053436</td>\n",
       "    </tr>\n",
       "    <tr>\n",
       "      <th>Daily_water_consumption</th>\n",
       "      <td>-0.095129</td>\n",
       "      <td>-0.044058</td>\n",
       "      <td>0.220487</td>\n",
       "      <td>0.203823</td>\n",
       "      <td>-0.168627</td>\n",
       "      <td>-0.002993</td>\n",
       "      <td>0.081332</td>\n",
       "      <td>0.075335</td>\n",
       "      <td>0.005968</td>\n",
       "      <td>0.031642</td>\n",
       "      <td>1.000000</td>\n",
       "      <td>-0.009325</td>\n",
       "      <td>0.165310</td>\n",
       "      <td>0.020704</td>\n",
       "      <td>-0.069859</td>\n",
       "      <td>-0.011711</td>\n",
       "      <td>0.045325</td>\n",
       "    </tr>\n",
       "    <tr>\n",
       "      <th>Monitoring_calorie_consumption</th>\n",
       "      <td>-0.102435</td>\n",
       "      <td>0.117959</td>\n",
       "      <td>0.137078</td>\n",
       "      <td>0.205409</td>\n",
       "      <td>-0.193947</td>\n",
       "      <td>-0.191277</td>\n",
       "      <td>-0.071179</td>\n",
       "      <td>0.020461</td>\n",
       "      <td>-0.172619</td>\n",
       "      <td>0.047384</td>\n",
       "      <td>-0.009325</td>\n",
       "      <td>1.000000</td>\n",
       "      <td>-0.073768</td>\n",
       "      <td>0.012875</td>\n",
       "      <td>-0.026575</td>\n",
       "      <td>-0.024347</td>\n",
       "      <td>0.121674</td>\n",
       "    </tr>\n",
       "    <tr>\n",
       "      <th>Frequency_physical_activity</th>\n",
       "      <td>-0.189471</td>\n",
       "      <td>-0.148202</td>\n",
       "      <td>0.293584</td>\n",
       "      <td>-0.056490</td>\n",
       "      <td>0.062937</td>\n",
       "      <td>0.111184</td>\n",
       "      <td>0.022003</td>\n",
       "      <td>0.127816</td>\n",
       "      <td>0.054459</td>\n",
       "      <td>-0.010811</td>\n",
       "      <td>0.165310</td>\n",
       "      <td>-0.073768</td>\n",
       "      <td>1.000000</td>\n",
       "      <td>0.058716</td>\n",
       "      <td>0.126752</td>\n",
       "      <td>0.083865</td>\n",
       "      <td>-0.069436</td>\n",
       "    </tr>\n",
       "    <tr>\n",
       "      <th>Time_using_technology_devices</th>\n",
       "      <td>-0.022356</td>\n",
       "      <td>-0.302927</td>\n",
       "      <td>0.041808</td>\n",
       "      <td>-0.079351</td>\n",
       "      <td>-0.002314</td>\n",
       "      <td>-0.071505</td>\n",
       "      <td>-0.104128</td>\n",
       "      <td>0.015693</td>\n",
       "      <td>-0.041387</td>\n",
       "      <td>-0.016491</td>\n",
       "      <td>0.020704</td>\n",
       "      <td>0.012875</td>\n",
       "      <td>0.058716</td>\n",
       "      <td>1.000000</td>\n",
       "      <td>0.084917</td>\n",
       "      <td>-0.116417</td>\n",
       "      <td>0.022081</td>\n",
       "    </tr>\n",
       "    <tr>\n",
       "      <th>Alcohol_consumption</th>\n",
       "      <td>-0.033522</td>\n",
       "      <td>-0.010163</td>\n",
       "      <td>-0.130644</td>\n",
       "      <td>-0.264586</td>\n",
       "      <td>-0.019592</td>\n",
       "      <td>0.128040</td>\n",
       "      <td>-0.083930</td>\n",
       "      <td>-0.112404</td>\n",
       "      <td>0.053935</td>\n",
       "      <td>0.040752</td>\n",
       "      <td>-0.069859</td>\n",
       "      <td>-0.026575</td>\n",
       "      <td>0.126752</td>\n",
       "      <td>0.084917</td>\n",
       "      <td>1.000000</td>\n",
       "      <td>0.075627</td>\n",
       "      <td>-0.091324</td>\n",
       "    </tr>\n",
       "    <tr>\n",
       "      <th>Transportation_used</th>\n",
       "      <td>-0.163893</td>\n",
       "      <td>0.406769</td>\n",
       "      <td>0.079472</td>\n",
       "      <td>-0.092508</td>\n",
       "      <td>-0.001433</td>\n",
       "      <td>0.100685</td>\n",
       "      <td>-0.052807</td>\n",
       "      <td>0.046632</td>\n",
       "      <td>0.011446</td>\n",
       "      <td>-0.027561</td>\n",
       "      <td>-0.011711</td>\n",
       "      <td>-0.024347</td>\n",
       "      <td>0.083865</td>\n",
       "      <td>-0.116417</td>\n",
       "      <td>0.075627</td>\n",
       "      <td>1.000000</td>\n",
       "      <td>-0.195233</td>\n",
       "    </tr>\n",
       "    <tr>\n",
       "      <th>Obesity_Levels</th>\n",
       "      <td>0.158460</td>\n",
       "      <td>-0.046190</td>\n",
       "      <td>0.082303</td>\n",
       "      <td>0.282889</td>\n",
       "      <td>-0.080997</td>\n",
       "      <td>-0.153121</td>\n",
       "      <td>0.278717</td>\n",
       "      <td>0.156465</td>\n",
       "      <td>-0.152434</td>\n",
       "      <td>0.053436</td>\n",
       "      <td>0.045325</td>\n",
       "      <td>0.121674</td>\n",
       "      <td>-0.069436</td>\n",
       "      <td>0.022081</td>\n",
       "      <td>-0.091324</td>\n",
       "      <td>-0.195233</td>\n",
       "      <td>1.000000</td>\n",
       "    </tr>\n",
       "  </tbody>\n",
       "</table>\n",
       "</div>"
      ],
      "text/plain": [
       "                                         Gender       Age    Height    Weight  \\\n",
       "Gender                                 1.000000 -0.050641 -0.626748 -0.163176   \n",
       "Age                                   -0.050641  1.000000 -0.031748  0.198160   \n",
       "Height                                -0.626748 -0.031748  1.000000  0.457468   \n",
       "Weight                                -0.163176  0.198160  0.457468  1.000000   \n",
       "Family_history_with_overweight         0.113492 -0.200379 -0.232258 -0.492969   \n",
       "Frequency_highcaloricfood_consumption  0.061220 -0.063895 -0.180694 -0.274655   \n",
       "Frequency_vegetable_consumption        0.271575  0.013572 -0.040363  0.216574   \n",
       "Number_of_main_meals                  -0.077863 -0.055823  0.227806  0.092149   \n",
       "Consumption_food_between_meals         0.037442 -0.117235 -0.110783 -0.328176   \n",
       "Smoking_status                         0.045501 -0.091261 -0.054326 -0.024369   \n",
       "Daily_water_consumption               -0.095129 -0.044058  0.220487  0.203823   \n",
       "Monitoring_calorie_consumption        -0.102435  0.117959  0.137078  0.205409   \n",
       "Frequency_physical_activity           -0.189471 -0.148202  0.293584 -0.056490   \n",
       "Time_using_technology_devices         -0.022356 -0.302927  0.041808 -0.079351   \n",
       "Alcohol_consumption                   -0.033522 -0.010163 -0.130644 -0.264586   \n",
       "Transportation_used                   -0.163893  0.406769  0.079472 -0.092508   \n",
       "Obesity_Levels                         0.158460 -0.046190  0.082303  0.282889   \n",
       "\n",
       "                                       Family_history_with_overweight  \\\n",
       "Gender                                                       0.113492   \n",
       "Age                                                         -0.200379   \n",
       "Height                                                      -0.232258   \n",
       "Weight                                                      -0.492969   \n",
       "Family_history_with_overweight                               1.000000   \n",
       "Frequency_highcaloricfood_consumption                        0.214329   \n",
       "Frequency_vegetable_consumption                             -0.033199   \n",
       "Number_of_main_meals                                        -0.028411   \n",
       "Consumption_food_between_meals                               0.277385   \n",
       "Smoking_status                                               0.014885   \n",
       "Daily_water_consumption                                     -0.168627   \n",
       "Monitoring_calorie_consumption                              -0.193947   \n",
       "Frequency_physical_activity                                  0.062937   \n",
       "Time_using_technology_devices                               -0.002314   \n",
       "Alcohol_consumption                                         -0.019592   \n",
       "Transportation_used                                         -0.001433   \n",
       "Obesity_Levels                                              -0.080997   \n",
       "\n",
       "                                       Frequency_highcaloricfood_consumption  \\\n",
       "Gender                                                              0.061220   \n",
       "Age                                                                -0.063895   \n",
       "Height                                                             -0.180694   \n",
       "Weight                                                             -0.274655   \n",
       "Family_history_with_overweight                                      0.214329   \n",
       "Frequency_highcaloricfood_consumption                               1.000000   \n",
       "Frequency_vegetable_consumption                                     0.025419   \n",
       "Number_of_main_meals                                                0.006398   \n",
       "Consumption_food_between_meals                                      0.167833   \n",
       "Smoking_status                                                     -0.050713   \n",
       "Daily_water_consumption                                            -0.002993   \n",
       "Monitoring_calorie_consumption                                     -0.191277   \n",
       "Frequency_physical_activity                                         0.111184   \n",
       "Time_using_technology_devices                                      -0.071505   \n",
       "Alcohol_consumption                                                 0.128040   \n",
       "Transportation_used                                                 0.100685   \n",
       "Obesity_Levels                                                     -0.153121   \n",
       "\n",
       "                                       Frequency_vegetable_consumption  \\\n",
       "Gender                                                        0.271575   \n",
       "Age                                                           0.013572   \n",
       "Height                                                       -0.040363   \n",
       "Weight                                                        0.216574   \n",
       "Family_history_with_overweight                               -0.033199   \n",
       "Frequency_highcaloricfood_consumption                         0.025419   \n",
       "Frequency_vegetable_consumption                               1.000000   \n",
       "Number_of_main_meals                                          0.034885   \n",
       "Consumption_food_between_meals                               -0.045500   \n",
       "Smoking_status                                               -0.013716   \n",
       "Daily_water_consumption                                       0.081332   \n",
       "Monitoring_calorie_consumption                               -0.071179   \n",
       "Frequency_physical_activity                                   0.022003   \n",
       "Time_using_technology_devices                                -0.104128   \n",
       "Alcohol_consumption                                          -0.083930   \n",
       "Transportation_used                                          -0.052807   \n",
       "Obesity_Levels                                                0.278717   \n",
       "\n",
       "                                       Number_of_main_meals  \\\n",
       "Gender                                            -0.077863   \n",
       "Age                                               -0.055823   \n",
       "Height                                             0.227806   \n",
       "Weight                                             0.092149   \n",
       "Family_history_with_overweight                    -0.028411   \n",
       "Frequency_highcaloricfood_consumption              0.006398   \n",
       "Frequency_vegetable_consumption                    0.034885   \n",
       "Number_of_main_meals                               1.000000   \n",
       "Consumption_food_between_meals                    -0.002716   \n",
       "Smoking_status                                    -0.005009   \n",
       "Daily_water_consumption                            0.075335   \n",
       "Monitoring_calorie_consumption                     0.020461   \n",
       "Frequency_physical_activity                        0.127816   \n",
       "Time_using_technology_devices                      0.015693   \n",
       "Alcohol_consumption                               -0.112404   \n",
       "Transportation_used                                0.046632   \n",
       "Obesity_Levels                                     0.156465   \n",
       "\n",
       "                                       Consumption_food_between_meals  \\\n",
       "Gender                                                       0.037442   \n",
       "Age                                                         -0.117235   \n",
       "Height                                                      -0.110783   \n",
       "Weight                                                      -0.328176   \n",
       "Family_history_with_overweight                               0.277385   \n",
       "Frequency_highcaloricfood_consumption                        0.167833   \n",
       "Frequency_vegetable_consumption                             -0.045500   \n",
       "Number_of_main_meals                                        -0.002716   \n",
       "Consumption_food_between_meals                               1.000000   \n",
       "Smoking_status                                              -0.049275   \n",
       "Daily_water_consumption                                      0.005968   \n",
       "Monitoring_calorie_consumption                              -0.172619   \n",
       "Frequency_physical_activity                                  0.054459   \n",
       "Time_using_technology_devices                               -0.041387   \n",
       "Alcohol_consumption                                          0.053935   \n",
       "Transportation_used                                          0.011446   \n",
       "Obesity_Levels                                              -0.152434   \n",
       "\n",
       "                                       Smoking_status  \\\n",
       "Gender                                       0.045501   \n",
       "Age                                         -0.091261   \n",
       "Height                                      -0.054326   \n",
       "Weight                                      -0.024369   \n",
       "Family_history_with_overweight               0.014885   \n",
       "Frequency_highcaloricfood_consumption       -0.050713   \n",
       "Frequency_vegetable_consumption             -0.013716   \n",
       "Number_of_main_meals                        -0.005009   \n",
       "Consumption_food_between_meals              -0.049275   \n",
       "Smoking_status                               1.000000   \n",
       "Daily_water_consumption                      0.031642   \n",
       "Monitoring_calorie_consumption               0.047384   \n",
       "Frequency_physical_activity                 -0.010811   \n",
       "Time_using_technology_devices               -0.016491   \n",
       "Alcohol_consumption                          0.040752   \n",
       "Transportation_used                         -0.027561   \n",
       "Obesity_Levels                               0.053436   \n",
       "\n",
       "                                       Daily_water_consumption  \\\n",
       "Gender                                               -0.095129   \n",
       "Age                                                  -0.044058   \n",
       "Height                                                0.220487   \n",
       "Weight                                                0.203823   \n",
       "Family_history_with_overweight                       -0.168627   \n",
       "Frequency_highcaloricfood_consumption                -0.002993   \n",
       "Frequency_vegetable_consumption                       0.081332   \n",
       "Number_of_main_meals                                  0.075335   \n",
       "Consumption_food_between_meals                        0.005968   \n",
       "Smoking_status                                        0.031642   \n",
       "Daily_water_consumption                               1.000000   \n",
       "Monitoring_calorie_consumption                       -0.009325   \n",
       "Frequency_physical_activity                           0.165310   \n",
       "Time_using_technology_devices                         0.020704   \n",
       "Alcohol_consumption                                  -0.069859   \n",
       "Transportation_used                                  -0.011711   \n",
       "Obesity_Levels                                        0.045325   \n",
       "\n",
       "                                       Monitoring_calorie_consumption  \\\n",
       "Gender                                                      -0.102435   \n",
       "Age                                                          0.117959   \n",
       "Height                                                       0.137078   \n",
       "Weight                                                       0.205409   \n",
       "Family_history_with_overweight                              -0.193947   \n",
       "Frequency_highcaloricfood_consumption                       -0.191277   \n",
       "Frequency_vegetable_consumption                             -0.071179   \n",
       "Number_of_main_meals                                         0.020461   \n",
       "Consumption_food_between_meals                              -0.172619   \n",
       "Smoking_status                                               0.047384   \n",
       "Daily_water_consumption                                     -0.009325   \n",
       "Monitoring_calorie_consumption                               1.000000   \n",
       "Frequency_physical_activity                                 -0.073768   \n",
       "Time_using_technology_devices                                0.012875   \n",
       "Alcohol_consumption                                         -0.026575   \n",
       "Transportation_used                                         -0.024347   \n",
       "Obesity_Levels                                               0.121674   \n",
       "\n",
       "                                       Frequency_physical_activity  \\\n",
       "Gender                                                   -0.189471   \n",
       "Age                                                      -0.148202   \n",
       "Height                                                    0.293584   \n",
       "Weight                                                   -0.056490   \n",
       "Family_history_with_overweight                            0.062937   \n",
       "Frequency_highcaloricfood_consumption                     0.111184   \n",
       "Frequency_vegetable_consumption                           0.022003   \n",
       "Number_of_main_meals                                      0.127816   \n",
       "Consumption_food_between_meals                            0.054459   \n",
       "Smoking_status                                           -0.010811   \n",
       "Daily_water_consumption                                   0.165310   \n",
       "Monitoring_calorie_consumption                           -0.073768   \n",
       "Frequency_physical_activity                               1.000000   \n",
       "Time_using_technology_devices                             0.058716   \n",
       "Alcohol_consumption                                       0.126752   \n",
       "Transportation_used                                       0.083865   \n",
       "Obesity_Levels                                           -0.069436   \n",
       "\n",
       "                                       Time_using_technology_devices  \\\n",
       "Gender                                                     -0.022356   \n",
       "Age                                                        -0.302927   \n",
       "Height                                                      0.041808   \n",
       "Weight                                                     -0.079351   \n",
       "Family_history_with_overweight                             -0.002314   \n",
       "Frequency_highcaloricfood_consumption                      -0.071505   \n",
       "Frequency_vegetable_consumption                            -0.104128   \n",
       "Number_of_main_meals                                        0.015693   \n",
       "Consumption_food_between_meals                             -0.041387   \n",
       "Smoking_status                                             -0.016491   \n",
       "Daily_water_consumption                                     0.020704   \n",
       "Monitoring_calorie_consumption                              0.012875   \n",
       "Frequency_physical_activity                                 0.058716   \n",
       "Time_using_technology_devices                               1.000000   \n",
       "Alcohol_consumption                                         0.084917   \n",
       "Transportation_used                                        -0.116417   \n",
       "Obesity_Levels                                              0.022081   \n",
       "\n",
       "                                       Alcohol_consumption  \\\n",
       "Gender                                           -0.033522   \n",
       "Age                                              -0.010163   \n",
       "Height                                           -0.130644   \n",
       "Weight                                           -0.264586   \n",
       "Family_history_with_overweight                   -0.019592   \n",
       "Frequency_highcaloricfood_consumption             0.128040   \n",
       "Frequency_vegetable_consumption                  -0.083930   \n",
       "Number_of_main_meals                             -0.112404   \n",
       "Consumption_food_between_meals                    0.053935   \n",
       "Smoking_status                                    0.040752   \n",
       "Daily_water_consumption                          -0.069859   \n",
       "Monitoring_calorie_consumption                   -0.026575   \n",
       "Frequency_physical_activity                       0.126752   \n",
       "Time_using_technology_devices                     0.084917   \n",
       "Alcohol_consumption                               1.000000   \n",
       "Transportation_used                               0.075627   \n",
       "Obesity_Levels                                   -0.091324   \n",
       "\n",
       "                                       Transportation_used  Obesity_Levels  \n",
       "Gender                                           -0.163893        0.158460  \n",
       "Age                                               0.406769       -0.046190  \n",
       "Height                                            0.079472        0.082303  \n",
       "Weight                                           -0.092508        0.282889  \n",
       "Family_history_with_overweight                   -0.001433       -0.080997  \n",
       "Frequency_highcaloricfood_consumption             0.100685       -0.153121  \n",
       "Frequency_vegetable_consumption                  -0.052807        0.278717  \n",
       "Number_of_main_meals                              0.046632        0.156465  \n",
       "Consumption_food_between_meals                    0.011446       -0.152434  \n",
       "Smoking_status                                   -0.027561        0.053436  \n",
       "Daily_water_consumption                          -0.011711        0.045325  \n",
       "Monitoring_calorie_consumption                   -0.024347        0.121674  \n",
       "Frequency_physical_activity                       0.083865       -0.069436  \n",
       "Time_using_technology_devices                    -0.116417        0.022081  \n",
       "Alcohol_consumption                               0.075627       -0.091324  \n",
       "Transportation_used                               1.000000       -0.195233  \n",
       "Obesity_Levels                                   -0.195233        1.000000  "
      ]
     },
     "execution_count": 51,
     "metadata": {},
     "output_type": "execute_result"
    }
   ],
   "source": [
    "df.corr()"
   ]
  },
  {
   "cell_type": "code",
   "execution_count": 52,
   "metadata": {
    "colab": {
     "base_uri": "https://localhost:8080/",
     "height": 975
    },
    "executionInfo": {
     "elapsed": 2747,
     "status": "ok",
     "timestamp": 1700829226147,
     "user": {
      "displayName": "Jan",
      "userId": "15086773509541200420"
     },
     "user_tz": -480
    },
    "id": "Att4KMGWUVby",
    "outputId": "8dba3e65-c4e4-4187-c49d-f38130ddc812"
   },
   "outputs": [
    {
     "data": {
      "image/png": "[encoded data removed]",
      "text/plain": [
       "<Figure size 1000x800 with 2 Axes>"
      ]
     },
     "metadata": {},
     "output_type": "display_data"
    }
   ],
   "source": [
    "# correlation heatmap\n",
    "corr = df.corr()\n",
    "plt.figure(figsize = (10, 8))\n",
    "plt.title('Correlation Matrix', fontsize = 20)\n",
    "sns.heatmap(corr, cmap = 'coolwarm', annot = True, fmt=\".2f\");"
   ]
  },
  {
   "cell_type": "code",
   "execution_count": 53,
   "metadata": {
    "colab": {
     "base_uri": "https://localhost:8080/"
    },
    "executionInfo": {
     "elapsed": 4,
     "status": "ok",
     "timestamp": 1700829229017,
     "user": {
      "displayName": "Jan",
      "userId": "15086773509541200420"
     },
     "user_tz": -480
    },
    "id": "A2pP0kbBsRD5",
    "outputId": "b6e7c4e5-2cde-499c-d236-6fa17a63b2fe"
   },
   "outputs": [
    {
     "name": "stdout",
     "output_type": "stream",
     "text": [
      "<class 'pandas.core.frame.DataFrame'>\n",
      "Index: 2087 entries, 0 to 2110\n",
      "Data columns (total 17 columns):\n",
      " #   Column                                 Non-Null Count  Dtype  \n",
      "---  ------                                 --------------  -----  \n",
      " 0   Gender                                 2087 non-null   int64  \n",
      " 1   Age                                    2087 non-null   float64\n",
      " 2   Height                                 2087 non-null   float64\n",
      " 3   Weight                                 2087 non-null   float64\n",
      " 4   Family_history_with_overweight         2087 non-null   int64  \n",
      " 5   Frequency_highcaloricfood_consumption  2087 non-null   int64  \n",
      " 6   Frequency_vegetable_consumption        2087 non-null   float64\n",
      " 7   Number_of_main_meals                   2087 non-null   float64\n",
      " 8   Consumption_food_between_meals         2087 non-null   int64  \n",
      " 9   Smoking_status                         2087 non-null   int64  \n",
      " 10  Daily_water_consumption                2087 non-null   float64\n",
      " 11  Monitoring_calorie_consumption         2087 non-null   int64  \n",
      " 12  Frequency_physical_activity            2087 non-null   float64\n",
      " 13  Time_using_technology_devices          2087 non-null   float64\n",
      " 14  Alcohol_consumption                    2087 non-null   int64  \n",
      " 15  Transportation_used                    2087 non-null   int64  \n",
      " 16  Obesity_Levels                         2087 non-null   int64  \n",
      "dtypes: float64(8), int64(9)\n",
      "memory usage: 293.5 KB\n"
     ]
    }
   ],
   "source": [
    "df.info()"
   ]
  },
  {
   "cell_type": "code",
   "execution_count": 57,
   "metadata": {},
   "outputs": [
    {
     "data": {
      "text/plain": [
       "Index(['Gender', 'Age', 'Height', 'Weight', 'Family_history_with_overweight',\n",
       "       'Frequency_highcaloricfood_consumption',\n",
       "       'Frequency_vegetable_consumption', 'Number_of_main_meals',\n",
       "       'Consumption_food_between_meals', 'Smoking_status',\n",
       "       'Daily_water_consumption', 'Monitoring_calorie_consumption',\n",
       "       'Frequency_physical_activity', 'Time_using_technology_devices',\n",
       "       'Alcohol_consumption', 'Transportation_used', 'Obesity_Levels'],\n",
       "      dtype='object')"
      ]
     },
     "execution_count": 57,
     "metadata": {},
     "output_type": "execute_result"
    }
   ],
   "source": [
    "df.columns"
   ]
  },
  {
   "cell_type": "code",
   "execution_count": 60,
   "metadata": {
    "colab": {
     "base_uri": "https://localhost:8080/",
     "height": 472
    },
    "executionInfo": {
     "elapsed": 859,
     "status": "ok",
     "timestamp": 1700829231959,
     "user": {
      "displayName": "Jan",
      "userId": "15086773509541200420"
     },
     "user_tz": -480
    },
    "id": "ZBTb-XE2Wdqa",
    "outputId": "1983a0c5-880e-4c7b-d107-3d7f3116abb8"
   },
   "outputs": [
    {
     "ename": "KeyError",
     "evalue": "'Correct_Column_Name'",
     "output_type": "error",
     "traceback": [
      "\u001b[0;31m---------------------------------------------------------------------------\u001b[0m",
      "\u001b[0;31mKeyError\u001b[0m                                  Traceback (most recent call last)",
      "File \u001b[0;32m/opt/anaconda3/envs/data-sci/lib/python3.10/site-packages/pandas/core/indexes/base.py:3805\u001b[0m, in \u001b[0;36mIndex.get_loc\u001b[0;34m(self, key)\u001b[0m\n\u001b[1;32m   3804\u001b[0m \u001b[38;5;28;01mtry\u001b[39;00m:\n\u001b[0;32m-> 3805\u001b[0m     \u001b[38;5;28;01mreturn\u001b[39;00m \u001b[38;5;28;43mself\u001b[39;49m\u001b[38;5;241;43m.\u001b[39;49m\u001b[43m_engine\u001b[49m\u001b[38;5;241;43m.\u001b[39;49m\u001b[43mget_loc\u001b[49m\u001b[43m(\u001b[49m\u001b[43mcasted_key\u001b[49m\u001b[43m)\u001b[49m\n\u001b[1;32m   3806\u001b[0m \u001b[38;5;28;01mexcept\u001b[39;00m \u001b[38;5;167;01mKeyError\u001b[39;00m \u001b[38;5;28;01mas\u001b[39;00m err:\n",
      "File \u001b[0;32mindex.pyx:167\u001b[0m, in \u001b[0;36mpandas._libs.index.IndexEngine.get_loc\u001b[0;34m()\u001b[0m\n",
      "File \u001b[0;32mindex.pyx:196\u001b[0m, in \u001b[0;36mpandas._libs.index.IndexEngine.get_loc\u001b[0;34m()\u001b[0m\n",
      "File \u001b[0;32mpandas/_libs/hashtable_class_helper.pxi:7081\u001b[0m, in \u001b[0;36mpandas._libs.hashtable.PyObjectHashTable.get_item\u001b[0;34m()\u001b[0m\n",
      "File \u001b[0;32mpandas/_libs/hashtable_class_helper.pxi:7089\u001b[0m, in \u001b[0;36mpandas._libs.hashtable.PyObjectHashTable.get_item\u001b[0;34m()\u001b[0m\n",
      "\u001b[0;31mKeyError\u001b[0m: 'Correct_Column_Name'",
      "\nThe above exception was the direct cause of the following exception:\n",
      "\u001b[0;31mKeyError\u001b[0m                                  Traceback (most recent call last)",
      "Cell \u001b[0;32mIn[60], line 11\u001b[0m\n\u001b[1;32m      1\u001b[0m \u001b[38;5;66;03m# univariate\u001b[39;00m\n\u001b[1;32m      2\u001b[0m \u001b[38;5;66;03m# df_sp = df.Obesity_Levels.value_counts()\u001b[39;00m\n\u001b[1;32m      3\u001b[0m \u001b[38;5;66;03m# df_sp = pd.DataFrame(df_sp)\u001b[39;00m\n\u001b[0;32m   (...)\u001b[0m\n\u001b[1;32m      8\u001b[0m \u001b[38;5;66;03m# plt.title('Count of Obesity Levels')\u001b[39;00m\n\u001b[1;32m      9\u001b[0m \u001b[38;5;66;03m# plt.show()\u001b[39;00m\n\u001b[0;32m---> 11\u001b[0m df_sp \u001b[38;5;241m=\u001b[39m \u001b[43mdf\u001b[49m\u001b[43m[\u001b[49m\u001b[38;5;124;43m'\u001b[39;49m\u001b[38;5;124;43mCorrect_Column_Name\u001b[39;49m\u001b[38;5;124;43m'\u001b[39;49m\u001b[43m]\u001b[49m\u001b[38;5;241m.\u001b[39mvalue_counts()\n\u001b[1;32m     12\u001b[0m df_sp \u001b[38;5;241m=\u001b[39m df_sp\u001b[38;5;241m.\u001b[39mreset_index()\n\u001b[1;32m     13\u001b[0m df_sp\u001b[38;5;241m.\u001b[39mcolumns \u001b[38;5;241m=\u001b[39m [\u001b[38;5;124m'\u001b[39m\u001b[38;5;124mObesity_Levels\u001b[39m\u001b[38;5;124m'\u001b[39m, \u001b[38;5;124m'\u001b[39m\u001b[38;5;124mCount\u001b[39m\u001b[38;5;124m'\u001b[39m]\n",
      "File \u001b[0;32m/opt/anaconda3/envs/data-sci/lib/python3.10/site-packages/pandas/core/frame.py:4090\u001b[0m, in \u001b[0;36mDataFrame.__getitem__\u001b[0;34m(self, key)\u001b[0m\n\u001b[1;32m   4088\u001b[0m \u001b[38;5;28;01mif\u001b[39;00m \u001b[38;5;28mself\u001b[39m\u001b[38;5;241m.\u001b[39mcolumns\u001b[38;5;241m.\u001b[39mnlevels \u001b[38;5;241m>\u001b[39m \u001b[38;5;241m1\u001b[39m:\n\u001b[1;32m   4089\u001b[0m     \u001b[38;5;28;01mreturn\u001b[39;00m \u001b[38;5;28mself\u001b[39m\u001b[38;5;241m.\u001b[39m_getitem_multilevel(key)\n\u001b[0;32m-> 4090\u001b[0m indexer \u001b[38;5;241m=\u001b[39m \u001b[38;5;28;43mself\u001b[39;49m\u001b[38;5;241;43m.\u001b[39;49m\u001b[43mcolumns\u001b[49m\u001b[38;5;241;43m.\u001b[39;49m\u001b[43mget_loc\u001b[49m\u001b[43m(\u001b[49m\u001b[43mkey\u001b[49m\u001b[43m)\u001b[49m\n\u001b[1;32m   4091\u001b[0m \u001b[38;5;28;01mif\u001b[39;00m is_integer(indexer):\n\u001b[1;32m   4092\u001b[0m     indexer \u001b[38;5;241m=\u001b[39m [indexer]\n",
      "File \u001b[0;32m/opt/anaconda3/envs/data-sci/lib/python3.10/site-packages/pandas/core/indexes/base.py:3812\u001b[0m, in \u001b[0;36mIndex.get_loc\u001b[0;34m(self, key)\u001b[0m\n\u001b[1;32m   3807\u001b[0m     \u001b[38;5;28;01mif\u001b[39;00m \u001b[38;5;28misinstance\u001b[39m(casted_key, \u001b[38;5;28mslice\u001b[39m) \u001b[38;5;129;01mor\u001b[39;00m (\n\u001b[1;32m   3808\u001b[0m         \u001b[38;5;28misinstance\u001b[39m(casted_key, abc\u001b[38;5;241m.\u001b[39mIterable)\n\u001b[1;32m   3809\u001b[0m         \u001b[38;5;129;01mand\u001b[39;00m \u001b[38;5;28many\u001b[39m(\u001b[38;5;28misinstance\u001b[39m(x, \u001b[38;5;28mslice\u001b[39m) \u001b[38;5;28;01mfor\u001b[39;00m x \u001b[38;5;129;01min\u001b[39;00m casted_key)\n\u001b[1;32m   3810\u001b[0m     ):\n\u001b[1;32m   3811\u001b[0m         \u001b[38;5;28;01mraise\u001b[39;00m InvalidIndexError(key)\n\u001b[0;32m-> 3812\u001b[0m     \u001b[38;5;28;01mraise\u001b[39;00m \u001b[38;5;167;01mKeyError\u001b[39;00m(key) \u001b[38;5;28;01mfrom\u001b[39;00m \u001b[38;5;21;01merr\u001b[39;00m\n\u001b[1;32m   3813\u001b[0m \u001b[38;5;28;01mexcept\u001b[39;00m \u001b[38;5;167;01mTypeError\u001b[39;00m:\n\u001b[1;32m   3814\u001b[0m     \u001b[38;5;66;03m# If we have a listlike key, _check_indexing_error will raise\u001b[39;00m\n\u001b[1;32m   3815\u001b[0m     \u001b[38;5;66;03m#  InvalidIndexError. Otherwise we fall through and re-raise\u001b[39;00m\n\u001b[1;32m   3816\u001b[0m     \u001b[38;5;66;03m#  the TypeError.\u001b[39;00m\n\u001b[1;32m   3817\u001b[0m     \u001b[38;5;28mself\u001b[39m\u001b[38;5;241m.\u001b[39m_check_indexing_error(key)\n",
      "\u001b[0;31mKeyError\u001b[0m: 'Correct_Column_Name'"
     ]
    }
   ],
   "source": [
    "# univariate\n",
    "# df_sp = df.Obesity_Levels.value_counts()\n",
    "# df_sp = pd.DataFrame(df_sp)\n",
    "\n",
    "# sns.barplot(x= df_sp.index, y = df_sp['Obesity_Levels'])\n",
    "# plt.xlabel('Obesity Levels')\n",
    "# plt.ylabel('Count')\n",
    "# plt.title('Count of Obesity Levels')\n",
    "# plt.show()\n",
    "\n",
    "df_sp = df['Correct_Column_Name'].value_counts()\n",
    "df_sp = df_sp.reset_index()\n",
    "df_sp.columns = ['Obesity_Levels', 'Count']\n",
    "sns.barplot(x='Obesity Levels', y='Count', data=df_sp)"
   ]
  },
  {
   "cell_type": "code",
   "execution_count": null,
   "metadata": {
    "colab": {
     "base_uri": "https://localhost:8080/",
     "height": 472
    },
    "executionInfo": {
     "elapsed": 8,
     "status": "ok",
     "timestamp": 1700829234175,
     "user": {
      "displayName": "Jan",
      "userId": "15086773509541200420"
     },
     "user_tz": -480
    },
    "id": "BMnhQbNF06W5",
    "outputId": "0a1c4e1b-5e2b-4743-e3b3-1e5a850785f5"
   },
   "outputs": [],
   "source": [
    "df_sp = df.Family_history_with_overweight.value_counts()\n",
    "df_sp = pd.DataFrame(df_sp)\n",
    "\n",
    "sns.barplot(x= df_sp.index, y = df_sp.Family_history_with_overweight)\n",
    "plt.xlabel('Family History')\n",
    "plt.ylabel('Count')\n",
    "plt.title('Count of Patients with Overweight Family History')\n",
    "plt.show()"
   ]
  },
  {
   "cell_type": "code",
   "execution_count": null,
   "metadata": {
    "executionInfo": {
     "elapsed": 10,
     "status": "ok",
     "timestamp": 1700809485936,
     "user": {
      "displayName": "Jan",
      "userId": "15086773509541200420"
     },
     "user_tz": -480
    },
    "id": "oX_hxL3CNOVb"
   },
   "outputs": [],
   "source": [
    "# # Sample data\n",
    "# y = df['Weight']\n",
    "# x = df['Height']\n",
    "\n",
    "# # Create a scatter plot using Seaborn\n",
    "# sns.regplot(x=x, y=y, scatter_kws={'color': 'blue'}, line_kws={'color': 'red'})\n",
    "\n",
    "\n",
    "# # Add labels and title\n",
    "# plt.xlabel('Weight in Kilograms')\n",
    "# plt.ylabel('Family History with Overweight')\n",
    "# plt.title('Scatter Plot - Family History and Weight')\n",
    "\n",
    "# # Show the plot\n",
    "# plt.show()"
   ]
  },
  {
   "cell_type": "code",
   "execution_count": null,
   "metadata": {
    "colab": {
     "base_uri": "https://localhost:8080/",
     "height": 472
    },
    "executionInfo": {
     "elapsed": 851,
     "status": "ok",
     "timestamp": 1700829242561,
     "user": {
      "displayName": "Jan",
      "userId": "15086773509541200420"
     },
     "user_tz": -480
    },
    "id": "1JxYVhI49aoe",
    "outputId": "c553c687-c02d-45ac-9869-3fe26fb83513"
   },
   "outputs": [],
   "source": [
    "df_sp = df.Monitoring_calorie_consumption.value_counts()\n",
    "df_sp = pd.DataFrame(df_sp)\n",
    "\n",
    "sns.barplot(x= df_sp.index, y = df_sp.Monitoring_calorie_consumption)\n",
    "plt.xlabel('Calorie Consumption Monitoring')\n",
    "plt.ylabel('Count')\n",
    "plt.title('Count of Patients who Monitor Calorie Consumed')\n",
    "plt.show()"
   ]
  },
  {
   "cell_type": "code",
   "execution_count": null,
   "metadata": {
    "colab": {
     "base_uri": "https://localhost:8080/"
    },
    "executionInfo": {
     "elapsed": 5,
     "status": "ok",
     "timestamp": 1700829245217,
     "user": {
      "displayName": "Jan",
      "userId": "15086773509541200420"
     },
     "user_tz": -480
    },
    "id": "blGmV6IQADGP",
    "outputId": "4015bc26-b82d-48b7-e9f4-e9d1b8bef7f9"
   },
   "outputs": [],
   "source": [
    "df.dtypes"
   ]
  },
  {
   "cell_type": "code",
   "execution_count": null,
   "metadata": {
    "colab": {
     "base_uri": "https://localhost:8080/",
     "height": 696
    },
    "executionInfo": {
     "elapsed": 676,
     "status": "ok",
     "timestamp": 1700829251195,
     "user": {
      "displayName": "Jan",
      "userId": "15086773509541200420"
     },
     "user_tz": -480
    },
    "id": "6mlXqdIi_btl",
    "outputId": "9c6787b0-e48b-4b4b-f33a-812c145ab045"
   },
   "outputs": [],
   "source": [
    "x = df['Frequency_physical_activity']\n",
    "fig, ax = plt.subplots(figsize = (10,8));\n",
    "sns.histplot(x);"
   ]
  },
  {
   "cell_type": "code",
   "execution_count": null,
   "metadata": {
    "colab": {
     "base_uri": "https://localhost:8080/",
     "height": 450
    },
    "executionInfo": {
     "elapsed": 6,
     "status": "ok",
     "timestamp": 1700829253964,
     "user": {
      "displayName": "Jan",
      "userId": "15086773509541200420"
     },
     "user_tz": -480
    },
    "id": "GdOKMqVhD5vZ",
    "outputId": "a6b01e11-0a81-4db4-dddd-d822d91c0881"
   },
   "outputs": [],
   "source": [
    "sns.countplot(x=df['Smoking_status'],hue=df['Gender']);"
   ]
  },
  {
   "cell_type": "code",
   "execution_count": null,
   "metadata": {
    "colab": {
     "base_uri": "https://localhost:8080/",
     "height": 450
    },
    "executionInfo": {
     "elapsed": 6,
     "status": "ok",
     "timestamp": 1700829256530,
     "user": {
      "displayName": "Jan",
      "userId": "15086773509541200420"
     },
     "user_tz": -480
    },
    "id": "1git3XtQAY6-",
    "outputId": "64b6fac5-5a37-4326-8b4b-baff18cf11c3"
   },
   "outputs": [],
   "source": [
    "sns.countplot(x=df['Transportation_used'],hue=df['Gender']);"
   ]
  },
  {
   "cell_type": "code",
   "execution_count": null,
   "metadata": {
    "colab": {
     "base_uri": "https://localhost:8080/",
     "height": 450
    },
    "executionInfo": {
     "elapsed": 691,
     "status": "ok",
     "timestamp": 1700829258683,
     "user": {
      "displayName": "Jan",
      "userId": "15086773509541200420"
     },
     "user_tz": -480
    },
    "id": "x227qipAB5qX",
    "outputId": "53604911-6c1e-4fe8-9106-e81a88b993d9"
   },
   "outputs": [],
   "source": [
    "sns.countplot(x=df['Alcohol_consumption'],hue=df['Gender']);"
   ]
  },
  {
   "cell_type": "code",
   "execution_count": null,
   "metadata": {
    "colab": {
     "base_uri": "https://localhost:8080/",
     "height": 872
    },
    "executionInfo": {
     "elapsed": 792,
     "status": "ok",
     "timestamp": 1700829261823,
     "user": {
      "displayName": "Jan",
      "userId": "15086773509541200420"
     },
     "user_tz": -480
    },
    "id": "ngUQ9s1vCZWv",
    "outputId": "2a5ea6fb-5e17-47c4-9200-8984a3cc1ce6"
   },
   "outputs": [],
   "source": [
    "plt.figure(figsize=[20, 10])\n",
    "sns.barplot(x='Obesity_Levels', y=\"Age\", hue=\"Gender\", data = df)\n",
    "plt.xlabel(\"Obesity Levels\")\n",
    "plt.ylabel(\"Age\")\n",
    "plt.title(\"Obesity Levels vs Age vs Gender\")\n",
    "plt.legend()\n",
    "plt.show()"
   ]
  },
  {
   "cell_type": "code",
   "execution_count": null,
   "metadata": {
    "colab": {
     "base_uri": "https://localhost:8080/",
     "height": 872
    },
    "executionInfo": {
     "elapsed": 776,
     "status": "ok",
     "timestamp": 1700829266058,
     "user": {
      "displayName": "Jan",
      "userId": "15086773509541200420"
     },
     "user_tz": -480
    },
    "id": "F57Pjdmu-DSK",
    "outputId": "bad5201c-7049-46db-f9f8-d287136015fa"
   },
   "outputs": [],
   "source": [
    "plt.figure(figsize=[20, 10])\n",
    "sns.barplot(x='Obesity_Levels', y=\"Alcohol_consumption\", hue=\"Gender\", data = df)\n",
    "plt.xlabel(\"Obesity Levels\")\n",
    "plt.ylabel(\"Alcohol Consumption\")\n",
    "plt.title(\"Obesity Levels vs Alcohol Consumption vs Gender\")\n",
    "plt.legend()\n",
    "plt.show()"
   ]
  },
  {
   "cell_type": "code",
   "execution_count": null,
   "metadata": {
    "executionInfo": {
     "elapsed": 5,
     "status": "ok",
     "timestamp": 1700809495199,
     "user": {
      "displayName": "Jan",
      "userId": "15086773509541200420"
     },
     "user_tz": -480
    },
    "id": "_fsyEIXpvfSJ"
   },
   "outputs": [],
   "source": [
    "# plt.figure(figsize=[20, 10])\n",
    "# sns.barplot(x='Obesity_Levels', y=\"Frequency_vegetable_consumption\", hue=\"Gender\", data = df)\n",
    "# plt.xlabel(\"Obesity Levels\")\n",
    "# plt.ylabel(\"Frequency of Vegetable Consumption\")\n",
    "# plt.title(\"Obesity Levels vs Frequency of vegetable consumption vs Gender\")\n",
    "# plt.legend()\n",
    "# plt.show()"
   ]
  },
  {
   "cell_type": "code",
   "execution_count": null,
   "metadata": {
    "colab": {
     "base_uri": "https://localhost:8080/",
     "height": 472
    },
    "executionInfo": {
     "elapsed": 1207,
     "status": "ok",
     "timestamp": 1700829268727,
     "user": {
      "displayName": "Jan",
      "userId": "15086773509541200420"
     },
     "user_tz": -480
    },
    "id": "jTCw0B0rz9wI",
    "outputId": "7a8e81d1-0385-4867-e550-a13a0c1af76d"
   },
   "outputs": [],
   "source": [
    "# Sample data\n",
    "x = df['Weight']\n",
    "y = df['Height']\n",
    "\n",
    "# Create a scatter plot using Seaborn\n",
    "sns.regplot(x=x, y=y, scatter_kws={'color': 'blue'}, line_kws={'color': 'red'})\n",
    "\n",
    "\n",
    "# Add labels and title\n",
    "plt.xlabel('Weight in Kilograms')\n",
    "plt.ylabel('Height in Meters')\n",
    "plt.title('Scatter Plot - Height and Weight')\n",
    "\n",
    "# Show the plot\n",
    "plt.show()"
   ]
  },
  {
   "cell_type": "code",
   "execution_count": null,
   "metadata": {
    "colab": {
     "base_uri": "https://localhost:8080/",
     "height": 480
    },
    "executionInfo": {
     "elapsed": 6,
     "status": "ok",
     "timestamp": 1700829271617,
     "user": {
      "displayName": "Jan",
      "userId": "15086773509541200420"
     },
     "user_tz": -480
    },
    "id": "SojlX7RZxKWn",
    "outputId": "87c8c33d-d2e2-4f39-a4fb-613f549c423b"
   },
   "outputs": [],
   "source": [
    "weight_mean = df.groupby('Obesity_Levels')['Weight'].mean().sort_values()\n",
    "weight_mean.plot(kind='barh')\n",
    "plt.style.use('ggplot')\n",
    "plt.xlabel('Average Weight', fontsize = 16)\n",
    "plt.ylabel('Obesity Levels',fontsize = 16)\n",
    "plt.title('Average Weight by Obesity Levels', fontsize = 16);"
   ]
  },
  {
   "cell_type": "code",
   "execution_count": null,
   "metadata": {
    "colab": {
     "base_uri": "https://localhost:8080/",
     "height": 453
    },
    "executionInfo": {
     "elapsed": 5,
     "status": "ok",
     "timestamp": 1700829273148,
     "user": {
      "displayName": "Jan",
      "userId": "15086773509541200420"
     },
     "user_tz": -480
    },
    "id": "7tRtTOG_zJqF",
    "outputId": "4ad5db70-0f4b-4951-c066-21923c4630f7"
   },
   "outputs": [],
   "source": [
    "sns.boxplot(data=df, x='Age');"
   ]
  },
  {
   "cell_type": "code",
   "execution_count": null,
   "metadata": {
    "colab": {
     "base_uri": "https://localhost:8080/",
     "height": 453
    },
    "executionInfo": {
     "elapsed": 8,
     "status": "ok",
     "timestamp": 1700829275508,
     "user": {
      "displayName": "Jan",
      "userId": "15086773509541200420"
     },
     "user_tz": -480
    },
    "id": "1w8WjFniz1af",
    "outputId": "7bfa2527-ee2c-430b-b2d4-c147e5302b93"
   },
   "outputs": [],
   "source": [
    "sns.boxplot(data=df, x='Weight');"
   ]
  },
  {
   "cell_type": "code",
   "execution_count": null,
   "metadata": {
    "colab": {
     "base_uri": "https://localhost:8080/",
     "height": 453
    },
    "executionInfo": {
     "elapsed": 8,
     "status": "ok",
     "timestamp": 1700829277611,
     "user": {
      "displayName": "Jan",
      "userId": "15086773509541200420"
     },
     "user_tz": -480
    },
    "id": "vxghG8H2CqX5",
    "outputId": "338667fa-6d8a-4f13-e14f-39e5471dd61a"
   },
   "outputs": [],
   "source": [
    "sns.boxplot(data=df, x='Height');"
   ]
  },
  {
   "cell_type": "code",
   "execution_count": null,
   "metadata": {
    "colab": {
     "base_uri": "https://localhost:8080/",
     "height": 877
    },
    "executionInfo": {
     "elapsed": 1445,
     "status": "ok",
     "timestamp": 1700829283172,
     "user": {
      "displayName": "Jan",
      "userId": "15086773509541200420"
     },
     "user_tz": -480
    },
    "id": "J3RfAGPeN-Th",
    "outputId": "b8b56175-b0e6-43a9-95f5-340875246a20"
   },
   "outputs": [],
   "source": [
    "plt.figure(figsize=[20, 10])\n",
    "sns.barplot(x='Transportation_used', y=\"Age\", hue=\"Gender\", data = df)\n",
    "plt.xlabel(\"Modes of Transportation\")\n",
    "plt.ylabel(\"Age\")\n",
    "plt.title(\"Modes of Transportation vs Age vs Gender\")\n",
    "plt.legend()\n",
    "plt.show()"
   ]
  },
  {
   "cell_type": "markdown",
   "metadata": {
    "id": "ma6hXpWSFqgW"
   },
   "source": [
    "##Pre-processing\n",
    "\n",
    "Prepare the data appropriately for modeling\n",
    "\n",
    "Implement a preprocessing pipeline to avoid data leakage.\n",
    "\n",
    "Scale the data if your model requires it.\n",
    "\n",
    "Write a justification for how you encode the variables (one-hot encoding)."
   ]
  },
  {
   "cell_type": "code",
   "execution_count": null,
   "metadata": {
    "colab": {
     "base_uri": "https://localhost:8080/",
     "height": 226
    },
    "executionInfo": {
     "elapsed": 785,
     "status": "ok",
     "timestamp": 1700809501450,
     "user": {
      "displayName": "Jan",
      "userId": "15086773509541200420"
     },
     "user_tz": -480
    },
    "id": "wRFkr0prHQDu",
    "outputId": "7c43eeff-fe19-483a-8273-e381f56feb85"
   },
   "outputs": [],
   "source": [
    "# load new cleaned df\n",
    "filename = ('/content/cleaned_dataset.xlsx')\n",
    "clean_df = pd.read_excel(filename)\n",
    "clean_df.head()"
   ]
  },
  {
   "cell_type": "code",
   "execution_count": null,
   "metadata": {
    "colab": {
     "base_uri": "https://localhost:8080/"
    },
    "executionInfo": {
     "elapsed": 39,
     "status": "ok",
     "timestamp": 1700809501450,
     "user": {
      "displayName": "Jan",
      "userId": "15086773509541200420"
     },
     "user_tz": -480
    },
    "id": "KXbK53939YHw",
    "outputId": "08fcb8d9-1ace-4c92-d077-2add5be26c3e"
   },
   "outputs": [],
   "source": [
    "clean_df['Obesity_Levels'].unique()"
   ]
  },
  {
   "cell_type": "code",
   "execution_count": null,
   "metadata": {
    "colab": {
     "base_uri": "https://localhost:8080/"
    },
    "executionInfo": {
     "elapsed": 33,
     "status": "ok",
     "timestamp": 1700809501450,
     "user": {
      "displayName": "Jan",
      "userId": "15086773509541200420"
     },
     "user_tz": -480
    },
    "id": "nXS6mJAyPEyc",
    "outputId": "4e60fa50-47df-4e29-9308-591fdf8d3696"
   },
   "outputs": [],
   "source": [
    "clean_df.dtypes"
   ]
  },
  {
   "cell_type": "code",
   "execution_count": null,
   "metadata": {
    "colab": {
     "base_uri": "https://localhost:8080/"
    },
    "executionInfo": {
     "elapsed": 31,
     "status": "ok",
     "timestamp": 1700809501451,
     "user": {
      "displayName": "Jan",
      "userId": "15086773509541200420"
     },
     "user_tz": -480
    },
    "id": "jG0B2kpNPP1K",
    "outputId": "55b88b89-5546-479a-bab0-19c6153ab758"
   },
   "outputs": [],
   "source": [
    "clean_df['Transportation_used'].unique()"
   ]
  },
  {
   "cell_type": "code",
   "execution_count": null,
   "metadata": {
    "colab": {
     "base_uri": "https://localhost:8080/",
     "height": 226
    },
    "executionInfo": {
     "elapsed": 27,
     "status": "ok",
     "timestamp": 1700809501451,
     "user": {
      "displayName": "Jan",
      "userId": "15086773509541200420"
     },
     "user_tz": -480
    },
    "id": "tsB_uivbCs26",
    "outputId": "c7821697-b55b-43fd-f0a8-987b67a4294a"
   },
   "outputs": [],
   "source": [
    "# Split the data into training and validation sets\n",
    "# identify target y and features x\n",
    "\n",
    "X = clean_df.drop(columns=['Obesity_Levels'])\n",
    "y = clean_df['Obesity_Levels']\n",
    "X.head()"
   ]
  },
  {
   "cell_type": "code",
   "execution_count": null,
   "metadata": {
    "executionInfo": {
     "elapsed": 26,
     "status": "ok",
     "timestamp": 1700809501451,
     "user": {
      "displayName": "Jan",
      "userId": "15086773509541200420"
     },
     "user_tz": -480
    },
    "id": "vV-8y4tgIAdg"
   },
   "outputs": [],
   "source": [
    "# split training and test\n",
    "# set random_state to 42 for reproducibility\n",
    "X_train, X_test, y_train, y_test = train_test_split(X, y, random_state=42)"
   ]
  },
  {
   "cell_type": "code",
   "execution_count": null,
   "metadata": {
    "colab": {
     "base_uri": "https://localhost:8080/"
    },
    "executionInfo": {
     "elapsed": 25,
     "status": "ok",
     "timestamp": 1700809501451,
     "user": {
      "displayName": "Jan",
      "userId": "15086773509541200420"
     },
     "user_tz": -480
    },
    "id": "1txpt6dacaZs",
    "outputId": "e3b5034d-c1db-40ba-ecb5-deaea1731821"
   },
   "outputs": [],
   "source": [
    "# Ordinal Encoding 'Gender'\n",
    "change_dictionary = {'Male':0, 'Female':1}\n",
    "clean_df['Gender'].replace(change_dictionary, inplace=True)\n",
    "clean_df['Gender']"
   ]
  },
  {
   "cell_type": "code",
   "execution_count": null,
   "metadata": {
    "executionInfo": {
     "elapsed": 24,
     "status": "ok",
     "timestamp": 1700809501452,
     "user": {
      "displayName": "Jan",
      "userId": "15086773509541200420"
     },
     "user_tz": -480
    },
    "id": "aq40MVzfI2wM"
   },
   "outputs": [],
   "source": [
    "#instantiate the encoder\n",
    "scaler = StandardScaler()\n",
    "scaler2 = StandardScaler()\n",
    "encoder = OneHotEncoder(sparse=False, handle_unknown='ignore')"
   ]
  },
  {
   "cell_type": "code",
   "execution_count": null,
   "metadata": {
    "executionInfo": {
     "elapsed": 23,
     "status": "ok",
     "timestamp": 1700809501452,
     "user": {
      "displayName": "Jan",
      "userId": "15086773509541200420"
     },
     "user_tz": -480
    },
    "id": "9kt-OoT6c2uS"
   },
   "outputs": [],
   "source": [
    "# clean_df['Alcohol_consumption'].unique()"
   ]
  },
  {
   "cell_type": "code",
   "execution_count": null,
   "metadata": {
    "colab": {
     "base_uri": "https://localhost:8080/"
    },
    "executionInfo": {
     "elapsed": 23,
     "status": "ok",
     "timestamp": 1700809501452,
     "user": {
      "displayName": "Jan",
      "userId": "15086773509541200420"
     },
     "user_tz": -480
    },
    "id": "DoPP0d9DdBNp",
    "outputId": "c501a5da-663b-4c7c-ac79-db661c29a35a"
   },
   "outputs": [],
   "source": [
    "clean_df['Consumption_food_between_meals'].unique()"
   ]
  },
  {
   "cell_type": "code",
   "execution_count": null,
   "metadata": {
    "colab": {
     "base_uri": "https://localhost:8080/"
    },
    "executionInfo": {
     "elapsed": 21,
     "status": "ok",
     "timestamp": 1700809501452,
     "user": {
      "displayName": "Jan",
      "userId": "15086773509541200420"
     },
     "user_tz": -480
    },
    "id": "hwXc0M8ScROa",
    "outputId": "3fc52a32-4441-4a27-f362-8dbde9d8bf21"
   },
   "outputs": [],
   "source": [
    "food_consume = ['no', 'Sometimes', 'Frequently', 'Always']\n",
    "alcohol_consume = ['Sometimes', 'Frequently', 'Always', 'no']\n",
    "\n",
    "ordered_labels = [food_consume, alcohol_consume]\n",
    "ordered_labels"
   ]
  },
  {
   "cell_type": "code",
   "execution_count": null,
   "metadata": {
    "executionInfo": {
     "elapsed": 19,
     "status": "ok",
     "timestamp": 1700809501453,
     "user": {
      "displayName": "Jan",
      "userId": "15086773509541200420"
     },
     "user_tz": -480
    },
    "id": "eYBSZOERXN1_"
   },
   "outputs": [],
   "source": [
    "# instantiate code\n",
    "ordinal_enc = OrdinalEncoder(categories=ordered_labels)"
   ]
  },
  {
   "cell_type": "code",
   "execution_count": null,
   "metadata": {
    "executionInfo": {
     "elapsed": 19,
     "status": "ok",
     "timestamp": 1700809501453,
     "user": {
      "displayName": "Jan",
      "userId": "15086773509541200420"
     },
     "user_tz": -480
    },
    "id": "7Mjmv_AzXTJP"
   },
   "outputs": [],
   "source": [
    "# create a pipeline for nominal, numeric and ordinal data\n",
    "\n",
    "# nominal data -> imputer, one-hot encode\n",
    "nom_pipe = make_pipeline(encoder)\n",
    "\n",
    "# ordinal data -> imputer, ordinal encoding, scaling\n",
    "ord_pipe = make_pipeline(ordinal_enc, scaler2)\n",
    "\n",
    "# numeric data -> imputer, scaler\n",
    "num_pipe = make_pipeline(scaler)\n",
    "\n",
    "\n",
    "\n",
    "\n",
    "# # instantiate the column selectors\n",
    "# # create a var that contains only the cols with dtypes object and number\n",
    "# num_selector = make_column_selector(dtype_include='number')\n",
    "# cat_selector = make_column_selector(dtype_include='object')"
   ]
  },
  {
   "cell_type": "code",
   "execution_count": null,
   "metadata": {
    "colab": {
     "base_uri": "https://localhost:8080/"
    },
    "executionInfo": {
     "elapsed": 18,
     "status": "ok",
     "timestamp": 1700809501453,
     "user": {
      "displayName": "Jan",
      "userId": "15086773509541200420"
     },
     "user_tz": -480
    },
    "id": "kBjLd-5YYw6l",
    "outputId": "7a89734f-49b1-4c70-b774-33b80dcbd594"
   },
   "outputs": [],
   "source": [
    "clean_df.columns"
   ]
  },
  {
   "cell_type": "code",
   "execution_count": null,
   "metadata": {
    "executionInfo": {
     "elapsed": 17,
     "status": "ok",
     "timestamp": 1700809501454,
     "user": {
      "displayName": "Jan",
      "userId": "15086773509541200420"
     },
     "user_tz": -480
    },
    "id": "I7itF2R1Ys8s"
   },
   "outputs": [],
   "source": [
    "# select the column corresponding to the type of data\n",
    "ordinal_cols = ['Consumption_food_between_meals','Alcohol_consumption']\n",
    "nominal_cols = ['Family_history_with_overweight', 'Frequency_highcaloricfood_consumption', 'Smoking_status', 'Monitoring_calorie_consumption', 'Transportation_used', 'Gender']\n",
    "num_selector = make_column_selector(dtype_include='number')\n",
    "\n",
    "# # pairing of pipeline and the corresponding columns\n",
    "nom_tuple = (nom_pipe, nominal_cols)\n",
    "ord_tuple = (ord_pipe, ordinal_cols)\n",
    "num_tuple = (num_pipe, num_selector)"
   ]
  },
  {
   "cell_type": "code",
   "execution_count": null,
   "metadata": {
    "executionInfo": {
     "elapsed": 17,
     "status": "ok",
     "timestamp": 1700809501454,
     "user": {
      "displayName": "Jan",
      "userId": "15086773509541200420"
     },
     "user_tz": -480
    },
    "id": "U8txdqjNZpxo"
   },
   "outputs": [],
   "source": [
    "preprocessor = make_column_transformer(ord_tuple, num_tuple, nom_tuple, remainder='passthrough')"
   ]
  },
  {
   "cell_type": "code",
   "execution_count": null,
   "metadata": {
    "colab": {
     "base_uri": "https://localhost:8080/",
     "height": 214
    },
    "executionInfo": {
     "elapsed": 693,
     "status": "ok",
     "timestamp": 1700809502131,
     "user": {
      "displayName": "Jan",
      "userId": "15086773509541200420"
     },
     "user_tz": -480
    },
    "id": "EWUANrJVZ7k3",
    "outputId": "98b26d31-5d41-4ce4-ad65-a92ef1efebe6"
   },
   "outputs": [],
   "source": [
    "preprocessor.fit(X_train)"
   ]
  },
  {
   "cell_type": "code",
   "execution_count": null,
   "metadata": {
    "executionInfo": {
     "elapsed": 9,
     "status": "ok",
     "timestamp": 1700809502131,
     "user": {
      "displayName": "Jan",
      "userId": "15086773509541200420"
     },
     "user_tz": -480
    },
    "id": "6jlk2TswfnCr"
   },
   "outputs": [],
   "source": [
    "# Define a function that takes in arguments and prints out a classification report and confusion matrices\n",
    "def evaluate_classification(model, X_test, y_test, cmap=None,\n",
    "                            normalize='true', classes=None, figsize=(20,8)):\n",
    "  \"\"\"Given a model, features, and labels, prints a classification report and\n",
    "  confusion matrices\"\"\"\n",
    "\n",
    "  test_preds = model.predict(X_test)\n",
    "  print(metrics.classification_report(y_test, test_preds, target_names=classes))\n",
    "\n",
    "  fig, ax = plt.subplots(ncols=2, figsize=figsize)\n",
    "  ConfusionMatrixDisplay.from_estimator(model, X_test, y_test, cmap='Greens',\n",
    "                                        display_labels=classes,\n",
    "                                        ax=ax[0])\n",
    "  ax[0].set_title('Not Normalized')\n",
    "\n",
    "  ConfusionMatrixDisplay.from_estimator(model, X_test, y_test, cmap='Blues',\n",
    "                                        display_labels=classes, normalize='true',\n",
    "                                        ax=ax[1])\n",
    "  ax[1].set_title('Normalized Along True Axis')\n",
    "\n",
    "  plt.show()"
   ]
  },
  {
   "cell_type": "markdown",
   "metadata": {
    "id": "dCfshhOPbTnN"
   },
   "source": [
    "##Machine Learning Model - Random Forest"
   ]
  },
  {
   "cell_type": "code",
   "execution_count": null,
   "metadata": {
    "colab": {
     "base_uri": "https://localhost:8080/",
     "height": 290
    },
    "executionInfo": {
     "elapsed": 679,
     "status": "ok",
     "timestamp": 1700809502802,
     "user": {
      "displayName": "Jan",
      "userId": "15086773509541200420"
     },
     "user_tz": -480
    },
    "id": "0N66jHPqYGhb",
    "outputId": "c7de0813-d09b-49bf-c34a-4cdd1c1a7ba4"
   },
   "outputs": [],
   "source": [
    "# instantiate the model\n",
    "rforr = RandomForestClassifier()\n",
    "\n",
    "# create ML pipe\n",
    "rforr_pipe = make_pipeline(preprocessor, rforr)\n",
    "\n",
    "# fit the model\n",
    "rforr_pipe.fit(X_train, y_train)"
   ]
  },
  {
   "cell_type": "code",
   "execution_count": null,
   "metadata": {
    "colab": {
     "base_uri": "https://localhost:8080/"
    },
    "executionInfo": {
     "elapsed": 375,
     "status": "ok",
     "timestamp": 1700809503168,
     "user": {
      "displayName": "Jan",
      "userId": "15086773509541200420"
     },
     "user_tz": -480
    },
    "id": "y9wgqYKdbfH9",
    "outputId": "bfe2823f-75dd-4edc-b0d1-a4d7c0f88925"
   },
   "outputs": [],
   "source": [
    "# Run a classification report on both train and test datasets for the best model.\n",
    "rforr_train_pred = rforr_pipe.predict(X_train)\n",
    "rforr_test_pred = rforr_pipe.predict(X_test)\n",
    "\n",
    "print('training scores')\n",
    "print(classification_report(y_train, rforr_train_pred))\n",
    "\n",
    "print('testing scores')\n",
    "print(classification_report(y_test, rforr_test_pred))"
   ]
  },
  {
   "cell_type": "code",
   "execution_count": null,
   "metadata": {
    "colab": {
     "base_uri": "https://localhost:8080/",
     "height": 943
    },
    "executionInfo": {
     "elapsed": 2541,
     "status": "ok",
     "timestamp": 1700809505707,
     "user": {
      "displayName": "Jan",
      "userId": "15086773509541200420"
     },
     "user_tz": -480
    },
    "id": "Aril69X9k9YB",
    "outputId": "708ec0c4-88b8-46a7-a068-1287dabb6060"
   },
   "outputs": [],
   "source": [
    "# # evaluate the model\n",
    "evaluate_classification(rforr_pipe, X_test, y_test)"
   ]
  },
  {
   "cell_type": "code",
   "execution_count": null,
   "metadata": {
    "executionInfo": {
     "elapsed": 16,
     "status": "ok",
     "timestamp": 1700809505707,
     "user": {
      "displayName": "Jan",
      "userId": "15086773509541200420"
     },
     "user_tz": -480
    },
    "id": "DfSOXrMPoqRa"
   },
   "outputs": [],
   "source": [
    "# plt.figure(figsize = (18,8))\n",
    "# sns.heatmap(metrics.confusion_matrix(y_test, rforr_test_pred), annot = True, xticklabels = y_test.unique(), yticklabels = y_test.unique(), cmap = 'summer')\n",
    "# plt.xlabel('Predicted Labels')\n",
    "# plt.ylabel('True Labels')\n",
    "# plt.show()"
   ]
  },
  {
   "cell_type": "code",
   "execution_count": null,
   "metadata": {
    "colab": {
     "base_uri": "https://localhost:8080/"
    },
    "executionInfo": {
     "elapsed": 15,
     "status": "ok",
     "timestamp": 1700809505707,
     "user": {
      "displayName": "Jan",
      "userId": "15086773509541200420"
     },
     "user_tz": -480
    },
    "id": "QfPzRF1fhgHf",
    "outputId": "2afc6784-7a07-434f-db9f-1207bdb40d7a"
   },
   "outputs": [],
   "source": [
    "# hyperparameter tuning using GridSearchCV\n",
    "rforr_pipe.get_params()"
   ]
  },
  {
   "cell_type": "code",
   "execution_count": null,
   "metadata": {
    "executionInfo": {
     "elapsed": 12,
     "status": "ok",
     "timestamp": 1700809505708,
     "user": {
      "displayName": "Jan",
      "userId": "15086773509541200420"
     },
     "user_tz": -480
    },
    "id": "SceyE86JhiB_"
   },
   "outputs": [],
   "source": [
    "# select params\n",
    "params = {\n",
    "    'randomforestclassifier__max_depth': [1, 2, 15],\n",
    "    'randomforestclassifier__max_leaf_nodes': [1, 25]}"
   ]
  },
  {
   "cell_type": "code",
   "execution_count": null,
   "metadata": {
    "executionInfo": {
     "elapsed": 12,
     "status": "ok",
     "timestamp": 1700809505708,
     "user": {
      "displayName": "Jan",
      "userId": "15086773509541200420"
     },
     "user_tz": -480
    },
    "id": "G18AXVhChpU5"
   },
   "outputs": [],
   "source": [
    "# create ML pipe\n",
    "rforr_pipe2 = make_pipeline(preprocessor, rforr)\n",
    "\n",
    "# instantiate the grid\n",
    "rforr_grid = GridSearchCV(estimator = rforr_pipe2, param_grid = params,\n",
    "                        scoring = 'accuracy', cv = 3, verbose = 1, n_jobs = -1)"
   ]
  },
  {
   "cell_type": "code",
   "execution_count": null,
   "metadata": {
    "colab": {
     "base_uri": "https://localhost:8080/",
     "height": 788
    },
    "executionInfo": {
     "elapsed": 6025,
     "status": "ok",
     "timestamp": 1700809511721,
     "user": {
      "displayName": "Jan",
      "userId": "15086773509541200420"
     },
     "user_tz": -480
    },
    "id": "ID1BqSqJhxU4",
    "outputId": "653524e8-a7ac-4103-fe23-e5ccb3ba23c5"
   },
   "outputs": [],
   "source": [
    "# fit the model\n",
    "rforr_grid.fit(X_train, y_train)"
   ]
  },
  {
   "cell_type": "code",
   "execution_count": null,
   "metadata": {
    "colab": {
     "base_uri": "https://localhost:8080/"
    },
    "executionInfo": {
     "elapsed": 41,
     "status": "ok",
     "timestamp": 1700809511721,
     "user": {
      "displayName": "Jan",
      "userId": "15086773509541200420"
     },
     "user_tz": -480
    },
    "id": "aLt0EVf2h5KW",
    "outputId": "fb453da4-706e-4655-9722-273eab295689"
   },
   "outputs": [],
   "source": [
    "# get the best params\n",
    "rforr_grid.best_params_"
   ]
  },
  {
   "cell_type": "code",
   "execution_count": null,
   "metadata": {
    "executionInfo": {
     "elapsed": 35,
     "status": "ok",
     "timestamp": 1700809511722,
     "user": {
      "displayName": "Jan",
      "userId": "15086773509541200420"
     },
     "user_tz": -480
    },
    "id": "Q2IgnsM6h_Of"
   },
   "outputs": [],
   "source": [
    "# save the params\n",
    "rforr_cv = rforr_grid.best_estimator_"
   ]
  },
  {
   "cell_type": "code",
   "execution_count": null,
   "metadata": {
    "colab": {
     "base_uri": "https://localhost:8080/",
     "height": 290
    },
    "executionInfo": {
     "elapsed": 516,
     "status": "ok",
     "timestamp": 1700809512204,
     "user": {
      "displayName": "Jan",
      "userId": "15086773509541200420"
     },
     "user_tz": -480
    },
    "id": "N-IYi3t-iCcM",
    "outputId": "e77d5566-5d71-4432-a058-64a797e7759c"
   },
   "outputs": [],
   "source": [
    "# fit the model using best params\n",
    "rforr_cv.fit(X_train, y_train)"
   ]
  },
  {
   "cell_type": "code",
   "execution_count": null,
   "metadata": {
    "colab": {
     "base_uri": "https://localhost:8080/"
    },
    "executionInfo": {
     "elapsed": 8,
     "status": "ok",
     "timestamp": 1700809512205,
     "user": {
      "displayName": "Jan",
      "userId": "15086773509541200420"
     },
     "user_tz": -480
    },
    "id": "eabajWZuiHE0",
    "outputId": "ede6493d-eb2f-4a43-c035-0b021b069804"
   },
   "outputs": [],
   "source": [
    "# run predictions and classification report\n",
    "rforr_cv_train_pred = rforr_cv.predict(X_train)\n",
    "rforr_cv_test_pred = rforr_cv.predict(X_test)\n",
    "\n",
    "print('training scores')\n",
    "print(classification_report(y_train, rforr_cv_train_pred))\n",
    "\n",
    "print('testing scores')\n",
    "print(classification_report(y_test, rforr_cv_test_pred))"
   ]
  },
  {
   "cell_type": "code",
   "execution_count": null,
   "metadata": {
    "colab": {
     "base_uri": "https://localhost:8080/",
     "height": 700
    },
    "executionInfo": {
     "elapsed": 1174,
     "status": "ok",
     "timestamp": 1700809513373,
     "user": {
      "displayName": "Jan",
      "userId": "15086773509541200420"
     },
     "user_tz": -480
    },
    "id": "ZY9IW4M9qXqr",
    "outputId": "f6349f0b-faa8-4a80-ef43-05f885ed218d"
   },
   "outputs": [],
   "source": [
    "plt.figure(figsize = (18,8))\n",
    "sns.heatmap(metrics.confusion_matrix(y_test, rforr_cv_test_pred), annot = True, xticklabels = y_test.unique(), yticklabels = y_test.unique(), cmap = 'summer')\n",
    "plt.xlabel('Predicted Labels')\n",
    "plt.ylabel('True Labels')\n",
    "plt.show()"
   ]
  },
  {
   "cell_type": "code",
   "execution_count": null,
   "metadata": {
    "colab": {
     "base_uri": "https://localhost:8080/",
     "height": 943
    },
    "executionInfo": {
     "elapsed": 1070,
     "status": "ok",
     "timestamp": 1700809514433,
     "user": {
      "displayName": "Jan",
      "userId": "15086773509541200420"
     },
     "user_tz": -480
    },
    "id": "QTS3BepBfLtG",
    "outputId": "df4c0c02-6bdc-4b7d-d4bb-4033c5bd0970"
   },
   "outputs": [],
   "source": [
    "# evaluate the model\n",
    "evaluate_classification(rforr_cv, X_test, y_test)"
   ]
  },
  {
   "cell_type": "markdown",
   "metadata": {
    "id": "lbie3_vaxSnm"
   },
   "source": [
    "##Machine Learning: KNN"
   ]
  },
  {
   "cell_type": "code",
   "execution_count": null,
   "metadata": {
    "colab": {
     "base_uri": "https://localhost:8080/",
     "height": 290
    },
    "executionInfo": {
     "elapsed": 16,
     "status": "ok",
     "timestamp": 1700809514433,
     "user": {
      "displayName": "Jan",
      "userId": "15086773509541200420"
     },
     "user_tz": -480
    },
    "id": "iPMl8h3BxR33",
    "outputId": "49d754d6-e7eb-4b43-92c6-34c42082399a"
   },
   "outputs": [],
   "source": [
    "# instantiate the model\n",
    "knn = KNeighborsClassifier()\n",
    "\n",
    "# combine the preprocessor object and the KNN regression model in a pipeline\n",
    "knn_pipe = make_pipeline(preprocessor, knn)\n",
    "\n",
    "# fit your pipe on the training data\n",
    "knn_pipe.fit(X_train, y_train)"
   ]
  },
  {
   "cell_type": "code",
   "execution_count": null,
   "metadata": {
    "colab": {
     "base_uri": "https://localhost:8080/"
    },
    "executionInfo": {
     "elapsed": 530,
     "status": "ok",
     "timestamp": 1700809514954,
     "user": {
      "displayName": "Jan",
      "userId": "15086773509541200420"
     },
     "user_tz": -480
    },
    "id": "_Z3SWGT4xbN4",
    "outputId": "ad1a5eae-404c-4dc4-8b06-f6ae3cab10dd"
   },
   "outputs": [],
   "source": [
    "# Run a classification report on both train and test datasets for the best model.\n",
    "knn_train_pred = knn_pipe.predict(X_train)\n",
    "knn_test_pred = knn_pipe.predict(X_test)\n",
    "\n",
    "print('training scores')\n",
    "print(classification_report(y_train, knn_train_pred))\n",
    "\n",
    "print('testing scores')\n",
    "print(classification_report(y_test, knn_test_pred))"
   ]
  },
  {
   "cell_type": "code",
   "execution_count": null,
   "metadata": {
    "colab": {
     "base_uri": "https://localhost:8080/",
     "height": 943
    },
    "executionInfo": {
     "elapsed": 1042,
     "status": "ok",
     "timestamp": 1700809515986,
     "user": {
      "displayName": "Jan",
      "userId": "15086773509541200420"
     },
     "user_tz": -480
    },
    "id": "D7g52T6XydRL",
    "outputId": "3b83ed83-8e2f-4965-ffc8-52dab34df800"
   },
   "outputs": [],
   "source": [
    "# evaluate the model\n",
    "evaluate_classification(knn_pipe, X_test, y_test)"
   ]
  },
  {
   "cell_type": "code",
   "execution_count": null,
   "metadata": {
    "colab": {
     "base_uri": "https://localhost:8080/"
    },
    "executionInfo": {
     "elapsed": 27,
     "status": "ok",
     "timestamp": 1700809515986,
     "user": {
      "displayName": "Jan",
      "userId": "15086773509541200420"
     },
     "user_tz": -480
    },
    "id": "5nPU-3gizDlX",
    "outputId": "09e86615-5034-4126-a57d-b497f3b07f51"
   },
   "outputs": [],
   "source": [
    "# hyperparameter tuning using GridSearchCV\n",
    "knn_pipe.get_params()"
   ]
  },
  {
   "cell_type": "code",
   "execution_count": null,
   "metadata": {
    "executionInfo": {
     "elapsed": 18,
     "status": "ok",
     "timestamp": 1700809515987,
     "user": {
      "displayName": "Jan",
      "userId": "15086773509541200420"
     },
     "user_tz": -480
    },
    "id": "lgh5G7UU0ofQ"
   },
   "outputs": [],
   "source": [
    "# select params\n",
    "params = {'kneighborsclassifier__n_neighbors': range(1, 5, 20),\n",
    "          'kneighborsclassifier__weights':['uniform','distance']\n",
    "          }"
   ]
  },
  {
   "cell_type": "code",
   "execution_count": null,
   "metadata": {
    "colab": {
     "base_uri": "https://localhost:8080/",
     "height": 335
    },
    "executionInfo": {
     "elapsed": 786,
     "status": "ok",
     "timestamp": 1700809516757,
     "user": {
      "displayName": "Jan",
      "userId": "15086773509541200420"
     },
     "user_tz": -480
    },
    "id": "fWFfBhd50smH",
    "outputId": "a781ecfc-37f2-4a1b-b501-330074d87d93"
   },
   "outputs": [],
   "source": [
    "# create ML pipe\n",
    "knn_pipe2 = make_pipeline(preprocessor, knn)\n",
    "\n",
    "# instantiate the grid\n",
    "knn_grid = GridSearchCV(estimator = knn_pipe2, param_grid = params,\n",
    "                        scoring = 'accuracy', cv = 3, verbose = 1, n_jobs = -1)\n",
    "\n",
    "# fit the model\n",
    "knn_grid.fit(X_train, y_train)"
   ]
  },
  {
   "cell_type": "code",
   "execution_count": null,
   "metadata": {
    "colab": {
     "base_uri": "https://localhost:8080/"
    },
    "executionInfo": {
     "elapsed": 54,
     "status": "ok",
     "timestamp": 1700809516758,
     "user": {
      "displayName": "Jan",
      "userId": "15086773509541200420"
     },
     "user_tz": -480
    },
    "id": "xV0vtkp905oW",
    "outputId": "75c90893-e2dd-4e31-bd3e-22c3cc19eb80"
   },
   "outputs": [],
   "source": [
    "# get the best params\n",
    "knn_grid.best_params_"
   ]
  },
  {
   "cell_type": "code",
   "execution_count": null,
   "metadata": {
    "executionInfo": {
     "elapsed": 50,
     "status": "ok",
     "timestamp": 1700809516758,
     "user": {
      "displayName": "Jan",
      "userId": "15086773509541200420"
     },
     "user_tz": -480
    },
    "id": "nnhOg7dP0-eG"
   },
   "outputs": [],
   "source": [
    "# save the params\n",
    "knn_cv = knn_grid.best_estimator_"
   ]
  },
  {
   "cell_type": "code",
   "execution_count": null,
   "metadata": {
    "colab": {
     "base_uri": "https://localhost:8080/",
     "height": 290
    },
    "executionInfo": {
     "elapsed": 51,
     "status": "ok",
     "timestamp": 1700809516760,
     "user": {
      "displayName": "Jan",
      "userId": "15086773509541200420"
     },
     "user_tz": -480
    },
    "id": "O1riYFU01Cgu",
    "outputId": "eafd4995-e774-437b-b162-48c1e2595c39"
   },
   "outputs": [],
   "source": [
    "# fit the model using best params\n",
    "knn_cv.fit(X_train, y_train)"
   ]
  },
  {
   "cell_type": "code",
   "execution_count": null,
   "metadata": {
    "colab": {
     "base_uri": "https://localhost:8080/"
    },
    "executionInfo": {
     "elapsed": 45,
     "status": "ok",
     "timestamp": 1700809516760,
     "user": {
      "displayName": "Jan",
      "userId": "15086773509541200420"
     },
     "user_tz": -480
    },
    "id": "SWIaoMsB1JXJ",
    "outputId": "3a3041f7-76bb-40bb-bad6-af35b1e768f1"
   },
   "outputs": [],
   "source": [
    "# Run a classification report on both train and test datasets for the best model.\n",
    "knn2_train_pred = knn_cv.predict(X_train)\n",
    "knn2_test_pred = knn_cv.predict(X_test)\n",
    "\n",
    "print('training scores')\n",
    "print(classification_report(y_train, knn2_train_pred))\n",
    "\n",
    "print('testing scores')\n",
    "print(classification_report(y_test, knn2_test_pred))"
   ]
  },
  {
   "cell_type": "markdown",
   "metadata": {
    "id": "7rwDzFtnwSA4"
   },
   "source": [
    "##Machine Learning: XGBoost"
   ]
  },
  {
   "cell_type": "code",
   "execution_count": null,
   "metadata": {
    "executionInfo": {
     "elapsed": 42,
     "status": "ok",
     "timestamp": 1700809516760,
     "user": {
      "displayName": "Jan",
      "userId": "15086773509541200420"
     },
     "user_tz": -480
    },
    "id": "wPYU4Z4MxM63"
   },
   "outputs": [],
   "source": [
    "# # # ordinal encode Obesity_Levels\n",
    "\n",
    "# change_dictionary = {'Normal_Weight':0,\n",
    "#                      'Overweight_Level_I':1,\n",
    "#                      'Overweight_Level_II':2,\n",
    "#                      'Overweight_Level_III':3,\n",
    "#                      'Obesity_Type_I':4,\n",
    "#                      'Obesity_Type_II':5,\n",
    "#                      'Obesity_Type_III':6,\n",
    "#                      'Insufficient_Weight':7}\n",
    "# clean_df['Obesity_Levels'].replace(change_dictionary, inplace=True)\n",
    "# clean_df['Obesity_Levels']\n",
    "\n",
    "change_dictionary = {\n",
    "    'Normal_Weight': 0,\n",
    "    'Overweight_Level_I': 1,\n",
    "    'Overweight_Level_II': 2,\n",
    "    'Obesity_Type_I': 3,\n",
    "    'Obesity_Type_II': 4,\n",
    "    'Obesity_Type_III': 5,\n",
    "    'Insufficient_Weight': 6\n",
    "}"
   ]
  },
  {
   "cell_type": "code",
   "execution_count": null,
   "metadata": {
    "executionInfo": {
     "elapsed": 41,
     "status": "ok",
     "timestamp": 1700809516760,
     "user": {
      "displayName": "Jan",
      "userId": "15086773509541200420"
     },
     "user_tz": -480
    },
    "id": "wqtawJVu7OXP"
   },
   "outputs": [],
   "source": [
    "# Apply this encoding to your y_train dataset\n",
    "y_train_encoded = y_train.replace(change_dictionary)"
   ]
  },
  {
   "cell_type": "code",
   "execution_count": null,
   "metadata": {
    "executionInfo": {
     "elapsed": 40,
     "status": "ok",
     "timestamp": 1700809516760,
     "user": {
      "displayName": "Jan",
      "userId": "15086773509541200420"
     },
     "user_tz": -480
    },
    "id": "VFnzZVswA9nT"
   },
   "outputs": [],
   "source": [
    "# Apply this encoding to your y_train dataset\n",
    "y_test_encoded = y_test.replace(change_dictionary)"
   ]
  },
  {
   "cell_type": "code",
   "execution_count": null,
   "metadata": {
    "executionInfo": {
     "elapsed": 40,
     "status": "ok",
     "timestamp": 1700809516761,
     "user": {
      "displayName": "Jan",
      "userId": "15086773509541200420"
     },
     "user_tz": -480
    },
    "id": "-p9W5O9cfWJd"
   },
   "outputs": [],
   "source": [
    "# instantiate the model\n",
    "xgb = XGBClassifier()\n",
    "\n",
    "# create ML pipe\n",
    "xgb_pipe=make_pipeline(preprocessor,xgb)"
   ]
  },
  {
   "cell_type": "code",
   "execution_count": null,
   "metadata": {
    "colab": {
     "base_uri": "https://localhost:8080/",
     "height": 290
    },
    "executionInfo": {
     "elapsed": 40,
     "status": "ok",
     "timestamp": 1700809516761,
     "user": {
      "displayName": "Jan",
      "userId": "15086773509541200420"
     },
     "user_tz": -480
    },
    "id": "CqN4i_Q0w9ec",
    "outputId": "c51714ca-ed14-4297-fed2-58c5c1a332f9"
   },
   "outputs": [],
   "source": [
    "# fit the model\n",
    "# xgb_pipe.fit(X_train,y_train)\n",
    "\n",
    "# fit the model\n",
    "xgb_pipe.fit(X_train,y_train_encoded)"
   ]
  },
  {
   "cell_type": "code",
   "execution_count": null,
   "metadata": {
    "colab": {
     "base_uri": "https://localhost:8080/"
    },
    "executionInfo": {
     "elapsed": 401,
     "status": "ok",
     "timestamp": 1700809517126,
     "user": {
      "displayName": "Jan",
      "userId": "15086773509541200420"
     },
     "user_tz": -480
    },
    "id": "2fNlVDw2xDuj",
    "outputId": "889e740e-fa3b-488a-d7ba-c21b0b9be76b"
   },
   "outputs": [],
   "source": [
    "# Run a classification report on both train and test datasets for the best model.\n",
    "xgb_train_pred = xgb_pipe.predict(X_train)\n",
    "xgb_test_pred = xgb_pipe.predict(X_test)\n",
    "\n",
    "print('training scores')\n",
    "print(classification_report(y_train_encoded, xgb_train_pred))\n",
    "\n",
    "print('testing scores')\n",
    "print(classification_report(y_test_encoded, xgb_test_pred))"
   ]
  },
  {
   "cell_type": "code",
   "execution_count": null,
   "metadata": {
    "colab": {
     "base_uri": "https://localhost:8080/"
    },
    "executionInfo": {
     "elapsed": 18,
     "status": "ok",
     "timestamp": 1700809517127,
     "user": {
      "displayName": "Jan",
      "userId": "15086773509541200420"
     },
     "user_tz": -480
    },
    "id": "J7uaurKNAwsl",
    "outputId": "49497fcf-c251-4b4c-d0c6-680231ad86ef"
   },
   "outputs": [],
   "source": [
    "# hyperparameter tuning using GridSearchCV\n",
    "xgb_pipe.get_params()"
   ]
  },
  {
   "cell_type": "code",
   "execution_count": null,
   "metadata": {
    "executionInfo": {
     "elapsed": 13,
     "status": "ok",
     "timestamp": 1700809517127,
     "user": {
      "displayName": "Jan",
      "userId": "15086773509541200420"
     },
     "user_tz": -480
    },
    "id": "qCsXF8rRBPJr"
   },
   "outputs": [],
   "source": [
    "# select params\n",
    "params ={\n",
    "    'xgbclassifier__learning_rate': [0.01, 0.05, 0.1, 0.5],\n",
    "    'xgbclassifier__n_estimators': [10,50],\n",
    "    'xgbclassifier__max_depth': [3,4]\n",
    "    }"
   ]
  },
  {
   "cell_type": "code",
   "execution_count": null,
   "metadata": {
    "executionInfo": {
     "elapsed": 13,
     "status": "ok",
     "timestamp": 1700809517127,
     "user": {
      "displayName": "Jan",
      "userId": "15086773509541200420"
     },
     "user_tz": -480
    },
    "id": "JPdE52K9Bb45"
   },
   "outputs": [],
   "source": [
    "# create ML pipe\n",
    "xgb2_pipe = make_pipeline(preprocessor, xgb)\n",
    "\n",
    "# instantiate the grid\n",
    "xgb2_grid = GridSearchCV(estimator = xgb2_pipe, param_grid = params,\n",
    "                        scoring = 'accuracy', cv = 3, verbose = 1, n_jobs = -1)"
   ]
  },
  {
   "cell_type": "code",
   "execution_count": null,
   "metadata": {
    "colab": {
     "base_uri": "https://localhost:8080/",
     "height": 335
    },
    "executionInfo": {
     "elapsed": 11295,
     "status": "ok",
     "timestamp": 1700809528409,
     "user": {
      "displayName": "Jan",
      "userId": "15086773509541200420"
     },
     "user_tz": -480
    },
    "id": "q8_NThbPBtmQ",
    "outputId": "014a8e25-1d62-47b9-c000-29c97059b904"
   },
   "outputs": [],
   "source": [
    "# fit the model\n",
    "xgb2_grid.fit (X_train, y_train_encoded)"
   ]
  },
  {
   "cell_type": "code",
   "execution_count": null,
   "metadata": {
    "colab": {
     "base_uri": "https://localhost:8080/"
    },
    "executionInfo": {
     "elapsed": 47,
     "status": "ok",
     "timestamp": 1700809528410,
     "user": {
      "displayName": "Jan",
      "userId": "15086773509541200420"
     },
     "user_tz": -480
    },
    "id": "zQGRwFpLCH7l",
    "outputId": "2f92f569-95b9-4fc5-e80f-bfc9f65e835d"
   },
   "outputs": [],
   "source": [
    "# get the best params\n",
    "xgb2_grid.best_params_"
   ]
  },
  {
   "cell_type": "code",
   "execution_count": null,
   "metadata": {
    "executionInfo": {
     "elapsed": 41,
     "status": "ok",
     "timestamp": 1700809528411,
     "user": {
      "displayName": "Jan",
      "userId": "15086773509541200420"
     },
     "user_tz": -480
    },
    "id": "TGL4Vd6pCNC_"
   },
   "outputs": [],
   "source": [
    "# save the params\n",
    "xgb_cv = xgb2_grid.best_estimator_"
   ]
  },
  {
   "cell_type": "code",
   "execution_count": null,
   "metadata": {
    "colab": {
     "base_uri": "https://localhost:8080/",
     "height": 290
    },
    "executionInfo": {
     "elapsed": 40,
     "status": "ok",
     "timestamp": 1700809528411,
     "user": {
      "displayName": "Jan",
      "userId": "15086773509541200420"
     },
     "user_tz": -480
    },
    "id": "FOe9VD_QCTpc",
    "outputId": "69114886-0690-41c5-8d0a-0fa633611b5b"
   },
   "outputs": [],
   "source": [
    "# fit the model using best params\n",
    "xgb_cv.fit(X_train, y_train_encoded)"
   ]
  },
  {
   "cell_type": "code",
   "execution_count": null,
   "metadata": {
    "colab": {
     "base_uri": "https://localhost:8080/"
    },
    "executionInfo": {
     "elapsed": 34,
     "status": "ok",
     "timestamp": 1700809528412,
     "user": {
      "displayName": "Jan",
      "userId": "15086773509541200420"
     },
     "user_tz": -480
    },
    "id": "1mHPV6e7CYld",
    "outputId": "00361bf5-8106-4bb1-d280-49cdfe544177"
   },
   "outputs": [],
   "source": [
    "# Run a classification report on both train and test datasets for the best model.\n",
    "xgb2_train_pred = xgb_cv.predict(X_train)\n",
    "xgb2_test_pred = xgb_cv.predict(X_test)\n",
    "\n",
    "print('training scores')\n",
    "print(classification_report(y_train_encoded, xgb2_train_pred))\n",
    "\n",
    "print('testing scores')\n",
    "print(classification_report(y_test_encoded, xgb2_test_pred))"
   ]
  },
  {
   "cell_type": "code",
   "execution_count": null,
   "metadata": {
    "colab": {
     "base_uri": "https://localhost:8080/",
     "height": 943
    },
    "executionInfo": {
     "elapsed": 1455,
     "status": "ok",
     "timestamp": 1700809529837,
     "user": {
      "displayName": "Jan",
      "userId": "15086773509541200420"
     },
     "user_tz": -480
    },
    "id": "bxpXd7h5C--T",
    "outputId": "d02e326a-2592-4f4d-8676-a2626237ae86"
   },
   "outputs": [],
   "source": [
    "# evaluate the model\n",
    "evaluate_classification(xgb_cv, X_test, y_test_encoded)"
   ]
  },
  {
   "cell_type": "code",
   "execution_count": null,
   "metadata": {
    "executionInfo": {
     "elapsed": 19,
     "status": "ok",
     "timestamp": 1700809529837,
     "user": {
      "displayName": "Jan",
      "userId": "15086773509541200420"
     },
     "user_tz": -480
    },
    "id": "M67gu5l0DPAP"
   },
   "outputs": [],
   "source": []
  }
 ],
 "metadata": {
  "accelerator": "GPU",
  "colab": {
   "gpuType": "T4",
   "provenance": [
    {
     "file_id": "1KrtfQMzbbPLZ9Rkf34z_lXUmHhvXDYU3",
     "timestamp": 1700808720818
    },
    {
     "file_id": "1v-dzsOLVhTbrWWiJ6HFJXfsrLvbBBQz4",
     "timestamp": 1700768398242
    }
   ]
  },
  "kernelspec": {
   "display_name": "Python 3 (ipykernel)",
   "language": "python",
   "name": "python3"
  },
  "language_info": {
   "codemirror_mode": {
    "name": "ipython",
    "version": 3
   },
   "file_extension": ".py",
   "mimetype": "text/x-python",
   "name": "python",
   "nbconvert_exporter": "python",
   "pygments_lexer": "ipython3",
   "version": "3.10.14"
  }
 },
 "nbformat": 4,
 "nbformat_minor": 4
}
